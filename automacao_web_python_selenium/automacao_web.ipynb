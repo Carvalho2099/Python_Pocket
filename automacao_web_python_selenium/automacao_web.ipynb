{
 "cells": [
  {
   "cell_type": "markdown",
   "id": "2417a62d",
   "metadata": {},
   "source": [
    "# Automação Web com Python\n",
    "## Python e Selenum\n",
    "\n",
    "- Requisitos: \n",
    "    - instalar Selenium\n",
    "    - Baixar webdriver crhomedriver"
   ]
  },
  {
   "cell_type": "markdown",
   "id": "42561320",
   "metadata": {},
   "source": [
    "### Será usado o demonstrativo de Resultados da Magazine Luiza\n",
    "- passo 1: entrar em https://ri.magazineluiza.com.br/\n",
    "- passo 2: Clicar em \"Informações financeiras\"\n",
    "- passo 3: Clicar em \"Planilha de resultado\"\n",
    "- passo 4: Clicar em \" Planilha de Resultados Trimestrais\""
   ]
  },
  {
   "cell_type": "markdown",
   "id": "4972c2bc",
   "metadata": {},
   "source": [
    "### Instalando Selenium\n",
    "- pip install selenium"
   ]
  },
  {
   "cell_type": "markdown",
   "id": "e515742f",
   "metadata": {},
   "source": [
    "### Instalando Chromedriver\n",
    "- baixe o chromedriver da mesma versão de seu chrome\n",
    "- baixe e descompacte o arquivo comparivel com seu OS\n",
    "- copie o chromedriver.exe e cole na mesma pasta que esta instalado o seu python"
   ]
  },
  {
   "cell_type": "code",
   "execution_count": 8,
   "id": "e6f68b12",
   "metadata": {},
   "outputs": [
    {
     "name": "stderr",
     "output_type": "stream",
     "text": [
      "C:\\Users\\carva\\AppData\\Local\\Temp/ipykernel_20332/3191070095.py:6: DeprecationWarning: find_element_by_* commands are deprecated. Please use find_element() instead\n",
      "  navegador.find_element_by_xpath('//*[@id=\"/yn8cix7XmBHQ2FgNBrtCg==\"]').click()\n"
     ]
    }
   ],
   "source": [
    "from selenium import webdriver\n",
    "\n",
    "navegador = webdriver.Chrome()\n",
    "navegador.get(\"https://ri.magazineluiza.com.br/show.aspx?idCanal=CHN0/Z4bUSgrS8IkQeL+Wg==\")\n",
    "# wait.until.navegador.find_element_by_xpath('//*[@id=\"Form1\"]/header/div/div/div/div[2]/ul/li[3]/a').click()\n",
    "navegador.find_element_by_xpath('//*[@id=\"/yn8cix7XmBHQ2FgNBrtCg==\"]').click()"
   ]
  },
  {
   "cell_type": "code",
   "execution_count": null,
   "id": "cfb64f94",
   "metadata": {},
   "outputs": [],
   "source": []
  }
 ],
 "metadata": {
  "kernelspec": {
   "display_name": "Python 3 (ipykernel)",
   "language": "python",
   "name": "python3"
  },
  "language_info": {
   "codemirror_mode": {
    "name": "ipython",
    "version": 3
   },
   "file_extension": ".py",
   "mimetype": "text/x-python",
   "name": "python",
   "nbconvert_exporter": "python",
   "pygments_lexer": "ipython3",
   "version": "3.9.7"
  }
 },
 "nbformat": 4,
 "nbformat_minor": 5
}
