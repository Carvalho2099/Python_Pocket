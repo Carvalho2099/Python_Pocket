{
 "cells": [
  {
   "cell_type": "markdown",
   "id": "89443e79",
   "metadata": {},
   "source": [
    "# Trabalhando com datas e tempo no Python\n",
    "## Biblioteca: datetime"
   ]
  },
  {
   "cell_type": "markdown",
   "id": "349383ac",
   "metadata": {},
   "source": [
    "## Principais Classes\n",
    "- datetime.date - submódulo dedicado a datas\n",
    "- datetime.time - submódulo dedicado a tempo\n",
    "- datetime.datetime - submódulo dedicado para quando temos tanto tempo como data juntos\n",
    "- datetime.timedelta - usado quando o objetivo é saber a diferença entre períodos de tempo distintos"
   ]
  },
  {
   "cell_type": "code",
   "execution_count": 1,
   "id": "5f2636dd",
   "metadata": {},
   "outputs": [],
   "source": [
    "import datetime as dt"
   ]
  },
  {
   "cell_type": "code",
   "execution_count": 2,
   "id": "c615bbda",
   "metadata": {},
   "outputs": [
    {
     "name": "stdout",
     "output_type": "stream",
     "text": [
      "2022-01-07\n"
     ]
    }
   ],
   "source": [
    "data = dt.date(2022,1,7)\n",
    "print(data)"
   ]
  },
  {
   "cell_type": "code",
   "execution_count": 4,
   "id": "ffa9bf2e",
   "metadata": {},
   "outputs": [
    {
     "name": "stdout",
     "output_type": "stream",
     "text": [
      "<class 'datetime.date'>\n"
     ]
    }
   ],
   "source": [
    "print(type(data))"
   ]
  },
  {
   "cell_type": "markdown",
   "id": "4d8166b2",
   "metadata": {},
   "source": [
    "## Alterando formatação da data"
   ]
  },
  {
   "cell_type": "code",
   "execution_count": 11,
   "id": "2e28bfa1",
   "metadata": {},
   "outputs": [
    {
     "name": "stdout",
     "output_type": "stream",
     "text": [
      "Fri Jan  7 00:00:00 2022\n"
     ]
    }
   ],
   "source": [
    "print(data.ctime())"
   ]
  },
  {
   "cell_type": "code",
   "execution_count": 7,
   "id": "8309a5ad",
   "metadata": {},
   "outputs": [
    {
     "data": {
      "text/plain": [
       "7"
      ]
     },
     "execution_count": 7,
     "metadata": {},
     "output_type": "execute_result"
    }
   ],
   "source": [
    "dia = data.day\n",
    "dia"
   ]
  },
  {
   "cell_type": "code",
   "execution_count": 9,
   "id": "95aa6928",
   "metadata": {},
   "outputs": [
    {
     "data": {
      "text/plain": [
       "1"
      ]
     },
     "execution_count": 9,
     "metadata": {},
     "output_type": "execute_result"
    }
   ],
   "source": [
    "mes = data.month\n",
    "mes"
   ]
  },
  {
   "cell_type": "code",
   "execution_count": 10,
   "id": "fe4970be",
   "metadata": {},
   "outputs": [
    {
     "data": {
      "text/plain": [
       "2022"
      ]
     },
     "execution_count": 10,
     "metadata": {},
     "output_type": "execute_result"
    }
   ],
   "source": [
    "ano = data.year\n",
    "ano"
   ]
  },
  {
   "cell_type": "code",
   "execution_count": 12,
   "id": "97f4c106",
   "metadata": {},
   "outputs": [],
   "source": [
    "nova_data = data.replace(month = 12)"
   ]
  },
  {
   "cell_type": "code",
   "execution_count": 14,
   "id": "c24146c1",
   "metadata": {},
   "outputs": [
    {
     "name": "stdout",
     "output_type": "stream",
     "text": [
      "2022-01-07\n",
      "2022-12-07\n"
     ]
    }
   ],
   "source": [
    "print(data)\n",
    "print(nova_data)"
   ]
  },
  {
   "cell_type": "code",
   "execution_count": 15,
   "id": "84c244a0",
   "metadata": {},
   "outputs": [],
   "source": [
    "data_hoje = data.today()"
   ]
  },
  {
   "cell_type": "code",
   "execution_count": 17,
   "id": "6a545c8a",
   "metadata": {},
   "outputs": [
    {
     "name": "stdout",
     "output_type": "stream",
     "text": [
      "2022-01-07\n"
     ]
    }
   ],
   "source": [
    "print(data_hoje)"
   ]
  },
  {
   "cell_type": "markdown",
   "id": "a8efa7e9",
   "metadata": {},
   "source": [
    "## Fazendo operações entre duas datas"
   ]
  },
  {
   "cell_type": "code",
   "execution_count": 18,
   "id": "5a0b1d31",
   "metadata": {},
   "outputs": [],
   "source": [
    "delta = data_hoje - data"
   ]
  },
  {
   "cell_type": "code",
   "execution_count": 19,
   "id": "1f863889",
   "metadata": {},
   "outputs": [
    {
     "name": "stdout",
     "output_type": "stream",
     "text": [
      "0:00:00\n"
     ]
    }
   ],
   "source": [
    "print(delta)"
   ]
  },
  {
   "cell_type": "code",
   "execution_count": 20,
   "id": "6255abc6",
   "metadata": {},
   "outputs": [
    {
     "name": "stdout",
     "output_type": "stream",
     "text": [
      "2022-01-07\n"
     ]
    }
   ],
   "source": [
    "data_futuro = data_hoje + delta\n",
    "print(data_futuro)"
   ]
  },
  {
   "cell_type": "code",
   "execution_count": 21,
   "id": "9cc33bf4",
   "metadata": {},
   "outputs": [
    {
     "name": "stdout",
     "output_type": "stream",
     "text": [
      "12:45:23\n"
     ]
    }
   ],
   "source": [
    "hora = dt.time(12, 45, 23)\n",
    "print(hora)"
   ]
  },
  {
   "cell_type": "code",
   "execution_count": 23,
   "id": "fd4c8ffc",
   "metadata": {},
   "outputs": [
    {
     "name": "stdout",
     "output_type": "stream",
     "text": [
      "12\n",
      "45\n",
      "23\n"
     ]
    }
   ],
   "source": [
    "print(hora.hour)\n",
    "print(hora.minute)\n",
    "print(hora.second)"
   ]
  },
  {
   "cell_type": "code",
   "execution_count": 26,
   "id": "26082680",
   "metadata": {},
   "outputs": [
    {
     "name": "stdout",
     "output_type": "stream",
     "text": [
      "2014-04-14 07:18:19\n"
     ]
    }
   ],
   "source": [
    "data_tempo = dt.datetime(2014,4,14,7,18,19)\n",
    "print(data_tempo)"
   ]
  },
  {
   "cell_type": "code",
   "execution_count": 27,
   "id": "cd9567fa",
   "metadata": {},
   "outputs": [
    {
     "name": "stdout",
     "output_type": "stream",
     "text": [
      "2022-01-07 10:41:41.855927\n"
     ]
    }
   ],
   "source": [
    "agora = dt.datetime.now()\n",
    "print(agora)"
   ]
  },
  {
   "cell_type": "markdown",
   "id": "3a05218a",
   "metadata": {},
   "source": [
    "## Alterando texto de exibição da data de um formmato \"datetime\" para um string"
   ]
  },
  {
   "cell_type": "code",
   "execution_count": 34,
   "id": "040341c5",
   "metadata": {},
   "outputs": [
    {
     "name": "stdout",
     "output_type": "stream",
     "text": [
      "07/01/2022\n",
      "07/01/2022 10:42:49\n"
     ]
    }
   ],
   "source": [
    "agora_string = agora.strftime(\"%d/%m/%Y\")\n",
    "print(agora_string)\n",
    "agora_string = agora.strftime(\"%d/%m/%Y %H:%M:%S\")\n",
    "print(agora_string)"
   ]
  },
  {
   "cell_type": "markdown",
   "id": "1f40b700",
   "metadata": {},
   "source": [
    "## Alterando texto de exibição da data de um formmato string para um \"datetime\""
   ]
  },
  {
   "cell_type": "code",
   "execution_count": 36,
   "id": "10032ca9",
   "metadata": {},
   "outputs": [
    {
     "name": "stdout",
     "output_type": "stream",
     "text": [
      "2022-01-07 10:42:49\n",
      "2022-01-07 10:42:49.525352\n"
     ]
    }
   ],
   "source": [
    "agora_padrao = dt.datetime.strptime(agora_string, \"%d/%m/%Y %H:%M:%S\")\n",
    "print(agora_padrao)\n",
    "print(agora)"
   ]
  },
  {
   "cell_type": "markdown",
   "id": "577df0f9",
   "metadata": {},
   "source": [
    "## Aplicação - Registro(logs) de atualizações ou operações"
   ]
  },
  {
   "cell_type": "code",
   "execution_count": 41,
   "id": "08d597f8",
   "metadata": {},
   "outputs": [
    {
     "name": "stdout",
     "output_type": "stream",
     "text": [
      "Insira seu comentario: teste\n",
      "Insira seu comentario: teste\n",
      "Insira seu comentario: testedsf\n",
      "Insira seu comentario: \n",
      "('teste', '07/01/2022 11:02')\n",
      "('teste', '07/01/2022 11:02')\n",
      "('testedsf', '07/01/2022 11:03')\n"
     ]
    }
   ],
   "source": [
    "comentarios = []\n",
    "comentario = None\n",
    "while True:\n",
    "    comentario = input('Insira seu comentario: ')\n",
    "    if comentario == \"\":\n",
    "        break\n",
    "    data_public = dt.datetime.now()\n",
    "    data_public_str = data_public.strftime(\"%d/%m/%Y %H:%M\")\n",
    "    comentarios.append((comentario, data_public_str))\n",
    "\n",
    "for item in comentarios:\n",
    "    print(item)"
   ]
  },
  {
   "cell_type": "code",
   "execution_count": null,
   "id": "ae2f10f8",
   "metadata": {},
   "outputs": [],
   "source": []
  }
 ],
 "metadata": {
  "kernelspec": {
   "display_name": "Python 3 (ipykernel)",
   "language": "python",
   "name": "python3"
  },
  "language_info": {
   "codemirror_mode": {
    "name": "ipython",
    "version": 3
   },
   "file_extension": ".py",
   "mimetype": "text/x-python",
   "name": "python",
   "nbconvert_exporter": "python",
   "pygments_lexer": "ipython3",
   "version": "3.9.7"
  }
 },
 "nbformat": 4,
 "nbformat_minor": 5
}
