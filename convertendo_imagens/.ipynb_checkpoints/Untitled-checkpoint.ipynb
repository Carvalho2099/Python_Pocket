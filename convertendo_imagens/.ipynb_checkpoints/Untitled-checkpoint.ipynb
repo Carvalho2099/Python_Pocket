{
 "cells": [
  {
   "cell_type": "markdown",
   "id": "1f79fdc5",
   "metadata": {},
   "source": [
    "# Convertendo imagens"
   ]
  },
  {
   "cell_type": "code",
   "execution_count": 3,
   "id": "83684bf7",
   "metadata": {},
   "outputs": [],
   "source": [
    "from PIL import Image\n",
    "import os"
   ]
  },
  {
   "cell_type": "markdown",
   "id": "d9568567",
   "metadata": {},
   "source": [
    "## - Primeiro deve abrir o arquivo\n",
    "## - Depois deve salvar o arquivo em outro formato"
   ]
  },
  {
   "cell_type": "code",
   "execution_count": 2,
   "id": "4e288236",
   "metadata": {},
   "outputs": [
    {
     "name": "stderr",
     "output_type": "stream",
     "text": [
      "D:\\Users\\carva\\anaconda3\\lib\\site-packages\\PIL\\Image.py:975: UserWarning: Palette images with Transparency expressed in bytes should be converted to RGBA images\n",
      "  warnings.warn(\n"
     ]
    }
   ],
   "source": [
    "imagem = Image.open('imagens/estrelas.png').convert('RGB')\n",
    "imagem.save('imagens_convertidas/estrelas.jpg')"
   ]
  },
  {
   "cell_type": "code",
   "execution_count": 4,
   "id": "89e5536b",
   "metadata": {},
   "outputs": [
    {
     "name": "stdout",
     "output_type": "stream",
     "text": [
      "['estrelas.png', 'foto_lira_hash.png', 'foto_lira_hashtag.png', 'img_quemsomos.png', 'iniciante.png', 'intermediario.png', 'logo_globocom.png', 'logo_magalu.png', 'logo_uber.png', 'piramides.png', 'Print 3.png', 'seta chat.png', 'seta chat2.png', 'zerado.png']\n"
     ]
    }
   ],
   "source": [
    "lista_arquivos = os.listdir('imagens')\n",
    "print(lista_arquivos)"
   ]
  },
  {
   "cell_type": "code",
   "execution_count": 5,
   "id": "0cc8c3fd",
   "metadata": {},
   "outputs": [],
   "source": [
    "for item in lista_arquivos:\n",
    "    imagem = Image.open(f'imagens/{item}')\n",
    "    imagem.save(f\"imagens_convertidas/{item.replace('png', 'tiff')}\")"
   ]
  },
  {
   "cell_type": "code",
   "execution_count": null,
   "id": "032525cb",
   "metadata": {},
   "outputs": [],
   "source": []
  }
 ],
 "metadata": {
  "kernelspec": {
   "display_name": "Python 3 (ipykernel)",
   "language": "python",
   "name": "python3"
  },
  "language_info": {
   "codemirror_mode": {
    "name": "ipython",
    "version": 3
   },
   "file_extension": ".py",
   "mimetype": "text/x-python",
   "name": "python",
   "nbconvert_exporter": "python",
   "pygments_lexer": "ipython3",
   "version": "3.9.7"
  }
 },
 "nbformat": 4,
 "nbformat_minor": 5
}
