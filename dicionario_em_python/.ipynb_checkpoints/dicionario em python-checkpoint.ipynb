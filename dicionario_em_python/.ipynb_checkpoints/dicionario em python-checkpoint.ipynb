{
 "cells": [
  {
   "cell_type": "markdown",
   "id": "71fe5e0e",
   "metadata": {},
   "source": [
    "# Dicionários em Python\n",
    "## Dicionário é uma lista com \"rótulo\"\n",
    "É muito bom para armazenar informações que precisam de algum tipo de identificador. Pro exemplo: E-mails para gerente de loja"
   ]
  },
  {
   "cell_type": "code",
   "execution_count": 11,
   "id": "126cdcf1",
   "metadata": {},
   "outputs": [],
   "source": [
    "emails_gerente = {\n",
    "    \"Iguatemi\":\"iguatemi@gmail.com\",\n",
    "    \"Plaza\":\"plaza@gmail.com\",\n",
    "    \"Barra\":\"barra@gmail.com\"\n",
    "}"
   ]
  },
  {
   "cell_type": "markdown",
   "id": "b94bda5d",
   "metadata": {},
   "source": [
    "## Se eu quiser descobrir qual é o e-mail do shopping Iguatemi"
   ]
  },
  {
   "cell_type": "code",
   "execution_count": 3,
   "id": "6ff4dbe1",
   "metadata": {},
   "outputs": [
    {
     "data": {
      "text/plain": [
       "'iguatemi@gmail.com'"
      ]
     },
     "execution_count": 3,
     "metadata": {},
     "output_type": "execute_result"
    }
   ],
   "source": [
    "emails_gerente[\"Iguatemi\"]"
   ]
  },
  {
   "cell_type": "markdown",
   "id": "54eb537b",
   "metadata": {},
   "source": [
    "## Se eu quiser adicionar um shopping novo"
   ]
  },
  {
   "cell_type": "code",
   "execution_count": 13,
   "id": "2a299516",
   "metadata": {},
   "outputs": [],
   "source": [
    "emails_gerente['Leblon'] = 'leblon@gmail.com'"
   ]
  },
  {
   "cell_type": "code",
   "execution_count": 5,
   "id": "0d8fdcd2",
   "metadata": {},
   "outputs": [
    {
     "name": "stdout",
     "output_type": "stream",
     "text": [
      "{'Iguatemi': 'iguatemi@gmail.com', 'Plaza': 'plaza@gmail.com', 'Barra': 'barra@gmail.com', 'Leblon': 'leblon@gmail.com'}\n"
     ]
    }
   ],
   "source": [
    "print(emails_gerente)"
   ]
  },
  {
   "cell_type": "markdown",
   "id": "ac897723",
   "metadata": {},
   "source": [
    "## Se eu quiser descobrir todos os shopping que temos?"
   ]
  },
  {
   "cell_type": "markdown",
   "id": "45e6c26e",
   "metadata": {},
   "source": [
    "- Forma 1: fazendo um for"
   ]
  },
  {
   "cell_type": "code",
   "execution_count": 6,
   "id": "84df051a",
   "metadata": {},
   "outputs": [
    {
     "name": "stdout",
     "output_type": "stream",
     "text": [
      "Iguatemi\n",
      "Plaza\n",
      "Barra\n",
      "Leblon\n"
     ]
    }
   ],
   "source": [
    "for shopping in emails_gerente:\n",
    "    print(shopping)"
   ]
  },
  {
   "cell_type": "markdown",
   "id": "3ba72e34",
   "metadata": {},
   "source": [
    "- Forma 2: dicionario.keys()"
   ]
  },
  {
   "cell_type": "code",
   "execution_count": 7,
   "id": "19c11d3c",
   "metadata": {},
   "outputs": [
    {
     "name": "stdout",
     "output_type": "stream",
     "text": [
      "dict_keys(['Iguatemi', 'Plaza', 'Barra', 'Leblon'])\n"
     ]
    }
   ],
   "source": [
    "print(emails_gerente.keys())"
   ]
  },
  {
   "cell_type": "markdown",
   "id": "84401646",
   "metadata": {},
   "source": [
    "## Se eu quiser descobrir todos os e-mails?"
   ]
  },
  {
   "cell_type": "markdown",
   "id": "5cff0897",
   "metadata": {},
   "source": [
    "- Forma 1: fazendo um for:"
   ]
  },
  {
   "cell_type": "code",
   "execution_count": 8,
   "id": "9db0d4bc",
   "metadata": {},
   "outputs": [
    {
     "name": "stdout",
     "output_type": "stream",
     "text": [
      "iguatemi@gmail.com\n",
      "plaza@gmail.com\n",
      "barra@gmail.com\n",
      "leblon@gmail.com\n"
     ]
    }
   ],
   "source": [
    "for shopping in emails_gerente:\n",
    "    email = emails_getente[shopping]\n",
    "    print(email)"
   ]
  },
  {
   "cell_type": "markdown",
   "id": "6ea93df5",
   "metadata": {},
   "source": [
    "- Forma 2: dicionario.values()"
   ]
  },
  {
   "cell_type": "code",
   "execution_count": 14,
   "id": "f6bbec4c",
   "metadata": {},
   "outputs": [
    {
     "name": "stdout",
     "output_type": "stream",
     "text": [
      "dict_values(['iguatemi@gmail.com', 'plaza@gmail.com', 'barra@gmail.com', 'leblon@gmail.com'])\n"
     ]
    }
   ],
   "source": [
    "print(emails_gerente.values())"
   ]
  },
  {
   "cell_type": "markdown",
   "id": "ecef1cd3",
   "metadata": {},
   "source": [
    "## Retirar um shopping"
   ]
  },
  {
   "cell_type": "code",
   "execution_count": 15,
   "id": "030cb376",
   "metadata": {},
   "outputs": [
    {
     "data": {
      "text/plain": [
       "'leblon@gmail.com'"
      ]
     },
     "execution_count": 15,
     "metadata": {},
     "output_type": "execute_result"
    }
   ],
   "source": [
    "emails_gerente.pop('Leblon')"
   ]
  },
  {
   "cell_type": "code",
   "execution_count": 16,
   "id": "133817c9",
   "metadata": {},
   "outputs": [
    {
     "data": {
      "text/plain": [
       "{'Iguatemi': 'iguatemi@gmail.com',\n",
       " 'Plaza': 'plaza@gmail.com',\n",
       " 'Barra': 'barra@gmail.com'}"
      ]
     },
     "execution_count": 16,
     "metadata": {},
     "output_type": "execute_result"
    }
   ],
   "source": [
    "emails_gerente"
   ]
  },
  {
   "cell_type": "markdown",
   "id": "7777e476",
   "metadata": {},
   "source": [
    "## Verificar se um shopping existe"
   ]
  },
  {
   "cell_type": "code",
   "execution_count": 17,
   "id": "0e3e2511",
   "metadata": {},
   "outputs": [
    {
     "name": "stdout",
     "output_type": "stream",
     "text": [
      "Não existe\n"
     ]
    }
   ],
   "source": [
    "if 'Leblon' in emails_gerente:\n",
    "    print('Existe')\n",
    "else: \n",
    "    print('Não existe')"
   ]
  },
  {
   "cell_type": "markdown",
   "id": "2774bf7e",
   "metadata": {},
   "source": [
    "## Verificar se um e-mail existe"
   ]
  },
  {
   "cell_type": "code",
   "execution_count": 18,
   "id": "8acfd61b",
   "metadata": {},
   "outputs": [
    {
     "name": "stdout",
     "output_type": "stream",
     "text": [
      "Existe\n"
     ]
    }
   ],
   "source": [
    "if 'iguatemi@gmail.com' in emails_gerente.values():\n",
    "    print('Existe')\n",
    "else: \n",
    "    print('Não existe')"
   ]
  },
  {
   "cell_type": "markdown",
   "id": "eb620893",
   "metadata": {},
   "source": [
    "## Bônus"
   ]
  },
  {
   "cell_type": "code",
   "execution_count": 19,
   "id": "2f068201",
   "metadata": {},
   "outputs": [
    {
     "name": "stdout",
     "output_type": "stream",
     "text": [
      "Shopping: Iguatemi - e-mail: iguatemi@gmail.com\n",
      "Shopping: Plaza - e-mail: plaza@gmail.com\n",
      "Shopping: Barra - e-mail: barra@gmail.com\n"
     ]
    }
   ],
   "source": [
    "for key, value in emails_gerente.items():\n",
    "    print(f'Shopping: {key} - e-mail: {value}')"
   ]
  },
  {
   "cell_type": "code",
   "execution_count": null,
   "id": "0322aff8",
   "metadata": {},
   "outputs": [],
   "source": []
  }
 ],
 "metadata": {
  "kernelspec": {
   "display_name": "Python 3 (ipykernel)",
   "language": "python",
   "name": "python3"
  },
  "language_info": {
   "codemirror_mode": {
    "name": "ipython",
    "version": 3
   },
   "file_extension": ".py",
   "mimetype": "text/x-python",
   "name": "python",
   "nbconvert_exporter": "python",
   "pygments_lexer": "ipython3",
   "version": "3.9.7"
  }
 },
 "nbformat": 4,
 "nbformat_minor": 5
}
