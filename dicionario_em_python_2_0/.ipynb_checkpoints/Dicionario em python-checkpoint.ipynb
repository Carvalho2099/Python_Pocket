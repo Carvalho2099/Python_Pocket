{
 "cells": [
  {
   "cell_type": "markdown",
   "id": "08d05116",
   "metadata": {},
   "source": [
    "# Dicionários em Python\n",
    "### Estrutura:\n",
    "dicionario = {chave: valor, chave:valor, chave:valor...}\n",
    "### Vantagens e Desvantagens\n",
    "- Não devem ser usados para pegar itens em uma determinada ordem\n",
    "- Podem ter valores heterogêneos(vários tipos de valores dentro de um mesmo dicionário: inteiros, strings, listas, etc)\n",
    "- Chaves são obrigatoriamente únicas\n",
    "- Mais intuitivo de trabalhar"
   ]
  },
  {
   "cell_type": "code",
   "execution_count": 2,
   "id": "4432ef03",
   "metadata": {},
   "outputs": [],
   "source": [
    "mais_vendidos = {'tecnologia': 'iphone', 'refrigeracao': 'ar consul 12000 btu', 'livros': 'o alquimista', 'eletrodomestico': 'geladeira', 'lazer': 'prancha surf'}\n",
    "vendas_tecnologia = {'iphone': 15000,'samsung galaxy': 12000, 'tv samsung': 10000, 'tablet': 1720, 'ps5': 14300 ,'ipad': 1000,'tv philco': 2500,'notebook dell': 1700,'notebook asus': 2450}"
   ]
  },
  {
   "cell_type": "markdown",
   "id": "db4cac3c",
   "metadata": {},
   "source": [
    "- Qual foi o item mais vendido na categoria \"livros\" e \"lazer\"\n",
    "- Quanto foi vendido de \"notebook asus\" e \"ipad\""
   ]
  },
  {
   "cell_type": "code",
   "execution_count": 3,
   "id": "15f29530",
   "metadata": {},
   "outputs": [
    {
     "name": "stdout",
     "output_type": "stream",
     "text": [
      "o alquimista\n",
      "prancha surf\n",
      "2450\n",
      "1000\n"
     ]
    }
   ],
   "source": [
    "livro = mais_vendidos['livros']\n",
    "lazer = mais_vendidos['lazer']\n",
    "notebook = vendas_tecnologia['notebook asus']\n",
    "ipad = vendas_tecnologia['ipad']\n",
    "print(livro)\n",
    "print(lazer)\n",
    "print(notebook)\n",
    "print(ipad)"
   ]
  },
  {
   "cell_type": "markdown",
   "id": "4dcb806f",
   "metadata": {},
   "source": [
    "# Não confie na ordem dos dicionários, use as chaves\n",
    "### Python Versões Antigas x Versões novas\n",
    "- Dicionários eram \"sem ordem\". Atualmente tem ordem, mas o certo é usar as chaves\n",
    "- 2 formas de pegar um valor:\n",
    "    - dicionario[chave]\n",
    "    - .get(chave)"
   ]
  },
  {
   "cell_type": "markdown",
   "id": "0dae66d2",
   "metadata": {},
   "source": [
    "## utilizando .get()\n",
    "- Qual foi o item mais vendido na categoria \"livros\" e \"lazer\"\n",
    "- Quanto foi vendido de \"notebook asus\" e \"ipad\""
   ]
  },
  {
   "cell_type": "code",
   "execution_count": 4,
   "id": "a421cdd3",
   "metadata": {},
   "outputs": [
    {
     "name": "stdout",
     "output_type": "stream",
     "text": [
      "o alquimista\n",
      "prancha surf\n",
      "2450\n",
      "1000\n"
     ]
    }
   ],
   "source": [
    "livro2 = mais_vendidos.get('livros')\n",
    "lazer2 = mais_vendidos.get('lazer')\n",
    "notebook2 = vendas_tecnologia.get('notebook asus')\n",
    "ipad2 = vendas_tecnologia.get('ipad')\n",
    "print(livro2)\n",
    "print(lazer2)\n",
    "print(notebook2)\n",
    "print(ipad2)"
   ]
  },
  {
   "cell_type": "markdown",
   "id": "b3a0c392",
   "metadata": {},
   "source": [
    "### Verificar se o item está no dicionário\n",
    "- if\n",
    "- .get(chave) = None"
   ]
  },
  {
   "cell_type": "markdown",
   "id": "8163b87e",
   "metadata": {},
   "source": [
    "Se tentarmos procurar as vendas \"copo\" na lista de vendas tecnologia, o que acontece?"
   ]
  },
  {
   "cell_type": "code",
   "execution_count": 5,
   "id": "d7acdc0a",
   "metadata": {},
   "outputs": [
    {
     "name": "stdout",
     "output_type": "stream",
     "text": [
      "Copo não está dentro da lista de produtos de tecnologia\n"
     ]
    }
   ],
   "source": [
    "if vendas_tecnologia.get('copo') == None:\n",
    "    print('Copo não está dentro da lista de produtos de tecnologia')\n",
    "else:\n",
    "    print(vendas_tecnologia.get('copo'))"
   ]
  },
  {
   "cell_type": "markdown",
   "id": "2cef347d",
   "metadata": {},
   "source": [
    "# Adicionar, Remover e Modificar itens no Dicionário\n",
    "### Estrutura:\n",
    "- Adicionar itens:"
   ]
  },
  {
   "cell_type": "markdown",
   "id": "b79b9806",
   "metadata": {},
   "source": [
    "dicionario = {}</br>\n",
    "dicionario[chave] = valor</br>\n",
    "outroa opção</br>\n",
    "dicionario.update({chave: valor, chave: valor})"
   ]
  },
  {
   "cell_type": "code",
   "execution_count": 6,
   "id": "02c912ae",
   "metadata": {},
   "outputs": [
    {
     "name": "stdout",
     "output_type": "stream",
     "text": [
      "{'janeiro': 100000, 'fevereiro': 120000, 'março': 90000}\n",
      "{'janeiro': 100000, 'fevereiro': 120000, 'março': 90000, 'abril': 88000}\n",
      "{'janeiro': 100000, 'fevereiro': 120000, 'março': 90000, 'abril': 88000, 'maio': 89000, 'junho': 120000}\n",
      "100000\n",
      "88000\n"
     ]
    }
   ],
   "source": [
    "lucro_1tri = {'janeiro': 100000, 'fevereiro': 120000, 'março': 90000}\n",
    "lucro_2tri = {'abril': 88000, 'maio': 89000, 'junho': 120000}\n",
    "# adicionando 1 item\n",
    "print(lucro_1tri)\n",
    "lucro_1tri['abril'] = 88000\n",
    "print(lucro_1tri)\n",
    "# adicionando vários itens ou um dicionario a outro dicionario\n",
    "lucro_1tri.update(lucro_2tri)\n",
    "print(lucro_1tri)\n",
    "# adicionando um item já existente(manualmente ou pelo update)\n",
    "print(lucro_1tri['janeiro'])\n",
    "lucro_1tri['janeiro'] = 88000\n",
    "print(lucro_1tri['janeiro'])"
   ]
  },
  {
   "cell_type": "markdown",
   "id": "30eb8e4a",
   "metadata": {},
   "source": [
    "- Modificar itens:"
   ]
  },
  {
   "cell_type": "markdown",
   "id": "d5f4408e",
   "metadata": {},
   "source": [
    "Da mesma forma que adicionamos 1 valor, caso essa chave já exista o item é apenas modificado.</br>\n",
    "dicionario[chave] = valor</br>\n",
    "Vamos modificar o lucro de fevereiro:</br>\n",
    "(Lembrando: caso o item não exista, ele vai criar o item no dicionario)"
   ]
  },
  {
   "cell_type": "code",
   "execution_count": 7,
   "id": "2b4b437f",
   "metadata": {},
   "outputs": [
    {
     "name": "stdout",
     "output_type": "stream",
     "text": [
      "{'janeiro': 88000, 'fevereiro': 120000, 'março': 90000, 'abril': 88000, 'maio': 89000, 'junho': 120000}\n",
      "{'janeiro': 88000, 'fevereiro': 8500, 'março': 90000, 'abril': 88000, 'maio': 89000, 'junho': 120000}\n"
     ]
    }
   ],
   "source": [
    "lucro_fev = 8500\n",
    "print(lucro_1tri)\n",
    "lucro_1tri['fevereiro'] = lucro_fev\n",
    "print(lucro_1tri)"
   ]
  },
  {
   "cell_type": "markdown",
   "id": "3c6c077f",
   "metadata": {},
   "source": [
    "- Remover itens:"
   ]
  },
  {
   "cell_type": "markdown",
   "id": "549df232",
   "metadata": {},
   "source": [
    "del dicionario[chave]<br>\n",
    "ou então<br>\n",
    "valor = dicionario.pop(chave)<br>\n",
    "mas cuidado com: <br>\n",
    "del dicionario que é diferente de dicionario.clear()"
   ]
  },
  {
   "cell_type": "code",
   "execution_count": 8,
   "id": "2c2728c2",
   "metadata": {},
   "outputs": [
    {
     "name": "stdout",
     "output_type": "stream",
     "text": [
      "{'janeiro': 88000, 'fevereiro': 8500, 'março': 90000, 'abril': 88000, 'maio': 89000, 'junho': 120000}\n",
      "{'janeiro': 88000, 'fevereiro': 8500, 'março': 90000, 'abril': 88000, 'maio': 89000}\n",
      "['joão', 'Lira', 'Maria', 'Ana', 'Paula']\n",
      "['joão', 'Lira', 'Ana', 'Paula']\n"
     ]
    }
   ],
   "source": [
    "#removendo o mês de junho\n",
    "print(lucro_1tri)\n",
    "del lucro_1tri['junho']\n",
    "print(lucro_1tri)\n",
    "#obs: o del também funciona para listas, caso queira usar\n",
    "#del lista[i]\n",
    "funcionarios = ['joão', 'Lira', 'Maria', 'Ana', 'Paula']\n",
    "print(funcionarios)\n",
    "del funcionarios[2]\n",
    "print(funcionarios)"
   ]
  },
  {
   "cell_type": "code",
   "execution_count": 9,
   "id": "e5ea88f4",
   "metadata": {},
   "outputs": [
    {
     "name": "stdout",
     "output_type": "stream",
     "text": [
      "{'janeiro': 88000, 'fevereiro': 8500, 'março': 90000, 'abril': 88000, 'maio': 89000}\n",
      "{'janeiro': 88000, 'fevereiro': 8500, 'março': 90000, 'abril': 88000}\n",
      "89000\n"
     ]
    }
   ],
   "source": [
    "print(lucro_1tri)\n",
    "lucro_maio = lucro_1tri.pop('maio')\n",
    "print(lucro_1tri)\n",
    "print(lucro_maio)"
   ]
  },
  {
   "cell_type": "code",
   "execution_count": null,
   "id": "420d961c",
   "metadata": {},
   "outputs": [],
   "source": []
  }
 ],
 "metadata": {
  "kernelspec": {
   "display_name": "Python 3 (ipykernel)",
   "language": "python",
   "name": "python3"
  },
  "language_info": {
   "codemirror_mode": {
    "name": "ipython",
    "version": 3
   },
   "file_extension": ".py",
   "mimetype": "text/x-python",
   "name": "python",
   "nbconvert_exporter": "python",
   "pygments_lexer": "ipython3",
   "version": "3.9.7"
  }
 },
 "nbformat": 4,
 "nbformat_minor": 5
}
