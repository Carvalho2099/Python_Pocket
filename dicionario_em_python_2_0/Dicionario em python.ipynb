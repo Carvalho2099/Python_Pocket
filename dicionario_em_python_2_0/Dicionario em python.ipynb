{
 "cells": [
  {
   "cell_type": "markdown",
   "id": "90273151",
   "metadata": {},
   "source": [
    "# Dicionários em Python\n",
    "### Estrutura:\n",
    "dicionario = {chave: valor, chave:valor, chave:valor...}\n",
    "### Vantagens e Desvantagens\n",
    "- Não devem ser usados para pegar itens em uma determinada ordem\n",
    "- Podem ter valores heterogêneos(vários tipos de valores dentro de um mesmo dicionário: inteiros, strings, listas, etc)\n",
    "- Chaves são obrigatoriamente únicas\n",
    "- Mais intuitivo de trabalhar"
   ]
  },
  {
   "cell_type": "code",
   "execution_count": 2,
   "id": "0af38087",
   "metadata": {},
   "outputs": [],
   "source": [
    "mais_vendidos = {'tecnologia': 'iphone', 'refrigeracao': 'ar consul 12000 btu', 'livros': 'o alquimista', 'eletrodomestico': 'geladeira', 'lazer': 'prancha surf'}\n",
    "vendas_tecnologia = {'iphone': 15000,'samsung galaxy': 12000, 'tv samsung': 10000, 'tablet': 1720, 'ps5': 14300 ,'ipad': 1000,'tv philco': 2500,'notebook dell': 1700,'notebook asus': 2450}"
   ]
  },
  {
   "cell_type": "markdown",
   "id": "4bc2b843",
   "metadata": {},
   "source": [
    "- Qual foi o item mais vendido na categoria \"livros\" e \"lazer\"\n",
    "- Quanto foi vendido de \"notebook asus\" e \"ipad\""
   ]
  },
  {
   "cell_type": "code",
   "execution_count": 3,
   "id": "7d94a275",
   "metadata": {},
   "outputs": [
    {
     "name": "stdout",
     "output_type": "stream",
     "text": [
      "o alquimista\n",
      "prancha surf\n",
      "2450\n",
      "1000\n"
     ]
    }
   ],
   "source": [
    "livro = mais_vendidos['livros']\n",
    "lazer = mais_vendidos['lazer']\n",
    "notebook = vendas_tecnologia['notebook asus']\n",
    "ipad = vendas_tecnologia['ipad']\n",
    "print(livro)\n",
    "print(lazer)\n",
    "print(notebook)\n",
    "print(ipad)"
   ]
  },
  {
   "cell_type": "markdown",
   "id": "3098b3f8",
   "metadata": {},
   "source": [
    "# Não confie na ordem dos dicionários, use as chaves\n",
    "### Python Versões Antigas x Versões novas\n",
    "- Dicionários eram \"sem ordem\". Atualmente tem ordem, mas o certo é usar as chaves\n",
    "- 2 formas de pegar um valor:\n",
    "    - dicionario[chave]\n",
    "    - .get(chave)"
   ]
  },
  {
   "cell_type": "markdown",
   "id": "2dfa2842",
   "metadata": {},
   "source": [
    "## utilizando .get()\n",
    "- Qual foi o item mais vendido na categoria \"livros\" e \"lazer\"\n",
    "- Quanto foi vendido de \"notebook asus\" e \"ipad\""
   ]
  },
  {
   "cell_type": "code",
   "execution_count": 4,
   "id": "ee6f85c4",
   "metadata": {},
   "outputs": [
    {
     "name": "stdout",
     "output_type": "stream",
     "text": [
      "o alquimista\n",
      "prancha surf\n",
      "2450\n",
      "1000\n"
     ]
    }
   ],
   "source": [
    "livro2 = mais_vendidos.get('livros')\n",
    "lazer2 = mais_vendidos.get('lazer')\n",
    "notebook2 = vendas_tecnologia.get('notebook asus')\n",
    "ipad2 = vendas_tecnologia.get('ipad')\n",
    "print(livro2)\n",
    "print(lazer2)\n",
    "print(notebook2)\n",
    "print(ipad2)"
   ]
  },
  {
   "cell_type": "markdown",
   "id": "75557ba9",
   "metadata": {},
   "source": [
    "### Verificar se o item está no dicionário\n",
    "- if\n",
    "- .get(chave) = None"
   ]
  },
  {
   "cell_type": "markdown",
   "id": "20a348fb",
   "metadata": {},
   "source": [
    "Se tentarmos procurar as vendas \"copo\" na lista de vendas tecnologia, o que acontece?"
   ]
  },
  {
   "cell_type": "code",
   "execution_count": 5,
   "id": "102e0bc3",
   "metadata": {},
   "outputs": [
    {
     "name": "stdout",
     "output_type": "stream",
     "text": [
      "Copo não está dentro da lista de produtos de tecnologia\n"
     ]
    }
   ],
   "source": [
    "if vendas_tecnologia.get('copo') == None:\n",
    "    print('Copo não está dentro da lista de produtos de tecnologia')\n",
    "else:\n",
    "    print(vendas_tecnologia.get('copo'))"
   ]
  },
  {
   "cell_type": "markdown",
   "id": "314df6df",
   "metadata": {},
   "source": [
    "# Adicionar, Remover e Modificar itens no Dicionário\n",
    "### Estrutura:\n",
    "- Adicionar itens:"
   ]
  },
  {
   "cell_type": "markdown",
   "id": "b55192d4",
   "metadata": {},
   "source": [
    "dicionario = {}</br>\n",
    "dicionario[chave] = valor</br>\n",
    "outroa opção</br>\n",
    "dicionario.update({chave: valor, chave: valor})"
   ]
  },
  {
   "cell_type": "code",
   "execution_count": 6,
   "id": "ceb5fdb6",
   "metadata": {},
   "outputs": [
    {
     "name": "stdout",
     "output_type": "stream",
     "text": [
      "{'janeiro': 100000, 'fevereiro': 120000, 'março': 90000}\n",
      "{'janeiro': 100000, 'fevereiro': 120000, 'março': 90000, 'abril': 88000}\n",
      "{'janeiro': 100000, 'fevereiro': 120000, 'março': 90000, 'abril': 88000, 'maio': 89000, 'junho': 120000}\n",
      "100000\n",
      "88000\n"
     ]
    }
   ],
   "source": [
    "lucro_1tri = {'janeiro': 100000, 'fevereiro': 120000, 'março': 90000}\n",
    "lucro_2tri = {'abril': 88000, 'maio': 89000, 'junho': 120000}\n",
    "# adicionando 1 item\n",
    "print(lucro_1tri)\n",
    "lucro_1tri['abril'] = 88000\n",
    "print(lucro_1tri)\n",
    "# adicionando vários itens ou um dicionario a outro dicionario\n",
    "lucro_1tri.update(lucro_2tri)\n",
    "print(lucro_1tri)\n",
    "# adicionando um item já existente(manualmente ou pelo update)\n",
    "print(lucro_1tri['janeiro'])\n",
    "lucro_1tri['janeiro'] = 88000\n",
    "print(lucro_1tri['janeiro'])"
   ]
  },
  {
   "cell_type": "markdown",
   "id": "9c240dc4",
   "metadata": {},
   "source": [
    "- Modificar itens:"
   ]
  },
  {
   "cell_type": "markdown",
   "id": "6d8e6a26",
   "metadata": {},
   "source": [
    "Da mesma forma que adicionamos 1 valor, caso essa chave já exista o item é apenas modificado.</br>\n",
    "dicionario[chave] = valor</br>\n",
    "Vamos modificar o lucro de fevereiro:</br>\n",
    "(Lembrando: caso o item não exista, ele vai criar o item no dicionario)"
   ]
  },
  {
   "cell_type": "code",
   "execution_count": 7,
   "id": "eca2eb5e",
   "metadata": {},
   "outputs": [
    {
     "name": "stdout",
     "output_type": "stream",
     "text": [
      "{'janeiro': 88000, 'fevereiro': 120000, 'março': 90000, 'abril': 88000, 'maio': 89000, 'junho': 120000}\n",
      "{'janeiro': 88000, 'fevereiro': 8500, 'março': 90000, 'abril': 88000, 'maio': 89000, 'junho': 120000}\n"
     ]
    }
   ],
   "source": [
    "lucro_fev = 8500\n",
    "print(lucro_1tri)\n",
    "lucro_1tri['fevereiro'] = lucro_fev\n",
    "print(lucro_1tri)"
   ]
  },
  {
   "cell_type": "markdown",
   "id": "3cdea5ed",
   "metadata": {},
   "source": [
    "- Remover itens:"
   ]
  },
  {
   "cell_type": "markdown",
   "id": "6aa289e9",
   "metadata": {},
   "source": [
    "del dicionario[chave]<br>\n",
    "ou então<br>\n",
    "valor = dicionario.pop(chave)<br>\n",
    "mas cuidado com: <br>\n",
    "del dicionario que é diferente de dicionario.clear()"
   ]
  },
  {
   "cell_type": "code",
   "execution_count": 8,
   "id": "7b976475",
   "metadata": {},
   "outputs": [
    {
     "name": "stdout",
     "output_type": "stream",
     "text": [
      "{'janeiro': 88000, 'fevereiro': 8500, 'março': 90000, 'abril': 88000, 'maio': 89000, 'junho': 120000}\n",
      "{'janeiro': 88000, 'fevereiro': 8500, 'março': 90000, 'abril': 88000, 'maio': 89000}\n",
      "['joão', 'Lira', 'Maria', 'Ana', 'Paula']\n",
      "['joão', 'Lira', 'Ana', 'Paula']\n"
     ]
    }
   ],
   "source": [
    "#removendo o mês de junho\n",
    "print(lucro_1tri)\n",
    "del lucro_1tri['junho']\n",
    "print(lucro_1tri)\n",
    "#obs: o del também funciona para listas, caso queira usar\n",
    "#del lista[i]\n",
    "funcionarios = ['joão', 'Lira', 'Maria', 'Ana', 'Paula']\n",
    "print(funcionarios)\n",
    "del funcionarios[2]\n",
    "print(funcionarios)"
   ]
  },
  {
   "cell_type": "code",
   "execution_count": 9,
   "id": "badf71de",
   "metadata": {},
   "outputs": [
    {
     "name": "stdout",
     "output_type": "stream",
     "text": [
      "{'janeiro': 88000, 'fevereiro': 8500, 'março': 90000, 'abril': 88000, 'maio': 89000}\n",
      "{'janeiro': 88000, 'fevereiro': 8500, 'março': 90000, 'abril': 88000}\n",
      "89000\n"
     ]
    }
   ],
   "source": [
    "print(lucro_1tri)\n",
    "lucro_maio = lucro_1tri.pop('maio')\n",
    "print(lucro_1tri)\n",
    "print(lucro_maio)"
   ]
  },
  {
   "cell_type": "markdown",
   "id": "d47e5f2b",
   "metadata": {},
   "source": [
    "# For nos Dicionarios\n",
    "### Estrutura:\n",
    "for chave in dicionario:<br>\n"
   ]
  },
  {
   "cell_type": "code",
   "execution_count": 12,
   "id": "40023bdf",
   "metadata": {},
   "outputs": [],
   "source": [
    "vendas_tecnologia['notebook hp'] = 1000"
   ]
  },
  {
   "cell_type": "code",
   "execution_count": 13,
   "id": "d52c460d",
   "metadata": {},
   "outputs": [
    {
     "name": "stdout",
     "output_type": "stream",
     "text": [
      "iphone\n",
      "samsung galaxy\n",
      "tv samsung\n",
      "tablet\n",
      "ps5\n",
      "ipad\n",
      "tv philco\n",
      "notebook dell\n",
      "notebook asus\n",
      "notebook hp\n"
     ]
    }
   ],
   "source": [
    "for chave in vendas_tecnologia:\n",
    "    print(chave)"
   ]
  },
  {
   "cell_type": "code",
   "execution_count": 14,
   "id": "758b5d60",
   "metadata": {},
   "outputs": [
    {
     "name": "stdout",
     "output_type": "stream",
     "text": [
      "iphone: 15000 unidades\n",
      "samsung galaxy: 12000 unidades\n",
      "tv samsung: 10000 unidades\n",
      "tablet: 1720 unidades\n",
      "ps5: 14300 unidades\n",
      "ipad: 1000 unidades\n",
      "tv philco: 2500 unidades\n",
      "notebook dell: 1700 unidades\n",
      "notebook asus: 2450 unidades\n",
      "notebook hp: 1000 unidades\n"
     ]
    }
   ],
   "source": [
    "for chave in vendas_tecnologia:\n",
    "    print(f'{chave}: {vendas_tecnologia[chave]} unidades')"
   ]
  },
  {
   "cell_type": "markdown",
   "id": "a7086bb0",
   "metadata": {},
   "source": [
    "- qual o total de notebooks vendidos"
   ]
  },
  {
   "cell_type": "code",
   "execution_count": 15,
   "id": "54daa47b",
   "metadata": {},
   "outputs": [
    {
     "name": "stdout",
     "output_type": "stream",
     "text": [
      "5150\n"
     ]
    }
   ],
   "source": [
    "total_notebook = 0\n",
    "for chave in vendas_tecnologia:\n",
    "    if 'notebook' in chave:\n",
    "        total_notebook += vendas_tecnologia[chave]\n",
    "print(total_notebook)"
   ]
  },
  {
   "cell_type": "markdown",
   "id": "dd99449b",
   "metadata": {},
   "source": [
    "# Exercícios\n",
    "## 1. Identificando Locais de Risco\n",
    "(Não conhecemos muito dos números e indicadores reais, esse é um exercício imaginário para treinarmos um cenário mais pratico)<br>\n",
    "Digamos que você está contruindo um programa para identificar níveis de CO2(gás carbônico) em determinados locais para evitar potenciais acidentes. Em cada um desses locais a sua empresa tem 5 sensores que captam o nível de CO2 do local.<br>\n",
    "Os níveis de CO2 são em média 350. O nível de CO2 de um local é dado pela média captada pelos 5 sensores.<br>\n",
    "Isso significa que se tivermos os 5 sensores do Rio de Janeiro marcando: 350, 400, 450, 350, 300, o nivel de CO2 do Rio de Janrio será dado por (350+400+450+350+300)/5=370<br>\n",
    "Caso o nível seja maior do que 450, um aviso deve ser exibido pelo seu programa dizendo, por exemplo: Rio de Janeiro está com níveis de CO2(490), chamar equipe especializada para verificar a região.<br>\n",
    "Os resultados dos sensores são monitorados frequentemente e são dados para o sistema em forma de dicionário:"
   ]
  },
  {
   "cell_type": "code",
   "execution_count": 21,
   "id": "9ff18d6d",
   "metadata": {},
   "outputs": [],
   "source": [
    "niveis_co2 = {\n",
    "    'AC': [325,405,429,486,402],\n",
    "    'AL': [492,495,310,407,388],\n",
    "    'AP': [507,503,368,338,400],\n",
    "    'AM': [429,456,352,377,363],\n",
    "    'BA': [321,508,372,490,412],\n",
    "    'CE': [424,328,425,516,480],\n",
    "    'ES': [449,506,461,337,336],\n",
    "    'GO': [425,460,385,485,460],\n",
    "    'MA': [361,310,344,425,490],\n",
    "    'MT': [358,402,425,386,379],\n",
    "    'MS': [324,357,441,405,427],\n",
    "    'MG': [345,367,391,427,516],\n",
    "    'PA': [479,514,392,493,329],\n",
    "    'PB': [418,499,317,302,476],\n",
    "    'PR': [420,508,419,396,327],\n",
    "    'PE': [404,444,495,320,343],\n",
    "    'PI': [513,513,304,377,475],\n",
    "    'RJ': [502,481,492,502,506],\n",
    "    'RN': [446,437,519,356,317],\n",
    "    'RS': [427,518,459,317,321],\n",
    "    'RO': [517,466,512,326,458],\n",
    "    'RR': [466,495,469,495,310],\n",
    "    'SC': [495,436,382,483,479],\n",
    "    'SP': [495,407,362,389,317],\n",
    "    'SE': [508,351,334,389,418],\n",
    "    'TO': [339,490,304,488,419],\n",
    "    'DF': [376,516,320,310,518]\n",
    "}\n"
   ]
  },
  {
   "cell_type": "code",
   "execution_count": 23,
   "id": "e58e6f7f",
   "metadata": {},
   "outputs": [
    {
     "name": "stdout",
     "output_type": "stream",
     "text": [
      "RJ está com niveis de CO2(496.6), chamar equipe especializada para verificar a região.\n",
      "RO está com niveis de CO2(455.8), chamar equipe especializada para verificar a região.\n",
      "SC está com niveis de CO2(455.0), chamar equipe especializada para verificar a região.\n"
     ]
    }
   ],
   "source": [
    "media = 450\n",
    "for estado in niveis_co2:\n",
    "    media_local = sum(niveis_co2[estado])/len(niveis_co2[estado])\n",
    "    if media_local > media:\n",
    "        print(f'{estado} está com niveis de CO2({media_local}), chamar equipe especializada para verificar a região.')"
   ]
  },
  {
   "cell_type": "markdown",
   "id": "68c97f6d",
   "metadata": {},
   "source": [
    "## 2. Case da Hashtag\n",
    "Recentemente tivemos que fazaer backup dos videos que temos hospedados no Vimeo. Acontece que não existe botão de download de todos os videos ao mesmo tempo, precisamos entrar em 1 por 1 e fazer o download manualmente.<br>\n",
    "<p> A alternativa é gerar um código em Pytho que converse com a API do Vimeo(API é uma intetgração que as ferramentas abrem para programadores poderem fazer integrações de seus proprios programas/scripts com a ferramenta).<br>\n",
    "<p>Para resolver isso, fizemos a integração e fizemos uma 'requisição' de todos os videos para o Vimeo. Essa requisição dá como resposta para o nosso código isso:"
   ]
  },
  {
   "cell_type": "code",
   "execution_count": 24,
   "id": "4082ea64",
   "metadata": {},
   "outputs": [
    {
     "name": "stdout",
     "output_type": "stream",
     "text": [
      "{'uri': '/videos/465407533', 'name': '15 Atalhos no Excel para Ficar Mais Produtivo', 'download': [{'quality': 'source', 'type': 'source', 'width': 1920, 'height': 1080, 'expires': '2020-10-07T04:00:55+00:00', 'link': 'https://player.vimeo.com/play/2064518513?s=465407533_1602043255_5f2f93dd00b66eba66d481f913383b4f&loc=external&context=Vimeo%5CController%5CApi%5CResources%5CUser%5CVideosController.&download=1&filename=15%2BAtalhos%2Bno%2BExcel%2Bpara%2BFicar%2BMais%2BProdutivosource.mp4', 'created_time': '2020-10-06T14:26:17+00:00', 'fps': 30, 'size': 402678442, 'md5': 'af09508ceceed4994554f04e8b931e22', 'public_name': 'Original', 'size_short': '384.02MB'}, {'quality': 'hd', 'type': 'video/mp4', 'width': 1920, 'height': 1080, 'expires': '2020-10-07T04:00:55+00:00', 'link': 'https://player.vimeo.com/play/2064523157?s=465407533_1602043255_ab7b8353c59b5048032396ec5d95a276&loc=external&context=Vimeo%5CController%5CApi%5CResources%5CUser%5CVideosController.&download=1&filename=15%2BAtalhos%2Bno%2BExcel%2Bpara%2BFicar%2BMais%2BProdutivo175.mp4', 'created_time': '2020-10-06T14:29:06+00:00', 'fps': 30, 'size': 173556205, 'md5': '3c05e1e69bd6b13eb1464451033907d2', 'public_name': 'HD 1080p', 'size_short': '165.52MB'}, {'quality': 'sd', 'type': 'video/mp4', 'width': 960, 'height': 540, 'expires': '2020-10-07T04:00:55+00:00', 'link': 'https://player.vimeo.com/play/2064523153?s=465407533_1602043255_f5ac38009ec5c0a13b30600c631446a3&loc=external&context=Vimeo%5CController%5CApi%5CResources%5CUser%5CVideosController.&download=1&filename=15%2BAtalhos%2Bno%2BExcel%2Bpara%2BFicar%2BMais%2BProdutivo165.mp4', 'created_time': '2020-10-06T14:29:06+00:00', 'fps': 30, 'size': 89881848, 'md5': '4a5c5c96cdf18202ed20ca534fd88007', 'public_name': 'SD 540p', 'size_short': '85.72MB'}, {'quality': 'sd', 'type': 'video/mp4', 'width': 426, 'height': 240, 'expires': '2020-10-07T04:00:55+00:00', 'link': 'https://player.vimeo.com/play/2064522788?s=465407533_1602043255_16c69872e2c4e92cc949d0b772242959&loc=external&context=Vimeo%5CController%5CApi%5CResources%5CUser%5CVideosController.&download=1&filename=15%2BAtalhos%2Bno%2BExcel%2Bpara%2BFicar%2BMais%2BProdutivo139.mp4', 'created_time': '2020-10-06T14:28:31+00:00', 'fps': 30, 'size': 27401450, 'md5': '91cc0229087ec94bf67f64b01ad8768d', 'public_name': 'SD 240p', 'size_short': '26.13MB'}, {'quality': 'sd', 'type': 'video/mp4', 'width': 640, 'height': 360, 'expires': '2020-10-07T04:00:55+00:00', 'link': 'https://player.vimeo.com/play/2064522787?s=465407533_1602043255_310b087e2fc8c5e1154ce7a33d10d60e&loc=external&context=Vimeo%5CController%5CApi%5CResources%5CUser%5CVideosController.&download=1&filename=15%2BAtalhos%2Bno%2BExcel%2Bpara%2BFicar%2BMais%2BProdutivo164.mp4', 'created_time': '2020-10-06T14:28:31+00:00', 'fps': 30, 'size': 48627155, 'md5': '548640bf79ce1552a3401726bb0e4224', 'public_name': 'SD 360p', 'size_short': '46.37MB'}]}\n"
     ]
    }
   ],
   "source": [
    "video = {'uri': '/videos/465407533', 'name': '15 Atalhos no Excel para Ficar Mais Produtivo', 'download': [{'quality': 'source', 'type': 'source', 'width': 1920, 'height': 1080, 'expires': '2020-10-07T04:00:55+00:00', 'link': 'https://player.vimeo.com/play/2064518513?s=465407533_1602043255_5f2f93dd00b66eba66d481f913383b4f&loc=external&context=Vimeo%5CController%5CApi%5CResources%5CUser%5CVideosController.&download=1&filename=15%2BAtalhos%2Bno%2BExcel%2Bpara%2BFicar%2BMais%2BProdutivosource.mp4', 'created_time': '2020-10-06T14:26:17+00:00', 'fps': 30, 'size': 402678442, 'md5': 'af09508ceceed4994554f04e8b931e22', 'public_name': 'Original', 'size_short': '384.02MB'}, {'quality': 'hd', 'type': 'video/mp4', 'width': 1920, 'height': 1080, 'expires': '2020-10-07T04:00:55+00:00', 'link': 'https://player.vimeo.com/play/2064523157?s=465407533_1602043255_ab7b8353c59b5048032396ec5d95a276&loc=external&context=Vimeo%5CController%5CApi%5CResources%5CUser%5CVideosController.&download=1&filename=15%2BAtalhos%2Bno%2BExcel%2Bpara%2BFicar%2BMais%2BProdutivo175.mp4', 'created_time': '2020-10-06T14:29:06+00:00', 'fps': 30, 'size': 173556205, 'md5': '3c05e1e69bd6b13eb1464451033907d2', 'public_name': 'HD 1080p', 'size_short': '165.52MB'}, {'quality': 'sd', 'type': 'video/mp4', 'width': 960, 'height': 540, 'expires': '2020-10-07T04:00:55+00:00', 'link': 'https://player.vimeo.com/play/2064523153?s=465407533_1602043255_f5ac38009ec5c0a13b30600c631446a3&loc=external&context=Vimeo%5CController%5CApi%5CResources%5CUser%5CVideosController.&download=1&filename=15%2BAtalhos%2Bno%2BExcel%2Bpara%2BFicar%2BMais%2BProdutivo165.mp4', 'created_time': '2020-10-06T14:29:06+00:00', 'fps': 30, 'size': 89881848, 'md5': '4a5c5c96cdf18202ed20ca534fd88007', 'public_name': 'SD 540p', 'size_short': '85.72MB'}, {'quality': 'sd', 'type': 'video/mp4', 'width': 426, 'height': 240, 'expires': '2020-10-07T04:00:55+00:00', 'link': 'https://player.vimeo.com/play/2064522788?s=465407533_1602043255_16c69872e2c4e92cc949d0b772242959&loc=external&context=Vimeo%5CController%5CApi%5CResources%5CUser%5CVideosController.&download=1&filename=15%2BAtalhos%2Bno%2BExcel%2Bpara%2BFicar%2BMais%2BProdutivo139.mp4', 'created_time': '2020-10-06T14:28:31+00:00', 'fps': 30, 'size': 27401450, 'md5': '91cc0229087ec94bf67f64b01ad8768d', 'public_name': 'SD 240p', 'size_short': '26.13MB'}, {'quality': 'sd', 'type': 'video/mp4', 'width': 640, 'height': 360, 'expires': '2020-10-07T04:00:55+00:00', 'link': 'https://player.vimeo.com/play/2064522787?s=465407533_1602043255_310b087e2fc8c5e1154ce7a33d10d60e&loc=external&context=Vimeo%5CController%5CApi%5CResources%5CUser%5CVideosController.&download=1&filename=15%2BAtalhos%2Bno%2BExcel%2Bpara%2BFicar%2BMais%2BProdutivo164.mp4', 'created_time': '2020-10-06T14:28:31+00:00', 'fps': 30, 'size': 48627155, 'md5': '548640bf79ce1552a3401726bb0e4224', 'public_name': 'SD 360p', 'size_short': '46.37MB'}]}\n",
    "print(video)"
   ]
  },
  {
   "cell_type": "markdown",
   "id": "493c7b74",
   "metadata": {},
   "source": [
    "Repare que é um código completamente confuso, mas que no fim do dia é um dicionário<br>\n",
    "<p>Dentro dele queremos printar o link de download do video para depois simplesmente clicar em todos os links e fazer o download de todos os videos<br>\n",
    "<p>No nosso caso, tinhamos uma lista com mais de 2000 videos(sendo cada video um dicionario exatamente como esse ai em cima), e por isso fizemos exatamente esse mesmo procedimento que vc vai construir aqui abaixo, só que dentro de um \"for\" para percorrer todos os videos."
   ]
  },
  {
   "cell_type": "code",
   "execution_count": 25,
   "id": "3ac84461",
   "metadata": {},
   "outputs": [
    {
     "name": "stdout",
     "output_type": "stream",
     "text": [
      "uri\n",
      "name\n",
      "download\n"
     ]
    }
   ],
   "source": [
    "for chave in video:\n",
    "    print(chave)"
   ]
  },
  {
   "cell_type": "code",
   "execution_count": 33,
   "id": "a2b01d74",
   "metadata": {},
   "outputs": [
    {
     "data": {
      "text/plain": [
       "'https://player.vimeo.com/play/2064518513?s=465407533_1602043255_5f2f93dd00b66eba66d481f913383b4f&loc=external&context=Vimeo%5CController%5CApi%5CResources%5CUser%5CVideosController.&download=1&filename=15%2BAtalhos%2Bno%2BExcel%2Bpara%2BFicar%2BMais%2BProdutivosource.mp4'"
      ]
     },
     "execution_count": 33,
     "metadata": {},
     "output_type": "execute_result"
    }
   ],
   "source": [
    "video['download'][0]['link']"
   ]
  },
  {
   "cell_type": "code",
   "execution_count": null,
   "id": "e80640b8",
   "metadata": {},
   "outputs": [],
   "source": []
  }
 ],
 "metadata": {
  "kernelspec": {
   "display_name": "Python 3 (ipykernel)",
   "language": "python",
   "name": "python3"
  },
  "language_info": {
   "codemirror_mode": {
    "name": "ipython",
    "version": 3
   },
   "file_extension": ".py",
   "mimetype": "text/x-python",
   "name": "python",
   "nbconvert_exporter": "python",
   "pygments_lexer": "ipython3",
   "version": "3.9.7"
  }
 },
 "nbformat": 4,
 "nbformat_minor": 5
}
