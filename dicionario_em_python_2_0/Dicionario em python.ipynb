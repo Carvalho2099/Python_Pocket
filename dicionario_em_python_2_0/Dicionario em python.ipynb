{
 "cells": [
  {
   "cell_type": "markdown",
   "id": "bf717ecb",
   "metadata": {},
   "source": [
    "# Dicionários em Python\n",
    "### Estrutura:\n",
    "dicionario = {chave: valor, chave:valor, chave:valor...}\n",
    "### Vantagens e Desvantagens\n",
    "- Não devem ser usados para pegar itens em uma determinada ordem\n",
    "- Podem ter valores heterogêneos(vários tipos de valores dentro de um mesmo dicionário: inteiros, strings, listas, etc)\n",
    "- Chaves são obrigatoriamente únicas\n",
    "- Mais intuitivo de trabalhar"
   ]
  },
  {
   "cell_type": "code",
   "execution_count": 2,
   "id": "730da1ef",
   "metadata": {},
   "outputs": [],
   "source": [
    "mais_vendidos = {'tecnologia': 'iphone', 'refrigeracao': 'ar consul 12000 btu', 'livros': 'o alquimista', 'eletrodomestico': 'geladeira', 'lazer': 'prancha surf'}\n",
    "vendas_tecnologia = {'iphone': 15000,'samsung galaxy': 12000, 'tv samsung': 10000, 'tablet': 1720, 'ps5': 14300 ,'ipad': 1000,'tv philco': 2500,'notebook dell': 1700,'notebook asus': 2450}"
   ]
  },
  {
   "cell_type": "markdown",
   "id": "daad5ecd",
   "metadata": {},
   "source": [
    "- Qual foi o item mais vendido na categoria \"livros\" e \"lazer\"\n",
    "- Quanto foi vendido de \"notebook asus\" e \"ipad\""
   ]
  },
  {
   "cell_type": "code",
   "execution_count": 3,
   "id": "1257a816",
   "metadata": {},
   "outputs": [
    {
     "name": "stdout",
     "output_type": "stream",
     "text": [
      "o alquimista\n",
      "prancha surf\n",
      "2450\n",
      "1000\n"
     ]
    }
   ],
   "source": [
    "livro = mais_vendidos['livros']\n",
    "lazer = mais_vendidos['lazer']\n",
    "notebook = vendas_tecnologia['notebook asus']\n",
    "ipad = vendas_tecnologia['ipad']\n",
    "print(livro)\n",
    "print(lazer)\n",
    "print(notebook)\n",
    "print(ipad)"
   ]
  },
  {
   "cell_type": "markdown",
   "id": "f41f497f",
   "metadata": {},
   "source": [
    "# Não confie na ordem dos dicionários, use as chaves\n",
    "### Python Versões Antigas x Versões novas\n",
    "- Dicionários eram \"sem ordem\". Atualmente tem ordem, mas o certo é usar as chaves\n",
    "- 2 formas de pegar um valor:\n",
    "    - dicionario[chave]\n",
    "    - .get(chave)"
   ]
  },
  {
   "cell_type": "markdown",
   "id": "3e2689e6",
   "metadata": {},
   "source": [
    "## utilizando .get()\n",
    "- Qual foi o item mais vendido na categoria \"livros\" e \"lazer\"\n",
    "- Quanto foi vendido de \"notebook asus\" e \"ipad\""
   ]
  },
  {
   "cell_type": "code",
   "execution_count": 4,
   "id": "dec70530",
   "metadata": {},
   "outputs": [
    {
     "name": "stdout",
     "output_type": "stream",
     "text": [
      "o alquimista\n",
      "prancha surf\n",
      "2450\n",
      "1000\n"
     ]
    }
   ],
   "source": [
    "livro2 = mais_vendidos.get('livros')\n",
    "lazer2 = mais_vendidos.get('lazer')\n",
    "notebook2 = vendas_tecnologia.get('notebook asus')\n",
    "ipad2 = vendas_tecnologia.get('ipad')\n",
    "print(livro2)\n",
    "print(lazer2)\n",
    "print(notebook2)\n",
    "print(ipad2)"
   ]
  },
  {
   "cell_type": "markdown",
   "id": "4b1e2e36",
   "metadata": {},
   "source": [
    "### Verificar se o item está no dicionário\n",
    "- if\n",
    "- .get(chave) = None"
   ]
  },
  {
   "cell_type": "markdown",
   "id": "c6795de2",
   "metadata": {},
   "source": [
    "Se tentarmos procurar as vendas \"copo\" na lista de vendas tecnologia, o que acontece?"
   ]
  },
  {
   "cell_type": "code",
   "execution_count": 5,
   "id": "7e2b0a2b",
   "metadata": {},
   "outputs": [
    {
     "name": "stdout",
     "output_type": "stream",
     "text": [
      "Copo não está dentro da lista de produtos de tecnologia\n"
     ]
    }
   ],
   "source": [
    "if vendas_tecnologia.get('copo') == None:\n",
    "    print('Copo não está dentro da lista de produtos de tecnologia')\n",
    "else:\n",
    "    print(vendas_tecnologia.get('copo'))"
   ]
  },
  {
   "cell_type": "code",
   "execution_count": null,
   "id": "b879d17f",
   "metadata": {},
   "outputs": [],
   "source": []
  }
 ],
 "metadata": {
  "kernelspec": {
   "display_name": "Python 3 (ipykernel)",
   "language": "python",
   "name": "python3"
  },
  "language_info": {
   "codemirror_mode": {
    "name": "ipython",
    "version": 3
   },
   "file_extension": ".py",
   "mimetype": "text/x-python",
   "name": "python",
   "nbconvert_exporter": "python",
   "pygments_lexer": "ipython3",
   "version": "3.9.7"
  }
 },
 "nbformat": 4,
 "nbformat_minor": 5
}
