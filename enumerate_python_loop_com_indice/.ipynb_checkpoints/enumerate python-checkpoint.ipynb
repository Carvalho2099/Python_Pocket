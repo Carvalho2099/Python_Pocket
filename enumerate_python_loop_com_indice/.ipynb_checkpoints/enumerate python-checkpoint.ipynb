{
 "cells": [
  {
   "cell_type": "markdown",
   "id": "8e8e7dd1",
   "metadata": {},
   "source": [
    "# enumerate Python\n",
    "Usamos quando queremos pegar o índice de um item ao mesmo tempo que queremos o valor do item"
   ]
  },
  {
   "cell_type": "code",
   "execution_count": 1,
   "id": "143664ae",
   "metadata": {},
   "outputs": [],
   "source": [
    "vendedores = ['Marcus', 'Amanda', 'Ale', 'Carol']\n",
    "vendas = [15, 20, 10, 30]"
   ]
  },
  {
   "cell_type": "code",
   "execution_count": 3,
   "id": "533dc8d3",
   "metadata": {},
   "outputs": [
    {
     "name": "stdout",
     "output_type": "stream",
     "text": [
      "Marcus\n",
      "Amanda\n",
      "Ale\n",
      "Carol\n"
     ]
    }
   ],
   "source": [
    "for vendedor in vendedores:\n",
    "    print(vendedor)"
   ]
  },
  {
   "cell_type": "code",
   "execution_count": 4,
   "id": "a163c715",
   "metadata": {},
   "outputs": [
    {
     "name": "stdout",
     "output_type": "stream",
     "text": [
      "Marcus\n",
      "15\n",
      "Amanda\n",
      "20\n",
      "Ale\n",
      "10\n",
      "Carol\n",
      "30\n"
     ]
    }
   ],
   "source": [
    "tamanho_lista = len(vendedores)\n",
    "for i in range(tamanho_lista):\n",
    "    print(vendedores[i])\n",
    "    print(vendas[i])"
   ]
  },
  {
   "cell_type": "code",
   "execution_count": 5,
   "id": "053b74e5",
   "metadata": {},
   "outputs": [
    {
     "name": "stdout",
     "output_type": "stream",
     "text": [
      "Marcus\n",
      "15\n",
      "Amanda\n",
      "20\n",
      "Ale\n",
      "10\n",
      "Carol\n",
      "30\n"
     ]
    }
   ],
   "source": [
    "for indice, vendedor in enumerate(vendedores):\n",
    "    print(vendedor)\n",
    "    print(vendas[indice])"
   ]
  },
  {
   "cell_type": "code",
   "execution_count": 6,
   "id": "388feefa",
   "metadata": {},
   "outputs": [
    {
     "name": "stdout",
     "output_type": "stream",
     "text": [
      "Marcus\n",
      "15\n",
      "Amanda\n",
      "20\n",
      "Ale\n",
      "10\n",
      "Carol\n",
      "30\n"
     ]
    }
   ],
   "source": [
    "for vendedor, venda in zip(vendedores, vendas):\n",
    "    print(vendedor)\n",
    "    print(venda)"
   ]
  },
  {
   "cell_type": "code",
   "execution_count": null,
   "id": "f2a4339e",
   "metadata": {},
   "outputs": [],
   "source": []
  }
 ],
 "metadata": {
  "kernelspec": {
   "display_name": "Python 3 (ipykernel)",
   "language": "python",
   "name": "python3"
  },
  "language_info": {
   "codemirror_mode": {
    "name": "ipython",
    "version": 3
   },
   "file_extension": ".py",
   "mimetype": "text/x-python",
   "name": "python",
   "nbconvert_exporter": "python",
   "pygments_lexer": "ipython3",
   "version": "3.9.7"
  }
 },
 "nbformat": 4,
 "nbformat_minor": 5
}
