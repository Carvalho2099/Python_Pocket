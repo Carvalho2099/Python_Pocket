{
 "cells": [
  {
   "cell_type": "markdown",
   "id": "8679f592",
   "metadata": {},
   "source": [
    "# Function em Iterables\n",
    "## Segue a mesma lógica de list comprehension, só que mais simples\n",
    "Basicamente alguns metodos e funções que ja existem no python podem rodar uma function para cada item, da mesma forma que fizemos com list comprehension.<br>\n",
    "Isso pode nos ajudar a resolver alguns desafios de forma mais simples<br>\n",
    "Uma função que permite que façamos isso é a map function<br>\n",
    "## map function\n",
    "`\n",
    "lista = list(map(funcao, iterable_original))\n",
    "`\n",
    "- Exemploa: digamos que eu tenha uma function que corrige um código de um produto."
   ]
  },
  {
   "cell_type": "code",
   "execution_count": 1,
   "id": "952989f7",
   "metadata": {},
   "outputs": [],
   "source": [
    "def padronizar_texto(texto):\n",
    "    texto = texto.casefold()\n",
    "    texto = texto.replace(\"  \", \" \")\n",
    "    texto = texto.strip()\n",
    "    return texto"
   ]
  },
  {
   "cell_type": "markdown",
   "id": "e2207880",
   "metadata": {},
   "source": [
    "- Agora queremos padronizar uma lista de codigo"
   ]
  },
  {
   "cell_type": "code",
   "execution_count": 7,
   "id": "f4e0b4b2",
   "metadata": {},
   "outputs": [],
   "source": [
    "produtos = ['ABC12', 'abc34', 'AbC37', 'beb12', 'BSA151', 'BEB23']"
   ]
  },
  {
   "cell_type": "markdown",
   "id": "a05a5bf3",
   "metadata": {},
   "source": [
    "- Usando for, temos que percorret a lista toda e para cada item executar a function"
   ]
  },
  {
   "cell_type": "code",
   "execution_count": 5,
   "id": "e6e8a94e",
   "metadata": {},
   "outputs": [
    {
     "name": "stdout",
     "output_type": "stream",
     "text": [
      "['ABC12', 'abc34', 'AbC37', 'beb12', 'BSA151', 'BEB23']\n",
      "['abc12', 'abc34', 'abc37', 'beb12', 'bsa151', 'beb23']\n"
     ]
    }
   ],
   "source": [
    "print(produtos)\n",
    "for i, produto in enumerate(produtos):\n",
    "    produtos[i] = padronizar_texto(produto)\n",
    "print(produtos)\n",
    "    "
   ]
  },
  {
   "cell_type": "markdown",
   "id": "2dfef10c",
   "metadata": {},
   "source": [
    "- Usando map, apenas chamamos a funçao e ela já faz isso."
   ]
  },
  {
   "cell_type": "code",
   "execution_count": 8,
   "id": "6c423595",
   "metadata": {},
   "outputs": [
    {
     "name": "stdout",
     "output_type": "stream",
     "text": [
      "['ABC12', 'abc34', 'AbC37', 'beb12', 'BSA151', 'BEB23']\n",
      "['abc12', 'abc34', 'abc37', 'beb12', 'bsa151', 'beb23']\n"
     ]
    }
   ],
   "source": [
    "print(produtos)\n",
    "produtos = list(map(padronizar_texto, produtos))\n",
    "print(produtos)"
   ]
  },
  {
   "cell_type": "markdown",
   "id": "b5f43dee",
   "metadata": {},
   "source": [
    "# Sort (ou sorted) com function\n",
    "## Descrição:\n",
    "Até agora no programa, usamos várias vezes o .sort() para ordenar listas.<br>\n",
    "Mas o método sort tem um parametro que nunca usamos e que agora sabemos usar."
   ]
  },
  {
   "cell_type": "code",
   "execution_count": 11,
   "id": "3ba33938",
   "metadata": {},
   "outputs": [
    {
     "name": "stdout",
     "output_type": "stream",
     "text": [
      "['apple tv', 'mac', 'Iphone x', 'Iphone 11', 'Ipad', 'apple watch', 'mac book', 'airpods']\n",
      "['Ipad', 'Iphone 11', 'Iphone x', 'airpods', 'apple tv', 'apple watch', 'mac', 'mac book']\n"
     ]
    }
   ],
   "source": [
    "produtos = ['apple tv', 'mac', 'Iphone x', 'Iphone 11', 'Ipad', 'apple watch', 'mac book', 'airpods']\n",
    "print(produtos)\n",
    "produtos.sort()\n",
    "print(produtos)"
   ]
  },
  {
   "cell_type": "markdown",
   "id": "5f1f54ef",
   "metadata": {},
   "source": [
    "- Como fariamos para ordenar corretamente?"
   ]
  },
  {
   "cell_type": "code",
   "execution_count": 14,
   "id": "767f0888",
   "metadata": {},
   "outputs": [
    {
     "name": "stdout",
     "output_type": "stream",
     "text": [
      "['airpods', 'apple tv', 'apple watch', 'Ipad', 'Iphone 11', 'Iphone x', 'mac', 'mac book']\n",
      "['airpods', 'apple tv', 'apple watch', 'Ipad', 'Iphone 11', 'Iphone x', 'mac', 'mac book']\n"
     ]
    }
   ],
   "source": [
    "print(produtos)\n",
    "produtos.sort(key=str.casefold)\n",
    "print(produtos)"
   ]
  },
  {
   "cell_type": "markdown",
   "id": "61ed44f3",
   "metadata": {},
   "source": [
    "## Outro exemplo: como ordener um dicionario de acordo com o valor"
   ]
  },
  {
   "cell_type": "code",
   "execution_count": 10,
   "id": "1660e6d2",
   "metadata": {},
   "outputs": [],
   "source": [
    "vendas_produtos = {'vinho': 100, 'cafeteira': 150, 'microondas': 300, 'iphone': 5500}"
   ]
  },
  {
   "cell_type": "markdown",
   "id": "2a2562bf",
   "metadata": {},
   "source": [
    "- Queremos lista da maior quantidade de vendas para a menos, para enviar coo report para o diretor."
   ]
  },
  {
   "cell_type": "code",
   "execution_count": 17,
   "id": "0d9df49c",
   "metadata": {},
   "outputs": [
    {
     "name": "stdout",
     "output_type": "stream",
     "text": [
      "{'vinho': 100, 'cafeteira': 150, 'microondas': 300, 'iphone': 5500}\n",
      "[('vinho', 100), ('cafeteira', 150), ('microondas', 300), ('iphone', 5500)]\n",
      "[('iphone', 5500), ('microondas', 300), ('cafeteira', 150), ('vinho', 100)]\n",
      "{'iphone': 5500, 'microondas': 300, 'cafeteira': 150, 'vinho': 100}\n"
     ]
    }
   ],
   "source": [
    "lista_vendas = list(vendas_produtos.items())\n",
    "print(vendas_produtos)\n",
    "print(lista_vendas)\n",
    "\n",
    "def segundo_item(tupla):\n",
    "    return tupla[1]\n",
    "lista_vendas.sort(key=segundo_item, reverse=True)\n",
    "print(lista_vendas)\n",
    "print(dict(lista_vendas))"
   ]
  },
  {
   "cell_type": "code",
   "execution_count": null,
   "id": "e63a0ead",
   "metadata": {},
   "outputs": [],
   "source": []
  }
 ],
 "metadata": {
  "kernelspec": {
   "display_name": "Python 3 (ipykernel)",
   "language": "python",
   "name": "python3"
  },
  "language_info": {
   "codemirror_mode": {
    "name": "ipython",
    "version": 3
   },
   "file_extension": ".py",
   "mimetype": "text/x-python",
   "name": "python",
   "nbconvert_exporter": "python",
   "pygments_lexer": "ipython3",
   "version": "3.9.7"
  }
 },
 "nbformat": 4,
 "nbformat_minor": 5
}
