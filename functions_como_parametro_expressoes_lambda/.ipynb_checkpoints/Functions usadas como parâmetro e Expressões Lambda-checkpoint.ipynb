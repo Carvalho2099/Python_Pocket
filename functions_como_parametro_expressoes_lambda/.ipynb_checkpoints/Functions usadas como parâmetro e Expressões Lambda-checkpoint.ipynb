{
 "cells": [
  {
   "cell_type": "markdown",
   "id": "23f1c9d0",
   "metadata": {},
   "source": [
    "# Function em Iterables\n",
    "## Segue a mesma lógica de list comprehension, só que mais simples\n",
    "Basicamente alguns metodos e funções que ja existem no python podem rodar uma function para cada item, da mesma forma que fizemos com list comprehension.<br>\n",
    "Isso pode nos ajudar a resolver alguns desafios de forma mais simples<br>\n",
    "Uma função que permite que façamos isso é a map function<br>\n",
    "## map function\n",
    "`\n",
    "lista = list(map(funcao, iterable_original))\n",
    "`\n",
    "- Exemploa: digamos que eu tenha uma function que corrige um código de um produto."
   ]
  },
  {
   "cell_type": "code",
   "execution_count": 1,
   "id": "7e6f81c3",
   "metadata": {},
   "outputs": [],
   "source": [
    "def padronizar_texto(texto):\n",
    "    texto = texto.casefold()\n",
    "    texto = texto.replace(\"  \", \" \")\n",
    "    texto = texto.strip()\n",
    "    return texto"
   ]
  },
  {
   "cell_type": "markdown",
   "id": "64088131",
   "metadata": {},
   "source": [
    "- Agora queremos padronizar uma lista de codigo"
   ]
  },
  {
   "cell_type": "code",
   "execution_count": 7,
   "id": "9ada91c8",
   "metadata": {},
   "outputs": [],
   "source": [
    "produtos = ['ABC12', 'abc34', 'AbC37', 'beb12', 'BSA151', 'BEB23']"
   ]
  },
  {
   "cell_type": "markdown",
   "id": "cff94ad6",
   "metadata": {},
   "source": [
    "- Usando for, temos que percorret a lista toda e para cada item executar a function"
   ]
  },
  {
   "cell_type": "code",
   "execution_count": 5,
   "id": "6056953c",
   "metadata": {},
   "outputs": [
    {
     "name": "stdout",
     "output_type": "stream",
     "text": [
      "['ABC12', 'abc34', 'AbC37', 'beb12', 'BSA151', 'BEB23']\n",
      "['abc12', 'abc34', 'abc37', 'beb12', 'bsa151', 'beb23']\n"
     ]
    }
   ],
   "source": [
    "print(produtos)\n",
    "for i, produto in enumerate(produtos):\n",
    "    produtos[i] = padronizar_texto(produto)\n",
    "print(produtos)\n",
    "    "
   ]
  },
  {
   "cell_type": "markdown",
   "id": "e58400d1",
   "metadata": {},
   "source": [
    "- Usando map, apenas chamamos a funçao e ela já faz isso."
   ]
  },
  {
   "cell_type": "code",
   "execution_count": 8,
   "id": "67e44b4a",
   "metadata": {},
   "outputs": [
    {
     "name": "stdout",
     "output_type": "stream",
     "text": [
      "['ABC12', 'abc34', 'AbC37', 'beb12', 'BSA151', 'BEB23']\n",
      "['abc12', 'abc34', 'abc37', 'beb12', 'bsa151', 'beb23']\n"
     ]
    }
   ],
   "source": [
    "print(produtos)\n",
    "produtos = list(map(padronizar_texto, produtos))\n",
    "print(produtos)"
   ]
  },
  {
   "cell_type": "markdown",
   "id": "61cec564",
   "metadata": {},
   "source": [
    "# Sort (ou sorted) com function\n",
    "## Descrição:\n",
    "Até agora no programa, usamos várias vezes o .sort() para ordenar listas.<br>\n",
    "Mas o método sort tem um parametro que nunca usamos e que agora sabemos usar."
   ]
  },
  {
   "cell_type": "code",
   "execution_count": 11,
   "id": "c19db32d",
   "metadata": {},
   "outputs": [
    {
     "name": "stdout",
     "output_type": "stream",
     "text": [
      "['apple tv', 'mac', 'Iphone x', 'Iphone 11', 'Ipad', 'apple watch', 'mac book', 'airpods']\n",
      "['Ipad', 'Iphone 11', 'Iphone x', 'airpods', 'apple tv', 'apple watch', 'mac', 'mac book']\n"
     ]
    }
   ],
   "source": [
    "produtos = ['apple tv', 'mac', 'Iphone x', 'Iphone 11', 'Ipad', 'apple watch', 'mac book', 'airpods']\n",
    "print(produtos)\n",
    "produtos.sort()\n",
    "print(produtos)"
   ]
  },
  {
   "cell_type": "markdown",
   "id": "9ca02f1e",
   "metadata": {},
   "source": [
    "- Como fariamos para ordenar corretamente?"
   ]
  },
  {
   "cell_type": "code",
   "execution_count": 14,
   "id": "020a8f80",
   "metadata": {},
   "outputs": [
    {
     "name": "stdout",
     "output_type": "stream",
     "text": [
      "['airpods', 'apple tv', 'apple watch', 'Ipad', 'Iphone 11', 'Iphone x', 'mac', 'mac book']\n",
      "['airpods', 'apple tv', 'apple watch', 'Ipad', 'Iphone 11', 'Iphone x', 'mac', 'mac book']\n"
     ]
    }
   ],
   "source": [
    "print(produtos)\n",
    "produtos.sort(key=str.casefold)\n",
    "print(produtos)"
   ]
  },
  {
   "cell_type": "markdown",
   "id": "fb7a9d5e",
   "metadata": {},
   "source": [
    "## Outro exemplo: como ordener um dicionario de acordo com o valor"
   ]
  },
  {
   "cell_type": "code",
   "execution_count": 10,
   "id": "752020f4",
   "metadata": {},
   "outputs": [],
   "source": [
    "vendas_produtos = {'vinho': 100, 'cafeteira': 150, 'microondas': 300, 'iphone': 5500}"
   ]
  },
  {
   "cell_type": "markdown",
   "id": "6a4e4ccd",
   "metadata": {},
   "source": [
    "- Queremos lista da maior quantidade de vendas para a menos, para enviar coo report para o diretor."
   ]
  },
  {
   "cell_type": "code",
   "execution_count": 17,
   "id": "1d03623b",
   "metadata": {},
   "outputs": [
    {
     "name": "stdout",
     "output_type": "stream",
     "text": [
      "{'vinho': 100, 'cafeteira': 150, 'microondas': 300, 'iphone': 5500}\n",
      "[('vinho', 100), ('cafeteira', 150), ('microondas', 300), ('iphone', 5500)]\n",
      "[('iphone', 5500), ('microondas', 300), ('cafeteira', 150), ('vinho', 100)]\n",
      "{'iphone': 5500, 'microondas': 300, 'cafeteira': 150, 'vinho': 100}\n"
     ]
    }
   ],
   "source": [
    "lista_vendas = list(vendas_produtos.items())\n",
    "print(vendas_produtos)\n",
    "print(lista_vendas)\n",
    "\n",
    "def segundo_item(tupla):\n",
    "    return tupla[1]\n",
    "lista_vendas.sort(key=segundo_item, reverse=True)\n",
    "print(lista_vendas)\n",
    "print(dict(lista_vendas))"
   ]
  },
  {
   "cell_type": "markdown",
   "id": "dbe81a11",
   "metadata": {},
   "source": [
    "# Lambda Expressions\n",
    "## Objetivo:\n",
    "- As lambdas expressions são funções anônimas (sem nome mesmo) que tem uma linha de codigo e são atribuidas a uma variavel, como se a variavel virasse uma função.\n",
    "- Elas normalmente são usadas para fazer uma unica ação, mas em Python usamos pricipalmente dentro de metodos como argumento, para não precisarmos criar uma função só para isso.\n",
    "- Outra aplicação delas está em criar um \"gerador de funções\"<br>\n",
    "## Obs\n",
    "- Não é obrigatorio usar lambda expression, até porque praticamente tudo o que você faz com elas você consegue fazer com functions normais. Mas é importante entender quando encontrar e saber usar a medida que for se acostumando e vendo necessidade.<br>\n",
    "## Estrutura:\n",
    "``\n",
    "minha_funcao = lambda parametro : espressao\n",
    "``"
   ]
  },
  {
   "cell_type": "code",
   "execution_count": 20,
   "id": "b185d8f4",
   "metadata": {},
   "outputs": [
    {
     "name": "stdout",
     "output_type": "stream",
     "text": [
      "10\n",
      "10\n"
     ]
    }
   ],
   "source": [
    "# exemplo mais simples\n",
    "def minha_funcao(num):\n",
    "    return num * 2\n",
    "print(minha_funcao(5))\n",
    "\n",
    "minha_funcao_2 = lambda num: num * 2\n",
    "print(minha_funcao_2(5))"
   ]
  },
  {
   "cell_type": "code",
   "execution_count": 21,
   "id": "adff6747",
   "metadata": {},
   "outputs": [
    {
     "name": "stdout",
     "output_type": "stream",
     "text": [
      "130.0\n",
      "130.0\n"
     ]
    }
   ],
   "source": [
    "# Exemplo útil: Camos usar lambda expressiona para criar uma função que calcula o preço dos produtos acrescido do imposto\n",
    "imposto = 0.3\n",
    "\n",
    "def preco_imposto(preco):\n",
    "    return preco * (1+ 0.3)\n",
    "\n",
    "preco_imposto_2 = lambda preco : preco * (1+ 0.3)\n",
    "\n",
    "print(preco_imposto(100))\n",
    "print(preco_imposto_2(100))"
   ]
  },
  {
   "cell_type": "markdown",
   "id": "791edefe",
   "metadata": {},
   "source": [
    "# Principal Aplicação de Lambda Expressions\n",
    "## Usar lambda como argumento de alguma outra função, como map e filter"
   ]
  },
  {
   "cell_type": "code",
   "execution_count": 22,
   "id": "30f9a43b",
   "metadata": {},
   "outputs": [],
   "source": [
    "preco_tecnologia = {'notebook asus': 2450, 'iphone': 4500, 'samsung galaxy': 3000, 'tv samsung': 1000, 'ps5': 3000, 'tablet': 1000, 'notebook dell': 3000, 'ipad': 3000, 'tv philco': 800, 'notebook hp': 1700}"
   ]
  },
  {
   "cell_type": "markdown",
   "id": "9c4bd147",
   "metadata": {},
   "source": [
    "## map()\n",
    "- Queremos saber o preço de cada produto adicionando o valor do imposto de 30% sobre o valor do produto"
   ]
  },
  {
   "cell_type": "code",
   "execution_count": 28,
   "id": "5416a07d",
   "metadata": {},
   "outputs": [
    {
     "name": "stdout",
     "output_type": "stream",
     "text": [
      "[3185.0, 5850.0, 3900.0, 1300.0, 3900.0, 1300.0, 3900.0, 3900.0, 1040.0, 2210.0]\n"
     ]
    }
   ],
   "source": [
    "# fazendo por function\n",
    "def calcular_preco(preco):\n",
    "    return preco * 1.3\n",
    "\n",
    "preco_com_imposto = list(map(calcular_preco, preco_tecnologia.values()))\n",
    "print(preco_com_imposto)"
   ]
  },
  {
   "cell_type": "code",
   "execution_count": 30,
   "id": "97e4b19c",
   "metadata": {},
   "outputs": [
    {
     "name": "stdout",
     "output_type": "stream",
     "text": [
      "[3185.0, 5850.0, 3900.0, 1300.0, 3900.0, 1300.0, 3900.0, 3900.0, 1040.0, 2210.0]\n"
     ]
    }
   ],
   "source": [
    "# fazendo por lambda\n",
    "preco_com_imposto_2 = list(map(lambda preco : preco * 1.3, preco_tecnologia.values()))\n",
    "print(preco_com_imposto_2)\n"
   ]
  },
  {
   "cell_type": "markdown",
   "id": "3c6d7213",
   "metadata": {},
   "source": [
    "## filer()\n",
    "- Queremos apenas os produtos que custam acima de 2000<br>\n",
    "`\n",
    "filter(funcao, iterable) -> retorna como resposta todos os itens do iterable onde a função é True\n",
    "`"
   ]
  },
  {
   "cell_type": "code",
   "execution_count": 36,
   "id": "155dc494",
   "metadata": {},
   "outputs": [
    {
     "name": "stdout",
     "output_type": "stream",
     "text": [
      "{'notebook asus': 2450, 'iphone': 4500, 'samsung galaxy': 3000, 'ps5': 3000, 'notebook dell': 3000, 'ipad': 3000}\n"
     ]
    }
   ],
   "source": [
    "# fazendo por function\n",
    "def ismaior2000(item):\n",
    "    return item[1] > 2000\n",
    "produtos_acima2000 = dict(list(filter(ismaior2000, preco_tecnologia.items())))\n",
    "print(produtos_acima2000)"
   ]
  },
  {
   "cell_type": "code",
   "execution_count": 37,
   "id": "ec56c518",
   "metadata": {},
   "outputs": [
    {
     "name": "stdout",
     "output_type": "stream",
     "text": [
      "{'notebook asus': 2450, 'iphone': 4500, 'samsung galaxy': 3000, 'ps5': 3000, 'notebook dell': 3000, 'ipad': 3000}\n"
     ]
    }
   ],
   "source": [
    "# fazendo por lambda\n",
    "produtos_2_acima2000 = dict(list(filter(lambda item : item[1] > 2000, preco_tecnologia.items())))\n",
    "print(produtos_2_acima2000)"
   ]
  },
  {
   "cell_type": "markdown",
   "id": "4ccd8f05",
   "metadata": {},
   "source": [
    "# Lambda Expressions para gerar funções\n",
    "## Descrição\n",
    "- Uma das grandes aplicações de lambda expressions, é criar um \"gerador de funções\". Nesse caso, usaremos a lambda expressions dentro da definição de uma função."
   ]
  },
  {
   "cell_type": "markdown",
   "id": "16e3d96c",
   "metadata": {},
   "source": [
    "## Exemplo:\n",
    "1. Vamos criar uma função que me permita calcular o valor acrescido do imposto de diferentes categorias (produto, serviço, royalties, etc.)"
   ]
  },
  {
   "cell_type": "code",
   "execution_count": 42,
   "id": "a5ae9c8b",
   "metadata": {},
   "outputs": [],
   "source": [
    "# produto 0.1\n",
    "# serviço 0.15\n",
    "# royalties 0.25\n",
    "def calcular_imposto(imposto):\n",
    "    return lambda preco: preco * imposto"
   ]
  },
  {
   "cell_type": "markdown",
   "id": "1d0d47b6",
   "metadata": {},
   "source": [
    "- Agora vamos definir as funções que calculam o imposto das 3 categorias  (produto, serviço, royalties)"
   ]
  },
  {
   "cell_type": "code",
   "execution_count": 43,
   "id": "fbb011fe",
   "metadata": {},
   "outputs": [],
   "source": [
    "calcular_preco_produto = calcular_imposto(0.1)\n",
    "calcular_preco_servico = calcular_imposto(0.15)\n",
    "calcular_preco_royalties = calcular_imposto(0.25)"
   ]
  },
  {
   "cell_type": "code",
   "execution_count": null,
   "id": "42416d1c",
   "metadata": {},
   "outputs": [],
   "source": []
  },
  {
   "cell_type": "markdown",
   "id": "1db07211",
   "metadata": {},
   "source": [
    "- Agora vamos aplicar com um valor de nota fiscal de 100 para ver o resultado"
   ]
  },
  {
   "cell_type": "code",
   "execution_count": 44,
   "id": "38feb5a5",
   "metadata": {},
   "outputs": [
    {
     "name": "stdout",
     "output_type": "stream",
     "text": [
      "10.0\n"
     ]
    }
   ],
   "source": [
    "print(calcular_preco_produto(100))"
   ]
  },
  {
   "cell_type": "code",
   "execution_count": null,
   "id": "6f35386a",
   "metadata": {},
   "outputs": [],
   "source": []
  }
 ],
 "metadata": {
  "kernelspec": {
   "display_name": "Python 3 (ipykernel)",
   "language": "python",
   "name": "python3"
  },
  "language_info": {
   "codemirror_mode": {
    "name": "ipython",
    "version": 3
   },
   "file_extension": ".py",
   "mimetype": "text/x-python",
   "name": "python",
   "nbconvert_exporter": "python",
   "pygments_lexer": "ipython3",
   "version": "3.9.7"
  }
 },
 "nbformat": 4,
 "nbformat_minor": 5
}
