{
 "cells": [
  {
   "cell_type": "markdown",
   "id": "8d325f6f",
   "metadata": {},
   "source": [
    "# Function em Iterables\n",
    "## Segue a mesma lógica de list comprehension, só que mais simples\n",
    "Basicamente alguns metodos e funções que ja existem no python podem rodar uma function para cada item, da mesma forma que fizemos com list comprehension.<br>\n",
    "Isso pode nos ajudar a resolver alguns desafios de forma mais simples<br>\n",
    "Uma função que permite que façamos isso é a map function<br>\n",
    "## map function\n",
    "`\n",
    "lista = list(map(funcao, iterable_original))\n",
    "`\n",
    "- Exemploa: digamos que eu tenha uma function que corrige um código de um produto."
   ]
  },
  {
   "cell_type": "code",
   "execution_count": 1,
   "id": "a6e81dd3",
   "metadata": {},
   "outputs": [],
   "source": [
    "def padronizar_texto(texto):\n",
    "    texto = texto.casefold()\n",
    "    texto = texto.replace(\"  \", \" \")\n",
    "    texto = texto.strip()\n",
    "    return texto"
   ]
  },
  {
   "cell_type": "markdown",
   "id": "fe692248",
   "metadata": {},
   "source": [
    "- Agora queremos padronizar uma lista de codigo"
   ]
  },
  {
   "cell_type": "code",
   "execution_count": 7,
   "id": "13508744",
   "metadata": {},
   "outputs": [],
   "source": [
    "produtos = ['ABC12', 'abc34', 'AbC37', 'beb12', 'BSA151', 'BEB23']"
   ]
  },
  {
   "cell_type": "markdown",
   "id": "6cdb9735",
   "metadata": {},
   "source": [
    "- Usando for, temos que percorret a lista toda e para cada item executar a function"
   ]
  },
  {
   "cell_type": "code",
   "execution_count": 5,
   "id": "5aa3ab0f",
   "metadata": {},
   "outputs": [
    {
     "name": "stdout",
     "output_type": "stream",
     "text": [
      "['ABC12', 'abc34', 'AbC37', 'beb12', 'BSA151', 'BEB23']\n",
      "['abc12', 'abc34', 'abc37', 'beb12', 'bsa151', 'beb23']\n"
     ]
    }
   ],
   "source": [
    "print(produtos)\n",
    "for i, produto in enumerate(produtos):\n",
    "    produtos[i] = padronizar_texto(produto)\n",
    "print(produtos)\n",
    "    "
   ]
  },
  {
   "cell_type": "markdown",
   "id": "75c9de9c",
   "metadata": {},
   "source": [
    "- Usando map, apenas chamamos a funçao e ela já faz isso."
   ]
  },
  {
   "cell_type": "code",
   "execution_count": 8,
   "id": "be2b00f6",
   "metadata": {},
   "outputs": [
    {
     "name": "stdout",
     "output_type": "stream",
     "text": [
      "['ABC12', 'abc34', 'AbC37', 'beb12', 'BSA151', 'BEB23']\n",
      "['abc12', 'abc34', 'abc37', 'beb12', 'bsa151', 'beb23']\n"
     ]
    }
   ],
   "source": [
    "print(produtos)\n",
    "produtos = list(map(padronizar_texto, produtos))\n",
    "print(produtos)"
   ]
  },
  {
   "cell_type": "markdown",
   "id": "0688c89d",
   "metadata": {},
   "source": [
    "# Sort (ou sorted) com function\n",
    "## Descrição:\n",
    "Até agora no programa, usamos várias vezes o .sort() para ordenar listas.<br>\n",
    "Mas o método sort tem um parametro que nunca usamos e que agora sabemos usar."
   ]
  },
  {
   "cell_type": "code",
   "execution_count": 11,
   "id": "596057ad",
   "metadata": {},
   "outputs": [
    {
     "name": "stdout",
     "output_type": "stream",
     "text": [
      "['apple tv', 'mac', 'Iphone x', 'Iphone 11', 'Ipad', 'apple watch', 'mac book', 'airpods']\n",
      "['Ipad', 'Iphone 11', 'Iphone x', 'airpods', 'apple tv', 'apple watch', 'mac', 'mac book']\n"
     ]
    }
   ],
   "source": [
    "produtos = ['apple tv', 'mac', 'Iphone x', 'Iphone 11', 'Ipad', 'apple watch', 'mac book', 'airpods']\n",
    "print(produtos)\n",
    "produtos.sort()\n",
    "print(produtos)"
   ]
  },
  {
   "cell_type": "markdown",
   "id": "fe10ace7",
   "metadata": {},
   "source": [
    "- Como fariamos para ordenar corretamente?"
   ]
  },
  {
   "cell_type": "code",
   "execution_count": 14,
   "id": "d7edd5dd",
   "metadata": {},
   "outputs": [
    {
     "name": "stdout",
     "output_type": "stream",
     "text": [
      "['airpods', 'apple tv', 'apple watch', 'Ipad', 'Iphone 11', 'Iphone x', 'mac', 'mac book']\n",
      "['airpods', 'apple tv', 'apple watch', 'Ipad', 'Iphone 11', 'Iphone x', 'mac', 'mac book']\n"
     ]
    }
   ],
   "source": [
    "print(produtos)\n",
    "produtos.sort(key=str.casefold)\n",
    "print(produtos)"
   ]
  },
  {
   "cell_type": "markdown",
   "id": "7f352609",
   "metadata": {},
   "source": [
    "## Outro exemplo: como ordener um dicionario de acordo com o valor"
   ]
  },
  {
   "cell_type": "code",
   "execution_count": 10,
   "id": "9642f0df",
   "metadata": {},
   "outputs": [],
   "source": [
    "vendas_produtos = {'vinho': 100, 'cafeteira': 150, 'microondas': 300, 'iphone': 5500}"
   ]
  },
  {
   "cell_type": "markdown",
   "id": "50fa869a",
   "metadata": {},
   "source": [
    "- Queremos lista da maior quantidade de vendas para a menos, para enviar coo report para o diretor."
   ]
  },
  {
   "cell_type": "code",
   "execution_count": 17,
   "id": "2fb7425a",
   "metadata": {},
   "outputs": [
    {
     "name": "stdout",
     "output_type": "stream",
     "text": [
      "{'vinho': 100, 'cafeteira': 150, 'microondas': 300, 'iphone': 5500}\n",
      "[('vinho', 100), ('cafeteira', 150), ('microondas', 300), ('iphone', 5500)]\n",
      "[('iphone', 5500), ('microondas', 300), ('cafeteira', 150), ('vinho', 100)]\n",
      "{'iphone': 5500, 'microondas': 300, 'cafeteira': 150, 'vinho': 100}\n"
     ]
    }
   ],
   "source": [
    "lista_vendas = list(vendas_produtos.items())\n",
    "print(vendas_produtos)\n",
    "print(lista_vendas)\n",
    "\n",
    "def segundo_item(tupla):\n",
    "    return tupla[1]\n",
    "lista_vendas.sort(key=segundo_item, reverse=True)\n",
    "print(lista_vendas)\n",
    "print(dict(lista_vendas))"
   ]
  },
  {
   "cell_type": "markdown",
   "id": "1ae4caf4",
   "metadata": {},
   "source": [
    "# Lambda Expressions\n",
    "## Objetivo:\n",
    "- As lambdas expressions são funções anônimas (sem nome mesmo) que tem uma linha de codigo e são atribuidas a uma variavel, como se a variavel virasse uma função.\n",
    "- Elas normalmente são usadas para fazer uma unica ação, mas em Python usamos pricipalmente dentro de metodos como argumento, para não precisarmos criar uma função só para isso.\n",
    "- Outra aplicação delas está em criar um \"gerador de funções\"<br>\n",
    "## Obs\n",
    "- Não é obrigatorio usar lambda expression, até porque praticamente tudo o que você faz com elas você consegue fazer com functions normais. Mas é importante entender quando encontrar e saber usar a medida que for se acostumando e vendo necessidade.<br>\n",
    "## Estrutura:\n",
    "``\n",
    "minha_funcao = lambda parametro : espressao\n",
    "``"
   ]
  },
  {
   "cell_type": "code",
   "execution_count": 20,
   "id": "ebb97f6c",
   "metadata": {},
   "outputs": [
    {
     "name": "stdout",
     "output_type": "stream",
     "text": [
      "10\n",
      "10\n"
     ]
    }
   ],
   "source": [
    "# exemplo mais simples\n",
    "def minha_funcao(num):\n",
    "    return num * 2\n",
    "print(minha_funcao(5))\n",
    "\n",
    "minha_funcao_2 = lambda num: num * 2\n",
    "print(minha_funcao_2(5))"
   ]
  },
  {
   "cell_type": "code",
   "execution_count": 21,
   "id": "24aa655a",
   "metadata": {},
   "outputs": [
    {
     "name": "stdout",
     "output_type": "stream",
     "text": [
      "130.0\n",
      "130.0\n"
     ]
    }
   ],
   "source": [
    "# Exemplo útil: Camos usar lambda expressiona para criar uma função que calcula o preço dos produtos acrescido do imposto\n",
    "imposto = 0.3\n",
    "\n",
    "def preco_imposto(preco):\n",
    "    return preco * (1+ 0.3)\n",
    "\n",
    "preco_imposto_2 = lambda preco : preco * (1+ 0.3)\n",
    "\n",
    "print(preco_imposto(100))\n",
    "print(preco_imposto_2(100))"
   ]
  },
  {
   "cell_type": "code",
   "execution_count": null,
   "id": "d8bd2963",
   "metadata": {},
   "outputs": [],
   "source": []
  }
 ],
 "metadata": {
  "kernelspec": {
   "display_name": "Python 3 (ipykernel)",
   "language": "python",
   "name": "python3"
  },
  "language_info": {
   "codemirror_mode": {
    "name": "ipython",
    "version": 3
   },
   "file_extension": ".py",
   "mimetype": "text/x-python",
   "name": "python",
   "nbconvert_exporter": "python",
   "pygments_lexer": "ipython3",
   "version": "3.9.7"
  }
 },
 "nbformat": 4,
 "nbformat_minor": 5
}
