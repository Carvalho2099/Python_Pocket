{
 "cells": [
  {
   "cell_type": "markdown",
   "id": "23bc708a",
   "metadata": {},
   "source": [
    "# Function em Iterables\n",
    "## Segue a mesma lógica de list comprehension, só que mais simples\n",
    "Basicamente alguns metodos e funções que ja existem no python podem rodar uma function para cada item, da mesma forma que fizemos com list comprehension.<br>\n",
    "Isso pode nos ajudar a resolver alguns desafios de forma mais simples<br>\n",
    "Uma função que permite que façamos isso é a map function<br>\n",
    "## map function\n",
    "`\n",
    "lista = list(map(funcao, iterable_original))\n",
    "`\n",
    "- Exemploa: digamos que eu tenha uma function que corrige um código de um produto."
   ]
  },
  {
   "cell_type": "code",
   "execution_count": 1,
   "id": "b0737c8c",
   "metadata": {},
   "outputs": [],
   "source": [
    "def padronizar_texto(texto):\n",
    "    texto = texto.casefold()\n",
    "    texto = texto.replace(\"  \", \" \")\n",
    "    texto = texto.strip()\n",
    "    return texto"
   ]
  },
  {
   "cell_type": "markdown",
   "id": "7529b5c1",
   "metadata": {},
   "source": [
    "- Agora queremos padronizar uma lista de codigo"
   ]
  },
  {
   "cell_type": "code",
   "execution_count": 7,
   "id": "487e2cf6",
   "metadata": {},
   "outputs": [],
   "source": [
    "produtos = ['ABC12', 'abc34', 'AbC37', 'beb12', 'BSA151', 'BEB23']"
   ]
  },
  {
   "cell_type": "markdown",
   "id": "27b699a6",
   "metadata": {},
   "source": [
    "- Usando for, temos que percorret a lista toda e para cada item executar a function"
   ]
  },
  {
   "cell_type": "code",
   "execution_count": 5,
   "id": "1401cb4b",
   "metadata": {},
   "outputs": [
    {
     "name": "stdout",
     "output_type": "stream",
     "text": [
      "['ABC12', 'abc34', 'AbC37', 'beb12', 'BSA151', 'BEB23']\n",
      "['abc12', 'abc34', 'abc37', 'beb12', 'bsa151', 'beb23']\n"
     ]
    }
   ],
   "source": [
    "print(produtos)\n",
    "for i, produto in enumerate(produtos):\n",
    "    produtos[i] = padronizar_texto(produto)\n",
    "print(produtos)\n",
    "    "
   ]
  },
  {
   "cell_type": "markdown",
   "id": "478bd4bd",
   "metadata": {},
   "source": [
    "- Usando map, apenas chamamos a funçao e ela já faz isso."
   ]
  },
  {
   "cell_type": "code",
   "execution_count": 8,
   "id": "4eb6850c",
   "metadata": {},
   "outputs": [
    {
     "name": "stdout",
     "output_type": "stream",
     "text": [
      "['ABC12', 'abc34', 'AbC37', 'beb12', 'BSA151', 'BEB23']\n",
      "['abc12', 'abc34', 'abc37', 'beb12', 'bsa151', 'beb23']\n"
     ]
    }
   ],
   "source": [
    "print(produtos)\n",
    "produtos = list(map(padronizar_texto, produtos))\n",
    "print(produtos)"
   ]
  },
  {
   "cell_type": "code",
   "execution_count": null,
   "id": "f8d2a7cb",
   "metadata": {},
   "outputs": [],
   "source": []
  }
 ],
 "metadata": {
  "kernelspec": {
   "display_name": "Python 3 (ipykernel)",
   "language": "python",
   "name": "python3"
  },
  "language_info": {
   "codemirror_mode": {
    "name": "ipython",
    "version": 3
   },
   "file_extension": ".py",
   "mimetype": "text/x-python",
   "name": "python",
   "nbconvert_exporter": "python",
   "pygments_lexer": "ipython3",
   "version": "3.9.7"
  }
 },
 "nbformat": 4,
 "nbformat_minor": 5
}
