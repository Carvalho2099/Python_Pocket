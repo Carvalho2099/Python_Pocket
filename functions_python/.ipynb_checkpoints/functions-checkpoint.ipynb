{
 "cells": [
  {
   "cell_type": "markdown",
   "id": "0727c128",
   "metadata": {},
   "source": [
    "# Function Python\n",
    "## O que?\n",
    "Functions são blocos de códigos que servem 1 único propósito, fazer uma ação especifica.\n",
    "## Estrutura básica"
   ]
  },
  {
   "cell_type": "markdown",
   "id": "ac96d323",
   "metadata": {},
   "source": [
    "```\n",
    "def nome_funcao():\n",
    "    faça alguma coisa\n",
    "    faça outra coisa\n",
    "    return valor_final\n",
    "```"
   ]
  },
  {
   "cell_type": "markdown",
   "id": "de21243f",
   "metadata": {},
   "source": [
    "- Exemplo: vamos criar uma função de cadastro de um produto. Essa função deve garantir que o produto está em letra minúscula."
   ]
  },
  {
   "cell_type": "code",
   "execution_count": 4,
   "id": "de5b33a3",
   "metadata": {},
   "outputs": [],
   "source": [
    "def cadastrar_produto():    \n",
    "    produto = input('Digite o nome do produto que deseja cadastrar: ')\n",
    "    produto = produto.lower()\n",
    "    print(f'Produto {produto} cadastrado com sucesso.')"
   ]
  },
  {
   "cell_type": "code",
   "execution_count": 5,
   "id": "9727eb70",
   "metadata": {},
   "outputs": [
    {
     "name": "stdout",
     "output_type": "stream",
     "text": [
      "Digite o nome do produto que deseja cadastrar: FeIjÃO\n",
      "Produto feijão cadastrado com sucesso.\n"
     ]
    }
   ],
   "source": [
    "cadastrar_produto()"
   ]
  },
  {
   "cell_type": "markdown",
   "id": "2c62cbac",
   "metadata": {},
   "source": [
    "# Rertonar um valor na Function\n",
    "## Estrutura Básica\n",
    "```\n",
    "def nome_funcao():\n",
    "    return valor_final\n",
    "```"
   ]
  },
  {
   "cell_type": "code",
   "execution_count": 6,
   "id": "f65b588e",
   "metadata": {},
   "outputs": [],
   "source": [
    "def cadastrar_produto() -> str:    \n",
    "    produto = input('Digite o nome do produto que deseja cadastrar: ')\n",
    "    produto = produto.lower()\n",
    "    produto = produto.strip()\n",
    "    return produto\n",
    "    "
   ]
  },
  {
   "cell_type": "code",
   "execution_count": 7,
   "id": "aaff8575",
   "metadata": {},
   "outputs": [
    {
     "name": "stdout",
     "output_type": "stream",
     "text": [
      "Digite o nome do produto que deseja cadastrar:   FeiJao\n",
      "Produto feijao cadastrado com sucesso.\n"
     ]
    }
   ],
   "source": [
    "produto = cadastrar_produto()\n",
    "print(f'Produto {produto} cadastrado com sucesso.')"
   ]
  },
  {
   "cell_type": "markdown",
   "id": "7e20bd50",
   "metadata": {},
   "source": [
    "# Argumentos/Parâmetros da Função\n",
    "## Estrutura:\n",
    "```\n",
    "def minha_funcao(parametro1, parametro2, parametro3):\n",
    "    return parametro1 + parametro2 + parametro3\n",
    "```\n",
    "- Exemplo: nosso famoso print"
   ]
  },
  {
   "cell_type": "code",
   "execution_count": 8,
   "id": "cf41acc4",
   "metadata": {},
   "outputs": [
    {
     "name": "stdout",
     "output_type": "stream",
     "text": [
      "texto\n"
     ]
    }
   ],
   "source": [
    "print('texto')"
   ]
  },
  {
   "cell_type": "markdown",
   "id": "7b4d76b6",
   "metadata": {},
   "source": [
    "- Só para mostrar o funcionamento, vamos criar uma função de soma"
   ]
  },
  {
   "cell_type": "code",
   "execution_count": 9,
   "id": "da1ee3bb",
   "metadata": {},
   "outputs": [
    {
     "name": "stdout",
     "output_type": "stream",
     "text": [
      "60\n"
     ]
    }
   ],
   "source": [
    "def minha_soma(num1, num2, num3):\n",
    "    return num1 + num2 + num3\n",
    "\n",
    "soma = minha_soma(10, 20, 30)\n",
    "print(soma)"
   ]
  },
  {
   "cell_type": "markdown",
   "id": "03bf280e",
   "metadata": {},
   "source": [
    "- vamos criar uma function com parâmetro<br>\n",
    "Digamos que estamos criando um programa para categorizar os produtos de uma revendedora de bebidas.<br>\n",
    "Cada produto tem um código. O tipo de produto é dado pelas 3 primeiras letras do código.<br>\n",
    "Ex:<br>\n",
    "Vinho -> BEB12302<br>\n",
    "Cerveja -> BEB 12043<br>\n",
    "Vodka -> BEB34501<br>\n",
    "<br>\n",
    "Guaraná -> BSA11104<br>\n",
    "Coca -> BSA54301<br>\n",
    "Sprite -> BSA34012<br>\n",
    "Água -> BSA09871<br>\n",
    "Repare que bebidas não acóolicas começam com BSA e bebidas alcóolicas começam com BEB.<br>\n",
    "Crie um programa que analise uma lista de produtos e envie instruções para a equipe de estoque dizendo quais produtos devem ser enviados para área de bebidas alcóolicas."
   ]
  },
  {
   "cell_type": "code",
   "execution_count": 17,
   "id": "024983cd",
   "metadata": {},
   "outputs": [
    {
     "name": "stdout",
     "output_type": "stream",
     "text": [
      "Enviar BEB12302 para o setor de bebidas alcóolicas.\n",
      "Enviar BEB12043 para o setor de bebidas alcóolicas.\n",
      "Enviar BEB34501 para o setor de bebidas alcóolicas.\n",
      "Enviar BEB12302 para o setor de bebidas alcóolicas.\n",
      "Enviar BEB12043 para o setor de bebidas alcóolicas.\n",
      "Enviar BEB34501 para o setor de bebidas alcóolicas.\n"
     ]
    }
   ],
   "source": [
    "\n",
    "def is_alcoolico(bebida):\n",
    "    bebida = bebida.upper()\n",
    "    if bebida[:3] == 'BEB':\n",
    "        return True\n",
    "    return False\n",
    "        \n",
    "produtos = ['BEB12302', 'BEB12043', 'BEB34501', 'BSA11104', 'BSA54301', 'BSA34012', 'BSA09871', 'BEB12302', 'BEB12043', 'BEB34501', 'BSA11104', 'BSA54301', 'BSA34012', 'BSA09871']\n",
    "for produto in produtos:\n",
    "    if is_alcoolico(produto):\n",
    "        print(f'Enviar {produto} para o setor de bebidas alcóolicas.')\n"
   ]
  },
  {
   "cell_type": "code",
   "execution_count": null,
   "id": "37775ea6",
   "metadata": {},
   "outputs": [],
   "source": []
  }
 ],
 "metadata": {
  "kernelspec": {
   "display_name": "Python 3 (ipykernel)",
   "language": "python",
   "name": "python3"
  },
  "language_info": {
   "codemirror_mode": {
    "name": "ipython",
    "version": 3
   },
   "file_extension": ".py",
   "mimetype": "text/x-python",
   "name": "python",
   "nbconvert_exporter": "python",
   "pygments_lexer": "ipython3",
   "version": "3.9.7"
  }
 },
 "nbformat": 4,
 "nbformat_minor": 5
}
