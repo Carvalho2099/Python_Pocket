{
 "cells": [
  {
   "cell_type": "markdown",
   "id": "0c6a84ad",
   "metadata": {},
   "source": [
    "# Function Python\n",
    "## O que?\n",
    "Functions são blocos de códigos que servem 1 único propósito, fazer uma ação especifica.\n",
    "## Estrutura básica"
   ]
  },
  {
   "cell_type": "markdown",
   "id": "fbdd83d0",
   "metadata": {},
   "source": [
    "```\n",
    "def nome_funcao():\n",
    "    faça alguma coisa\n",
    "    faça outra coisa\n",
    "    return valor_final\n",
    "```"
   ]
  },
  {
   "cell_type": "markdown",
   "id": "1e4152aa",
   "metadata": {},
   "source": [
    "- Exemplo: vamos criar uma função de cadastro de um produto. Essa função deve garantir que o produto está em letra minúscula."
   ]
  },
  {
   "cell_type": "code",
   "execution_count": 4,
   "id": "417c703e",
   "metadata": {},
   "outputs": [],
   "source": [
    "def cadastrar_produto():    \n",
    "    produto = input('Digite o nome do produto que deseja cadastrar: ')\n",
    "    produto = produto.lower()\n",
    "    print(f'Produto {produto} cadastrado com sucesso.')"
   ]
  },
  {
   "cell_type": "code",
   "execution_count": 5,
   "id": "501809d4",
   "metadata": {},
   "outputs": [
    {
     "name": "stdout",
     "output_type": "stream",
     "text": [
      "Digite o nome do produto que deseja cadastrar: FeIjÃO\n",
      "Produto feijão cadastrado com sucesso.\n"
     ]
    }
   ],
   "source": [
    "cadastrar_produto()"
   ]
  },
  {
   "cell_type": "markdown",
   "id": "b9b671f6",
   "metadata": {},
   "source": [
    "# Rertonar um valor na Function\n",
    "## Estrutura Básica\n",
    "```\n",
    "def nome_funcao():\n",
    "    return valor_final\n",
    "```"
   ]
  },
  {
   "cell_type": "code",
   "execution_count": 6,
   "id": "9da65282",
   "metadata": {},
   "outputs": [],
   "source": [
    "def cadastrar_produto() -> str:    \n",
    "    produto = input('Digite o nome do produto que deseja cadastrar: ')\n",
    "    produto = produto.lower()\n",
    "    produto = produto.strip()\n",
    "    return produto\n",
    "    "
   ]
  },
  {
   "cell_type": "code",
   "execution_count": 7,
   "id": "8077ef9a",
   "metadata": {},
   "outputs": [
    {
     "name": "stdout",
     "output_type": "stream",
     "text": [
      "Digite o nome do produto que deseja cadastrar:   FeiJao\n",
      "Produto feijao cadastrado com sucesso.\n"
     ]
    }
   ],
   "source": [
    "produto = cadastrar_produto()\n",
    "print(f'Produto {produto} cadastrado com sucesso.')"
   ]
  },
  {
   "cell_type": "markdown",
   "id": "0e3387dd",
   "metadata": {},
   "source": [
    "# Argumentos/Parâmetros da Função\n",
    "## Estrutura:\n",
    "```\n",
    "def minha_funcao(parametro1, parametro2, parametro3):\n",
    "    return parametro1 + parametro2 + parametro3\n",
    "```\n",
    "- Exemplo: nosso famoso print"
   ]
  },
  {
   "cell_type": "code",
   "execution_count": 8,
   "id": "e0b18da7",
   "metadata": {},
   "outputs": [
    {
     "name": "stdout",
     "output_type": "stream",
     "text": [
      "texto\n"
     ]
    }
   ],
   "source": [
    "print('texto')"
   ]
  },
  {
   "cell_type": "markdown",
   "id": "21904c8b",
   "metadata": {},
   "source": [
    "- Só para mostrar o funcionamento, vamos criar uma função de soma"
   ]
  },
  {
   "cell_type": "code",
   "execution_count": 9,
   "id": "a745d5d3",
   "metadata": {},
   "outputs": [
    {
     "name": "stdout",
     "output_type": "stream",
     "text": [
      "60\n"
     ]
    }
   ],
   "source": [
    "def minha_soma(num1, num2, num3):\n",
    "    return num1 + num2 + num3\n",
    "\n",
    "soma = minha_soma(10, 20, 30)\n",
    "print(soma)"
   ]
  },
  {
   "cell_type": "markdown",
   "id": "99b87baf",
   "metadata": {},
   "source": [
    "- vamos criar uma function com parâmetro<br>\n",
    "Digamos que estamos criando um programa para categorizar os produtos de uma revendedora de bebidas.<br>\n",
    "Cada produto tem um código. O tipo de produto é dado pelas 3 primeiras letras do código.<br>\n",
    "Ex:<br>\n",
    "Vinho -> BEB12302<br>\n",
    "Cerveja -> BEB 12043<br>\n",
    "Vodka -> BEB34501<br>\n",
    "<br>\n",
    "Guaraná -> BSA11104<br>\n",
    "Coca -> BSA54301<br>\n",
    "Sprite -> BSA34012<br>\n",
    "Água -> BSA09871<br>\n",
    "Repare que bebidas não acóolicas começam com BSA e bebidas alcóolicas começam com BEB.<br>\n",
    "Crie um programa que analise uma lista de produtos e envie instruções para a equipe de estoque dizendo quais produtos devem ser enviados para área de bebidas alcóolicas."
   ]
  },
  {
   "cell_type": "code",
   "execution_count": 18,
   "id": "eb28d51e",
   "metadata": {},
   "outputs": [
    {
     "name": "stdout",
     "output_type": "stream",
     "text": [
      "Enviar BEB12302 para o setor de bebidas alcóolicas.\n",
      "Enviar BEB12043 para o setor de bebidas alcóolicas.\n",
      "Enviar BEB34501 para o setor de bebidas alcóolicas.\n",
      "Enviar BEB12302 para o setor de bebidas alcóolicas.\n",
      "Enviar BEB12043 para o setor de bebidas alcóolicas.\n",
      "Enviar BEB34501 para o setor de bebidas alcóolicas.\n"
     ]
    }
   ],
   "source": [
    "def is_alcoolico(bebida):\n",
    "    bebida = bebida.upper()\n",
    "    if 'BEB' in bebida:\n",
    "        return True\n",
    "        \n",
    "produtos = ['BEB12302', 'BEB12043', 'BEB34501', 'BSA11104', 'BSA54301', 'BSA34012', 'BSA09871', 'BEB12302', 'BEB12043', 'BEB34501', 'BSA11104', 'BSA54301', 'BSA34012', 'BSA09871']\n",
    "for produto in produtos:\n",
    "    if is_alcoolico(produto):\n",
    "        print(f'Enviar {produto} para o setor de bebidas alcóolicas.')\n"
   ]
  },
  {
   "cell_type": "markdown",
   "id": "04c816fb",
   "metadata": {},
   "source": [
    "# Mais de um argumento e formas de passar argumento para uma função\n",
    "## Estrutura:\n",
    "- 2 formas de passar o argumento:\n",
    "    1. Em ordem(posicional argument)\n",
    "    2. Com o nome do argumento (keyword argument)\n",
    "- Vamos mudar a função anterior para conseguir categorizar qualquer tipo de bebida de acordo com o \"rótulo\" passado para a nossa function. Basicamente nossa function agora tem que verificar se oproduto é da categoria passada ou não."
   ]
  },
  {
   "cell_type": "code",
   "execution_count": 21,
   "id": "402a48ec",
   "metadata": {},
   "outputs": [
    {
     "name": "stdout",
     "output_type": "stream",
     "text": [
      "Enviar BEB12302 para o setor de bebidas alcóolicas.\n",
      "Enviar BEB12043 para o setor de bebidas alcóolicas.\n",
      "Enviar BEB34501 para o setor de bebidas alcóolicas.\n",
      "Enviar BSA11104 para o setor de bebidas não alcóolicas.\n",
      "Enviar BSA54301 para o setor de bebidas não alcóolicas.\n",
      "Enviar BSA34012 para o setor de bebidas não alcóolicas.\n",
      "Enviar BSA09871 para o setor de bebidas não alcóolicas.\n",
      "Enviar BEB12302 para o setor de bebidas alcóolicas.\n",
      "Enviar BEB12043 para o setor de bebidas alcóolicas.\n",
      "Enviar BEB34501 para o setor de bebidas alcóolicas.\n",
      "Enviar BSA11104 para o setor de bebidas não alcóolicas.\n",
      "Enviar BSA54301 para o setor de bebidas não alcóolicas.\n",
      "Enviar BSA34012 para o setor de bebidas não alcóolicas.\n",
      "Enviar BSA09871 para o setor de bebidas não alcóolicas.\n"
     ]
    }
   ],
   "source": [
    "def is_categoria(bebida, cod_categoria):\n",
    "    bebida = bebida.upper()\n",
    "    if cod_categoria in bebida:\n",
    "        return True\n",
    "    return False\n",
    "        \n",
    "produtos = ['BEB12302', 'BEB12043', 'BEB34501', 'BSA11104', 'BSA54301', 'BSA34012', 'BSA09871', 'BEB12302', 'BEB12043', 'BEB34501', 'BSA11104', 'BSA54301', 'BSA34012', 'BSA09871']\n",
    "for produto in produtos:\n",
    "    if is_categoria(produto, 'BEB'):\n",
    "        print(f'Enviar {produto} para o setor de bebidas alcóolicas.')\n",
    "    elif is_categoria(produto, 'BSA'):\n",
    "        print(f'Enviar {produto} para o setor de bebidas não alcóolicas.')"
   ]
  },
  {
   "cell_type": "markdown",
   "id": "56bd2ae7",
   "metadata": {},
   "source": [
    "## Obs Importante: Sua função sempre deve estar acima de onde é chamada\n",
    "- Normalmente, nos nossos códigos, fazemos as definições de todas as funções antes e depois construimos o resto do código.\n",
    "- É comum dar '2 enters' após a definição da função para deixar o código mais organizado."
   ]
  },
  {
   "cell_type": "markdown",
   "id": "22f4ebfb",
   "metadata": {},
   "source": [
    "# Exercícios\n",
    "## 1. Function para cálculo de carga tributaria\n",
    "(Lembrando, não se atente ao funcionamento real da carga tributaria, é apenas um exemplo imaginário para treinarmos as functions com algo mais pratico).<br>\n",
    "Imagine que você trabalha no setor contábil de uma grande empresa de Varejo.<br>\n",
    "Crie uma function que calcule qual o % de carga tributária que está sendo aplicado sobre um determinado produto, dado o preço de venda, o \"lucro\" e os custos (fora os impostos) dele."
   ]
  },
  {
   "cell_type": "code",
   "execution_count": 22,
   "id": "500d38bf",
   "metadata": {},
   "outputs": [],
   "source": [
    "preco = 1500\n",
    "custo = 400\n",
    "lucro = 800"
   ]
  },
  {
   "cell_type": "markdown",
   "id": "9e87a7ea",
   "metadata": {},
   "source": [
    "Repare que o preço menos o custo não é igual o lucro, porque ainda foi descontado o imposto. Sua function deve calcular qual foi o % de imposto aplicado no preço total."
   ]
  },
  {
   "cell_type": "code",
   "execution_count": 30,
   "id": "c26a47ca",
   "metadata": {},
   "outputs": [],
   "source": [
    "def calcular_imposto(preco, custo, lucro):\n",
    "    imposto = preco - custo - lucro\n",
    "    imposto_pocentagem = imposto / preco\n",
    "    print(f'porcentagem de imposto cobrado foi de {imposto_pocentagem:.1f}%')"
   ]
  },
  {
   "cell_type": "code",
   "execution_count": 31,
   "id": "642726dd",
   "metadata": {},
   "outputs": [
    {
     "name": "stdout",
     "output_type": "stream",
     "text": [
      "porcentagem de imposto cobrado foi de 0.2%\n"
     ]
    }
   ],
   "source": [
    "calcular_imposto(preco, custo, lucro)"
   ]
  },
  {
   "cell_type": "code",
   "execution_count": null,
   "id": "d779de87",
   "metadata": {},
   "outputs": [],
   "source": []
  }
 ],
 "metadata": {
  "kernelspec": {
   "display_name": "Python 3 (ipykernel)",
   "language": "python",
   "name": "python3"
  },
  "language_info": {
   "codemirror_mode": {
    "name": "ipython",
    "version": 3
   },
   "file_extension": ".py",
   "mimetype": "text/x-python",
   "name": "python",
   "nbconvert_exporter": "python",
   "pygments_lexer": "ipython3",
   "version": "3.9.7"
  }
 },
 "nbformat": 4,
 "nbformat_minor": 5
}
