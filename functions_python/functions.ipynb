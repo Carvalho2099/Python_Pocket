{
 "cells": [
  {
   "cell_type": "markdown",
   "id": "df6d2f1a",
   "metadata": {},
   "source": [
    "# Function Python\n",
    "## O que?\n",
    "Functions são blocos de códigos que servem 1 único propósito, fazer uma ação especifica.\n",
    "## Estrutura básica"
   ]
  },
  {
   "cell_type": "markdown",
   "id": "b9239a7d",
   "metadata": {},
   "source": [
    "```\n",
    "def nome_funcao():\n",
    "    faça alguma coisa\n",
    "    faça outra coisa\n",
    "    return valor_final\n",
    "```"
   ]
  },
  {
   "cell_type": "markdown",
   "id": "9ae827eb",
   "metadata": {},
   "source": [
    "- Exemplo: vamos criar uma função de cadastro de um produto. Essa função deve garantir que o produto está em letra minúscula."
   ]
  },
  {
   "cell_type": "code",
   "execution_count": 4,
   "id": "fdd7e1b8",
   "metadata": {},
   "outputs": [],
   "source": [
    "def cadastrar_produto():    \n",
    "    produto = input('Digite o nome do produto que deseja cadastrar: ')\n",
    "    produto = produto.lower()\n",
    "    print(f'Produto {produto} cadastrado com sucesso.')"
   ]
  },
  {
   "cell_type": "code",
   "execution_count": 5,
   "id": "f78bf9ca",
   "metadata": {},
   "outputs": [
    {
     "name": "stdout",
     "output_type": "stream",
     "text": [
      "Digite o nome do produto que deseja cadastrar: FeIjÃO\n",
      "Produto feijão cadastrado com sucesso.\n"
     ]
    }
   ],
   "source": [
    "cadastrar_produto()"
   ]
  },
  {
   "cell_type": "code",
   "execution_count": null,
   "id": "4936f389",
   "metadata": {},
   "outputs": [],
   "source": []
  }
 ],
 "metadata": {
  "kernelspec": {
   "display_name": "Python 3 (ipykernel)",
   "language": "python",
   "name": "python3"
  },
  "language_info": {
   "codemirror_mode": {
    "name": "ipython",
    "version": 3
   },
   "file_extension": ".py",
   "mimetype": "text/x-python",
   "name": "python",
   "nbconvert_exporter": "python",
   "pygments_lexer": "ipython3",
   "version": "3.9.7"
  }
 },
 "nbformat": 4,
 "nbformat_minor": 5
}
