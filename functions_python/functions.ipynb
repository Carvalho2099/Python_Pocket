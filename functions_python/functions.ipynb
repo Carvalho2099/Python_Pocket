{
 "cells": [
  {
   "cell_type": "markdown",
   "id": "69d30cd5",
   "metadata": {},
   "source": [
    "# Function Python\n",
    "## O que?\n",
    "Functions são blocos de códigos que servem 1 único propósito, fazer uma ação especifica.\n",
    "## Estrutura básica"
   ]
  },
  {
   "cell_type": "markdown",
   "id": "6b02f916",
   "metadata": {},
   "source": [
    "```\n",
    "def nome_funcao():\n",
    "    faça alguma coisa\n",
    "    faça outra coisa\n",
    "    return valor_final\n",
    "```"
   ]
  },
  {
   "cell_type": "markdown",
   "id": "86606aa3",
   "metadata": {},
   "source": [
    "- Exemplo: vamos criar uma função de cadastro de um produto. Essa função deve garantir que o produto está em letra minúscula."
   ]
  },
  {
   "cell_type": "code",
   "execution_count": 4,
   "id": "6a3acb3d",
   "metadata": {},
   "outputs": [],
   "source": [
    "def cadastrar_produto():    \n",
    "    produto = input('Digite o nome do produto que deseja cadastrar: ')\n",
    "    produto = produto.lower()\n",
    "    print(f'Produto {produto} cadastrado com sucesso.')"
   ]
  },
  {
   "cell_type": "code",
   "execution_count": 5,
   "id": "8fe3a990",
   "metadata": {},
   "outputs": [
    {
     "name": "stdout",
     "output_type": "stream",
     "text": [
      "Digite o nome do produto que deseja cadastrar: FeIjÃO\n",
      "Produto feijão cadastrado com sucesso.\n"
     ]
    }
   ],
   "source": [
    "cadastrar_produto()"
   ]
  },
  {
   "cell_type": "markdown",
   "id": "a3eab6b0",
   "metadata": {},
   "source": [
    "# Rertonar um valor na Function\n",
    "## Estrutura Básica\n",
    "```\n",
    "def nome_funcao():\n",
    "    return valor_final\n",
    "```"
   ]
  },
  {
   "cell_type": "code",
   "execution_count": 6,
   "id": "83403735",
   "metadata": {},
   "outputs": [],
   "source": [
    "def cadastrar_produto() -> str:    \n",
    "    produto = input('Digite o nome do produto que deseja cadastrar: ')\n",
    "    produto = produto.lower()\n",
    "    produto = produto.strip()\n",
    "    return produto\n",
    "    "
   ]
  },
  {
   "cell_type": "code",
   "execution_count": 7,
   "id": "cf538c5d",
   "metadata": {},
   "outputs": [
    {
     "name": "stdout",
     "output_type": "stream",
     "text": [
      "Digite o nome do produto que deseja cadastrar:   FeiJao\n",
      "Produto feijao cadastrado com sucesso.\n"
     ]
    }
   ],
   "source": [
    "produto = cadastrar_produto()\n",
    "print(f'Produto {produto} cadastrado com sucesso.')"
   ]
  },
  {
   "cell_type": "markdown",
   "id": "a8b254f5",
   "metadata": {},
   "source": [
    "# Argumentos/Parâmetros da Função\n",
    "## Estrutura:\n",
    "```\n",
    "def minha_funcao(parametro1, parametro2, parametro3):\n",
    "    return parametro1 + parametro2 + parametro3\n",
    "```\n",
    "- Exemplo: nosso famoso print"
   ]
  },
  {
   "cell_type": "code",
   "execution_count": 8,
   "id": "8b966952",
   "metadata": {},
   "outputs": [
    {
     "name": "stdout",
     "output_type": "stream",
     "text": [
      "texto\n"
     ]
    }
   ],
   "source": [
    "print('texto')"
   ]
  },
  {
   "cell_type": "markdown",
   "id": "6771867f",
   "metadata": {},
   "source": [
    "- Só para mostrar o funcionamento, vamos criar uma função de soma"
   ]
  },
  {
   "cell_type": "code",
   "execution_count": 9,
   "id": "12a6a7fa",
   "metadata": {},
   "outputs": [
    {
     "name": "stdout",
     "output_type": "stream",
     "text": [
      "60\n"
     ]
    }
   ],
   "source": [
    "def minha_soma(num1, num2, num3):\n",
    "    return num1 + num2 + num3\n",
    "\n",
    "soma = minha_soma(10, 20, 30)\n",
    "print(soma)"
   ]
  },
  {
   "cell_type": "markdown",
   "id": "354a1e60",
   "metadata": {},
   "source": [
    "- vamos criar uma function com parâmetro<br>\n",
    "Digamos que estamos criando um programa para categorizar os produtos de uma revendedora de bebidas.<br>\n",
    "Cada produto tem um código. O tipo de produto é dado pelas 3 primeiras letras do código.<br>\n",
    "Ex:<br>\n",
    "Vinho -> BEB12302<br>\n",
    "Cerveja -> BEB 12043<br>\n",
    "Vodka -> BEB34501<br>\n",
    "<br>\n",
    "Guaraná -> BSA11104<br>\n",
    "Coca -> BSA54301<br>\n",
    "Sprite -> BSA34012<br>\n",
    "Água -> BSA09871<br>\n",
    "Repare que bebidas não acóolicas começam com BSA e bebidas alcóolicas começam com BEB.<br>\n",
    "Crie um programa que analise uma lista de produtos e envie instruções para a equipe de estoque dizendo quais produtos devem ser enviados para área de bebidas alcóolicas."
   ]
  },
  {
   "cell_type": "code",
   "execution_count": 18,
   "id": "b4b96e5a",
   "metadata": {},
   "outputs": [
    {
     "name": "stdout",
     "output_type": "stream",
     "text": [
      "Enviar BEB12302 para o setor de bebidas alcóolicas.\n",
      "Enviar BEB12043 para o setor de bebidas alcóolicas.\n",
      "Enviar BEB34501 para o setor de bebidas alcóolicas.\n",
      "Enviar BEB12302 para o setor de bebidas alcóolicas.\n",
      "Enviar BEB12043 para o setor de bebidas alcóolicas.\n",
      "Enviar BEB34501 para o setor de bebidas alcóolicas.\n"
     ]
    }
   ],
   "source": [
    "def is_alcoolico(bebida):\n",
    "    bebida = bebida.upper()\n",
    "    if 'BEB' in bebida:\n",
    "        return True\n",
    "        \n",
    "produtos = ['BEB12302', 'BEB12043', 'BEB34501', 'BSA11104', 'BSA54301', 'BSA34012', 'BSA09871', 'BEB12302', 'BEB12043', 'BEB34501', 'BSA11104', 'BSA54301', 'BSA34012', 'BSA09871']\n",
    "for produto in produtos:\n",
    "    if is_alcoolico(produto):\n",
    "        print(f'Enviar {produto} para o setor de bebidas alcóolicas.')\n"
   ]
  },
  {
   "cell_type": "markdown",
   "id": "c045c871",
   "metadata": {},
   "source": [
    "# Mais de um argumento e formas de passar argumento para uma função\n",
    "## Estrutura:\n",
    "- 2 formas de passar o argumento:\n",
    "    1. Em ordem(posicional argument)\n",
    "    2. Com o nome do argumento (keyword argument)\n",
    "- Vamos mudar a função anterior para conseguir categorizar qualquer tipo de bebida de acordo com o \"rótulo\" passado para a nossa function. Basicamente nossa function agora tem que verificar se oproduto é da categoria passada ou não."
   ]
  },
  {
   "cell_type": "code",
   "execution_count": 21,
   "id": "5078310b",
   "metadata": {},
   "outputs": [
    {
     "name": "stdout",
     "output_type": "stream",
     "text": [
      "Enviar BEB12302 para o setor de bebidas alcóolicas.\n",
      "Enviar BEB12043 para o setor de bebidas alcóolicas.\n",
      "Enviar BEB34501 para o setor de bebidas alcóolicas.\n",
      "Enviar BSA11104 para o setor de bebidas não alcóolicas.\n",
      "Enviar BSA54301 para o setor de bebidas não alcóolicas.\n",
      "Enviar BSA34012 para o setor de bebidas não alcóolicas.\n",
      "Enviar BSA09871 para o setor de bebidas não alcóolicas.\n",
      "Enviar BEB12302 para o setor de bebidas alcóolicas.\n",
      "Enviar BEB12043 para o setor de bebidas alcóolicas.\n",
      "Enviar BEB34501 para o setor de bebidas alcóolicas.\n",
      "Enviar BSA11104 para o setor de bebidas não alcóolicas.\n",
      "Enviar BSA54301 para o setor de bebidas não alcóolicas.\n",
      "Enviar BSA34012 para o setor de bebidas não alcóolicas.\n",
      "Enviar BSA09871 para o setor de bebidas não alcóolicas.\n"
     ]
    }
   ],
   "source": [
    "def is_categoria(bebida, cod_categoria):\n",
    "    bebida = bebida.upper()\n",
    "    if cod_categoria in bebida:\n",
    "        return True\n",
    "    return False\n",
    "        \n",
    "produtos = ['BEB12302', 'BEB12043', 'BEB34501', 'BSA11104', 'BSA54301', 'BSA34012', 'BSA09871', 'BEB12302', 'BEB12043', 'BEB34501', 'BSA11104', 'BSA54301', 'BSA34012', 'BSA09871']\n",
    "for produto in produtos:\n",
    "    if is_categoria(produto, 'BEB'):\n",
    "        print(f'Enviar {produto} para o setor de bebidas alcóolicas.')\n",
    "    elif is_categoria(produto, 'BSA'):\n",
    "        print(f'Enviar {produto} para o setor de bebidas não alcóolicas.')"
   ]
  },
  {
   "cell_type": "markdown",
   "id": "b268d088",
   "metadata": {},
   "source": [
    "## Obs Importante: Sua função sempre deve estar acima de onde é chamada\n",
    "- Normalmente, nos nossos códigos, fazemos as definições de todas as funções antes e depois construimos o resto do código.\n",
    "- É comum dar '2 enters' após a definição da função para deixar o código mais organizado."
   ]
  },
  {
   "cell_type": "markdown",
   "id": "c910ef5f",
   "metadata": {},
   "source": [
    "# Exercícios\n",
    "## 1. Function para cálculo de carga tributaria\n",
    "(Lembrando, não se atente ao funcionamento real da carga tributaria, é apenas um exemplo imaginário para treinarmos as functions com algo mais pratico).<br>\n",
    "Imagine que você trabalha no setor contábil de uma grande empresa de Varejo.<br>\n",
    "Crie uma function que calcule qual o % de carga tributária que está sendo aplicado sobre um determinado produto, dado o preço de venda, o \"lucro\" e os custos (fora os impostos) dele."
   ]
  },
  {
   "cell_type": "code",
   "execution_count": 22,
   "id": "01ab6f25",
   "metadata": {},
   "outputs": [],
   "source": [
    "preco = 1500\n",
    "custo = 400\n",
    "lucro = 800"
   ]
  },
  {
   "cell_type": "markdown",
   "id": "1b155186",
   "metadata": {},
   "source": [
    "Repare que o preço menos o custo não é igual o lucro, porque ainda foi descontado o imposto. Sua function deve calcular qual foi o % de imposto aplicado no preço total."
   ]
  },
  {
   "cell_type": "code",
   "execution_count": 30,
   "id": "3c21dc26",
   "metadata": {},
   "outputs": [],
   "source": [
    "def calcular_imposto(preco, custo, lucro):\n",
    "    imposto = preco - custo - lucro\n",
    "    imposto_pocentagem = imposto / preco\n",
    "    print(f'porcentagem de imposto cobrado foi de {imposto_pocentagem:.1f}%')"
   ]
  },
  {
   "cell_type": "code",
   "execution_count": 31,
   "id": "ecdb1740",
   "metadata": {},
   "outputs": [
    {
     "name": "stdout",
     "output_type": "stream",
     "text": [
      "porcentagem de imposto cobrado foi de 0.2%\n"
     ]
    }
   ],
   "source": [
    "calcular_imposto(preco, custo, lucro)"
   ]
  },
  {
   "cell_type": "markdown",
   "id": "a643ba4b",
   "metadata": {},
   "source": [
    "# Exemplos de parâmetros\n",
    "- upper() -> não tem parâmetros\n",
    "- sort() -> apenas parâmetros keyword\n",
    "- extend(lista) -> 1 parâmetro obrigatorio\n",
    "- função is_categoria(bebida, cod_categoria) -> 2 parâmetros de posição obrigatorios"
   ]
  },
  {
   "cell_type": "code",
   "execution_count": 32,
   "id": "cccd1070",
   "metadata": {},
   "outputs": [],
   "source": [
    "def is_categoria(bebida, cod_categoria):\n",
    "    bebida = bebida.upper()\n",
    "    if cod_categoria in bebida:\n",
    "        return True\n",
    "    return False"
   ]
  },
  {
   "cell_type": "code",
   "execution_count": 39,
   "id": "d6a5ede9",
   "metadata": {},
   "outputs": [
    {
     "name": "stdout",
     "output_type": "stream",
     "text": [
      "BEB12304\n",
      "[789, 300, 240, 200, 100, 90, 60, 55, 50, 10]\n",
      "[1555, 789, 500, 300, 240, 200, 100, 90, 60, 55, 50, 10]\n"
     ]
    }
   ],
   "source": [
    "# texto para upper\n",
    "cod_produto = 'beb12304'\n",
    "print(cod_produto.upper())\n",
    "\n",
    "# lista para sort e extend\n",
    "vendas_ano = [100, 200, 50, 90, 240, 300, 55, 10, 789, 60]\n",
    "vendas_novdez = [500, 1555]\n",
    "\n",
    "vendas_ano.sort(reverse=True)\n",
    "print(vendas_ano)\n",
    "\n",
    "vendas_ano.extend(vendas_novdez)\n",
    "vendas_ano.sort(reverse=True)\n",
    "print(vendas_ano)"
   ]
  },
  {
   "cell_type": "markdown",
   "id": "889bbd75",
   "metadata": {},
   "source": [
    "# Valores Padrões para os argumentos\n",
    "## Estrutura\n",
    "- Nesse caso, você não é obrigado a passar valor para usar a função, podendo usar o valor padrão.\n",
    "```\n",
    "def minha_funcao(argumento = valor_padrao):\n",
    "    ...\n",
    "    return ...\n",
    "```"
   ]
  },
  {
   "cell_type": "markdown",
   "id": "35427889",
   "metadata": {},
   "source": [
    "- Como vimos, o sort() para listas tem um argumento padrão. O reverse = False, então a ordem é crescente. Caso o usuário queira fazer em ordem decrescente. o reverse deve ser alterado para True"
   ]
  },
  {
   "cell_type": "code",
   "execution_count": 40,
   "id": "a3ba7e2c",
   "metadata": {},
   "outputs": [
    {
     "name": "stdout",
     "output_type": "stream",
     "text": [
      "['apple tv', 'mac', 'iphone x', 'apple watch', 'mac book', 'airpods']\n",
      "['airpods', 'apple tv', 'apple watch', 'iphone x', 'mac', 'mac book']\n",
      "['mac book', 'mac', 'iphone x', 'apple watch', 'apple tv', 'airpods']\n"
     ]
    }
   ],
   "source": [
    "produtos = ['apple tv', 'mac', 'iphone x', 'apple watch', 'mac book', 'airpods']\n",
    "print(produtos)\n",
    "produtos.sort()\n",
    "print(produtos)\n",
    "produtos.sort(reverse=True)\n",
    "print(produtos)"
   ]
  },
  {
   "cell_type": "markdown",
   "id": "9228ee94",
   "metadata": {},
   "source": [
    "- Vamos criar uma função que padronize códigos de produtos. O default será padronizar os códigos para letras minúsculas (dados por 'm'), mas se o usuário quiser pode padronizar para maiúscula, dado por ('M')"
   ]
  },
  {
   "cell_type": "code",
   "execution_count": 47,
   "id": "d80f7a06",
   "metadata": {},
   "outputs": [
    {
     "name": "stdout",
     "output_type": "stream",
     "text": [
      "['ABC12', 'ABC34', 'ABC37']\n"
     ]
    }
   ],
   "source": [
    "def padronizar_codigo(lista_codigos, padrao='m'):\n",
    "    for i, item in enumerate(lista_codigos):\n",
    "        if padrao == 'M':\n",
    "            item = item.upper()\n",
    "        elif padrao == 'm':\n",
    "            item = item.casefold()\n",
    "        lista_codigos[i] = item\n",
    "    return lista_codigos\n",
    "\n",
    "cod_produtos = ['ABC12','abc34','Abc37']\n",
    "print(padronizar_codigo(cod_produtos, 'M'))"
   ]
  },
  {
   "cell_type": "markdown",
   "id": "447736da",
   "metadata": {},
   "source": [
    "# Mais sobre return \n",
    "## Pontos importantes:\n",
    "- Podemos usar no return praticamente qualquer tipo de objeto: (número, string, lista, tupla, dicionario, outros objetos, etc)\n",
    "- O return, se for executado, encerra a função, mesmo que dentro dela haja um loop."
   ]
  },
  {
   "cell_type": "code",
   "execution_count": 48,
   "id": "7ff512c1",
   "metadata": {},
   "outputs": [],
   "source": [
    "# retornar um número \n",
    "def minha_soma(num1, num2, num3):\n",
    "    return num1 + num2 + num3\n",
    "\n",
    "#retornar um texto\n",
    "def padronizar_texto(texto):\n",
    "    texto = texto.casefold()\n",
    "    texto = texto.replace(\"  \", \" \")\n",
    "    texto = texto.strip()\n",
    "    return texto\n",
    "\n",
    "# retornar um boolea\n",
    "def bateu_meta(vendas, meta):\n",
    "    if vendas >= meta:\n",
    "        return True\n",
    "    return False\n",
    "\n",
    "# retornar uma lista, tupla ou dicionario\n",
    "def filtrar_lista_texto(lista, pedaco_texto):\n",
    "    lista_filtrada = []\n",
    "    for item in lita:\n",
    "        if pedaco_texto in item:\n",
    "            lista_filtrada.append(item)\n",
    "    return lista_filtrada"
   ]
  },
  {
   "cell_type": "markdown",
   "id": "16c6ff9e",
   "metadata": {},
   "source": [
    "# Exercícios\n",
    "## 1. Function para Análise de Indicadores\n",
    "A masioria das empresas tem suas próprias regras para cálculos de indicadores.\n",
    "- Algumas empresas definem que um cliente é considerado inadiplente quando ele está devendo acima de X reais e por mais de X dias.\n",
    "- Algumas empresas definem que um vendedor bateu a meta quando ele vendeu acima de X reais(outras ainda analisam não somente as vendas desse vendedor, mas também da loja ou da unidade de negócio que ele faz parte, ou ainda uma avaliação qualitativa)\n",
    "- Algumas empresas definem que um produto está em \"falta\" no estoque quando ele está abaixo de um nível minimo quando o cliente insere um novo pedido daquele produto.\n",
    "- E assim vai dezenas de indicadores.\n"
   ]
  },
  {
   "cell_type": "markdown",
   "id": "ba1319d5",
   "metadata": {},
   "source": [
    "O ponto importante é, cada empresa tem alguma adaptação do cálculo de indicadores. E normalmente se formos analisar esses indicadores é interessante ter funções que façam todo o trabalho de análise deles. Por isso, vamos construir 2 exemplos aqui:"
   ]
  },
  {
   "cell_type": "markdown",
   "id": "1817f14f",
   "metadata": {},
   "source": [
    "## item 1: Crie uma função que calcule o percentual de Stockout de uma empresa\n",
    "- O % de stockout é dado por (vendas Perdidas por Estoque)/(Vendas Concluidas + Vendas perdidas por estoque) -> essas vendas são dadas em valor total (dinheiro) e não em quantidade de vendas.\n",
    "- Seu programa recebe um dicionario com todas as vendas da empresa, o status dela (se foi concluida ou cancelada) e, caso tenha sido cancelada o motivo do cancelamento. O formato é o seguinte:\n",
    "```\n",
    "vendas = {\n",
    "    'VE0001': (15000, Concluido, ''),\n",
    "    'VE0002': (13300, Cancelado, 'Cancelado pelo Cliente'),\n",
    "    'VE0003': (12000, Concluido, ''),\n",
    "    ...\n",
    "}\n",
    "```"
   ]
  },
  {
   "cell_type": "markdown",
   "id": "4075da6e",
   "metadata": {},
   "source": [
    "- Para reforçar: As vendas canceladas por qualquer outro motivo que não seja Falta de estoque não devem ser consideras para a conta do stokout"
   ]
  },
  {
   "cell_type": "code",
   "execution_count": 1,
   "id": "19a072db",
   "metadata": {},
   "outputs": [],
   "source": [
    "vendas = {'VE0001': (9868,'Concluído',''),'VE0002': (9642,'Concluído',''),'VE0003': (6007,'Concluído',''),'VE0004': (15562,'Concluído',''),'VE0005': (18752,'Cancelado','Estoque em Falta'),'VE0006': (16358,'Cancelado','Estoque em Falta'),'VE0007': (17045,'Concluído',''),'VE0008': (12230,'Concluído',''),'VE0009': (6747,'Concluído',''),'VE0010': (15114,'Concluído',''),'VE0011': (12497,'Concluído',''),'VE0012': (6001,'Concluído',''),'VE0013': (16227,'Cancelado','Cancelada pelo Cliente'),'VE0014': (16150,'Concluído',''),'VE0015': (17705,'Concluído',''),'VE0016': (9978,'Concluído',''),'VE0017': (4266,'Concluído',''),'VE0018': (11531,'Concluído',''),'VE0019': (10352,'Cancelado','Cancelada pelo Cliente'),'VE0020': (16544,'Concluído',''),'VE0021': (15488,'Concluído',''),'VE0022': (15828,'Concluído',''),'VE0023': (1218,'Concluído',''),'VE0024': (11560,'Concluído',''),'VE0025': (14220,'Concluído',''),'VE0026': (17839,'Concluído',''),'VE0027': (4050,'Concluído',''),'VE0028': (7594,'Cancelado','Estoque em Falta'),'VE0029': (19586,'Concluído',''),'VE0030': (8453,'Concluído',''),'VE0031': (3589,'Concluído',''),'VE0032': (13472,'Cancelado','Cancelada pelo Cliente'),'VE0033': (16994,'Concluído',''),'VE0034': (2139,'Concluído',''),'VE0035': (10173,'Concluído',''),'VE0036': (17784,'Cancelado','Estoque em Falta'),'VE0037': (12214,'Concluído',''),'VE0038': (5878,'Concluído',''),'VE0039': (2622,'Concluído',''),'VE0040': (9765,'Concluído',''),'VE0041': (8872,'Concluído',''),'VE0042': (16543,'Concluído',''),'VE0043': (8994,'Concluído',''),'VE0044': (4332,'Concluído',''),'VE0045': (19679,'Concluído',''),'VE0046': (14968,'Concluído',''),'VE0047': (6352,'Concluído',''),'VE0048': (11461,'Concluído',''),'VE0049': (5285,'Concluído',''),'VE0050': (11639,'Concluído',''),'VE0051': (6023,'Concluído',''),'VE0052': (4943,'Concluído',''),'VE0053': (5654,'Concluído',''),'VE0054': (11734,'Concluído',''),'VE0055': (2742,'Concluído',''),'VE0056': (5380,'Cancelado','Estoque em Falta'),'VE0057': (5578,'Concluído',''),'VE0058': (1897,'Concluído',''),'VE0059': (7857,'Concluído',''),'VE0060': (4472,'Concluído',''),'VE0061': (19874,'Concluído',''),'VE0062': (13323,'Cancelado','Cancelada pelo Cliente'),'VE0063': (5821,'Concluído',''),'VE0064': (4410,'Concluído',''),'VE0065': (16676,'Concluído',''),'VE0066': (10577,'Concluído',''),'VE0067': (10627,'Concluído',''),'VE0068': (1987,'Concluído',''),'VE0069': (13197,'Concluído',''),'VE0070': (15063,'Concluído',''),'VE0071': (14363,'Concluído',''),'VE0072': (10452,'Concluído',''),'VE0073': (15376,'Concluído',''),'VE0074': (4661,'Concluído',''),'VE0075': (13287,'Concluído',''),'VE0076': (8278,'Concluído',''),'VE0077': (7134,'Concluído',''),'VE0078': (16568,'Concluído',''),'VE0079': (17732,'Concluído',''),'VE0080': (5127,'Concluído',''),'VE0081': (4582,'Concluído',''),'VE0082': (14804,'Cancelado','Cancelada pelo Cliente'),'VE0083': (12362,'Concluído',''),'VE0084': (1148,'Concluído',''),'VE0085': (14018,'Concluído',''),'VE0086': (15891,'Concluído',''),'VE0087': (4517,'Concluído',''),'VE0088': (1770,'Concluído',''),'VE0089': (14926,'Concluído',''),'VE0090': (13627,'Concluído',''),'VE0091': (3047,'Concluído',''),'VE0092': (13924,'Concluído',''),'VE0093': (7158,'Concluído',''),'VE0094': (5942,'Concluído',''),'VE0095': (13480,'Concluído',''),'VE0096': (17686,'Concluído',''),'VE0097': (5722,'Cancelado','Cancelada pelo Cliente'),'VE0098': (16963,'Concluído',''),'VE0099': (14225,'Concluído',''),'VE0100': (12553,'Concluído',''),'VE0101': (18047,'Concluído',''),'VE0102': (11420,'Concluído',''),'VE0103': (6191,'Concluído',''),'VE0104': (8388,'Concluído',''),'VE0105': (17210,'Concluído',''),'VE0106': (12217,'Concluído',''),'VE0107': (8984,'Concluído',''),'VE0108': (7638,'Cancelado','Cancelada pelo Cliente'),'VE0109': (8462,'Concluído',''),'VE0110': (14081,'Concluído',''),'VE0111': (10842,'Concluído',''),'VE0112': (13261,'Concluído',''),'VE0113': (16953,'Cancelado','Estoque em Falta'),'VE0114': (5343,'Concluído',''),'VE0115': (4734,'Concluído',''),'VE0116': (13606,'Cancelado','Cancelada pelo Cliente'),'VE0117': (17106,'Cancelado','Estoque em Falta'),'VE0118': (17704,'Concluído',''),'VE0119': (12242,'Concluído',''),'VE0120': (7476,'Cancelado','Estoque em Falta'),'VE0121': (18408,'Concluído',''),'VE0122': (13612,'Concluído',''),'VE0123': (18198,'Concluído',''),'VE0124': (4844,'Concluído',''),'VE0125': (12750,'Concluído',''),'VE0126': (11969,'Concluído',''),'VE0127': (15337,'Concluído',''),'VE0128': (1100,'Concluído',''),'VE0129': (18893,'Concluído',''),'VE0130': (15850,'Concluído',''),'VE0131': (2097,'Concluído',''),'VE0132': (11636,'Cancelado','Estoque em Falta'),'VE0133': (12603,'Concluído',''),'VE0134': (10769,'Concluído',''),'VE0135': (11016,'Concluído',''),'VE0136': (14556,'Concluído',''),'VE0137': (1389,'Concluído',''),'VE0138': (11681,'Concluído',''),'VE0139': (16759,'Cancelado','Cancelada pelo Cliente'),'VE0140': (16317,'Concluído',''),'VE0141': (5965,'Concluído',''),'VE0142': (4493,'Concluído',''),'VE0143': (5398,'Concluído',''),'VE0144': (9875,'Concluído',''),'VE0145': (17492,'Concluído',''),'VE0146': (7473,'Concluído',''),'VE0147': (10284,'Concluído',''),'VE0148': (10778,'Concluído',''),'VE0149': (2227,'Concluído',''),'VE0150': (14157,'Concluído',''),'VE0151': (9516,'Concluído',''),'VE0152': (9824,'Concluído',''),'VE0153': (5118,'Concluído',''),'VE0154': (5123,'Concluído',''),'VE0155': (2697,'Concluído',''),'VE0156': (19024,'Concluído',''),'VE0157': (5128,'Concluído',''),'VE0158': (8293,'Cancelado','Estoque em Falta'),'VE0159': (18782,'Concluído',''),'VE0160': (12182,'Concluído',''),'VE0161': (9063,'Concluído',''),'VE0162': (17608,'Concluído',''),'VE0163': (8456,'Cancelado','Cancelada pelo Cliente'),'VE0164': (1291,'Concluído',''),'VE0165': (14018,'Concluído',''),'VE0166': (2791,'Concluído',''),'VE0167': (17953,'Concluído',''),'VE0168': (14627,'Concluído',''),'VE0169': (3296,'Concluído',''),'VE0170': (1863,'Concluído',''),'VE0171': (4719,'Concluído',''),'VE0172': (15060,'Concluído',''),'VE0173': (2596,'Cancelado','Cancelada pelo Cliente'),'VE0174': (4919,'Concluído',''),'VE0175': (13770,'Concluído',''),'VE0176': (15041,'Cancelado','Estoque em Falta'),'VE0177': (6702,'Concluído',''),'VE0178': (9989,'Concluído',''),'VE0179': (5135,'Concluído',''),'VE0180': (13337,'Concluído',''),'VE0181': (13457,'Concluído',''),'VE0182': (17218,'Concluído',''),'VE0183': (6424,'Concluído',''),'VE0184': (5478,'Concluído',''),'VE0185': (10478,'Cancelado','Cancelada pelo Cliente'),'VE0186': (3240,'Concluído',''),'VE0187': (16503,'Concluído',''),'VE0188': (12762,'Concluído',''),'VE0189': (6985,'Cancelado','Cancelada pelo Cliente'),'VE0190': (13013,'Concluído',''),'VE0191': (5706,'Concluído',''),'VE0192': (6521,'Cancelado','Estoque em Falta'),'VE0193': (12904,'Concluído',''),'VE0194': (14691,'Concluído',''),'VE0195': (19338,'Concluído',''),'VE0196': (4556,'Cancelado','Cancelada pelo Cliente'),'VE0197': (9653,'Concluído',''),'VE0198': (4617,'Concluído',''),'VE0199': (4717,'Concluído',''),'VE0200': (8366,'Concluído','')}"
   ]
  },
  {
   "cell_type": "code",
   "execution_count": 2,
   "id": "4983989b",
   "metadata": {},
   "outputs": [],
   "source": [
    "def percentual_stockout(vendas):\n",
    "    numerador = 0\n",
    "    denominador = 0\n",
    "    for venda in vendas:\n",
    "        valor, status, motivo = vendas[venda]\n",
    "        if status == 'Concluído':\n",
    "            denominador += valor\n",
    "        elif status == 'Cancelado' and motivo == 'Estoque em Falta':\n",
    "            denominador += valor\n",
    "            numerador += valor\n",
    "    return numerador / denominador"
   ]
  },
  {
   "cell_type": "code",
   "execution_count": 4,
   "id": "b640e466",
   "metadata": {},
   "outputs": [
    {
     "name": "stdout",
     "output_type": "stream",
     "text": [
      "0.07652346420109676\n"
     ]
    }
   ],
   "source": [
    "print(percentual_stockout(vendas))\n"
   ]
  },
  {
   "cell_type": "markdown",
   "id": "f298de9e",
   "metadata": {},
   "source": [
    "## Item 2 Crie uma função para descobrir os clientes inadiplentes de uma empresa\n",
    "- O objetivo é identificar quem são os clientes indadiplentes e enviar essa lista de clientes para o setor de cobrança dos clientes.\n",
    "- Sua função deve então receber uma lista de clientes, analisar quais clientes estão inadiplentes, e retornar uma lista com os clientes inadiplentes(apenas o CPF já é o suficiente).\n",
    "- A inadiplencia nessa empresa é calculada da segunte forma.\n",
    "    1. Se o cliente estiver devendo mais de 1000 reais por mais de 20 dias, ele é considerado inadiplente.\n",
    "    2. Isso significa que se o cliente estiver devendo 2000 reais a 10 dias, ele não é inadiplente, posi ainda não passaram 20 dias. Da mesma forma, se estiver devendo 500 por 40 dias, ele também não é inadiplente, dado que ele deve menos de 100 reais.\n",
    "    3. As informaçoes vem no formado (cpf, valor, qtde de dias)"
   ]
  },
  {
   "cell_type": "code",
   "execution_count": 5,
   "id": "455cd5b9",
   "metadata": {},
   "outputs": [],
   "source": [
    "clientes_devedores = [('462.286.561-65',14405,24),('251.569.170-81',16027,1),('297.681.579-21',8177,28),('790.223.154-40',9585,10),('810.442.219-10',18826,29),('419.210.299-79',11421,15),('908.507.760-43',12445,24),('911.238.364-17',1345,4),('131.115.339-28',11625,8),('204.169.467-27',5364,22),('470.806.376-11',932,29),('938.608.980-69',13809,19),('554.684.165-26',11227,2),('119.225.846-34',4475,9),('358.890.858-95',13932,20),('786.547.940-70',17048,25),('468.487.741-94',2902,8),('540.685.100-32',5806,21),('379.729.796-80',7622,24),('980.173.363-94',13167,24),('833.285.374-56',19581,24),('103.669.436-50',17126,4),('386.836.124-46',18825,11),('588.404.964-15',1545,30),('600.556.177-18',1921,7),('670.346.230-99',18079,28),('771.352.915-13',16581,23),('430.314.324-46',13942,24),('629.507.759-51',17951,11),('348.683.225-73',12424,10),('406.133.151-17',5888,30),('310.985.894-64',17316,30),('964.317.132-30',18818,30),('845.331.524-14',14284,13),('781.995.738-18',19369,29),('921.558.128-63',3206,27),('941.386.982-65',10228,26),('551.135.290-10',18822,18),('537.124.578-35',12670,6),('119.383.169-76',790,20),('938.473.410-98',8851,5),('279.775.182-54',5212,20),('210.872.954-53',13569,8),('684.995.531-65',8649,21),('653.886.282-57',504,28),('973.580.738-53',2533,9),('285.864.892-85',8200,21),('777.154.423-98',10336,8),('769.786.401-34',3233,12),('521.566.565-97',11882,14),('491.799.681-92',653,8),('344.357.819-36',8856,18),('265.362.581-99',8962,8),('331.410.527-56',18516,18),('143.188.958-61',7234,29),('751.630.472-61',13552,6),('714.707.807-80',2898,7),('585.584.932-83',239,25),('165.554.107-13',9572,23),('718.225.984-87',10534,25),('611.715.653-32',3210,11),('397.994.286-79',13651,24),('967.160.575-69',8997,25),('369.750.998-94',13952,2),('767.400.554-79',18320,11),('171.104.286-74',5821,21),('152.817.649-24',3358,30),('645.308.846-62',15176,25),('273.884.570-92',4436,13),('888.818.341-45',15730,3),('577.836.712-40',14670,16),('513.529.919-95',4002,1),('201.476.809-95',17442,21),('657.816.571-87',1582,2),('810.494.975-87',2157,9),('531.749.410-17',12355,18),('486.290.887-24',18576,26),('432.376.642-62',8027,23),('207.274.437-91',5125,29),('634.244.673-72',11387,15),('346.871.172-72',8105,23),('166.330.605-50',7865,11),('829.181.731-94',2425,8),('197.305.464-63',9681,8),('887.877.706-59',15681,10),('847.598.885-51',323,23),('817.170.984-26',5169,27),('591.397.550-29',13362,25),('872.733.198-95',5756,18),('615.629.238-82',11678,23),('194.782.846-77',11044,17),('146.392.158-88',6848,4),('240.427.458-70',3906,25),('583.662.427-52',3306,5),('841.627.523-64',4778,4),('985.337.216-77',15308,4),('912.410.722-57',11683,6),('700.720.266-23',12638,21),('605.405.529-53',3831,3),('383.256.402-25',2599,10),('248.103.486-68',9121,1),('261.974.594-90',2139,26),('297.126.704-91',18529,16),('680.569.318-52',10176,23),('296.334.647-38',225,13),('200.761.898-70',16244,20),('258.232.687-17',19462,18),('597.295.672-38',18840,11),('894.479.102-52',11375,12),('556.156.341-36',16269,23),('987.874.553-86',11253,17),('248.927.998-94',6510,1),('852.796.660-25',2662,23),('741.370.204-36',9303,16),('536.714.951-95',2877,23),('320.395.830-44',14554,5),('520.645.562-80',17547,24),('553.700.674-28',3147,14),('913.525.896-32',17651,28),('750.456.495-86',11524,9),('246.171.748-38',15184,4),('760.248.897-67',4953,25),('920.890.990-46',17172,20),('805.469.913-50',17500,21),('878.594.225-48',6255,3),('356.715.924-36',3454,13),('847.150.802-96',8602,22),('625.846.640-53',10888,19),('539.300.108-41',11225,21),('549.151.467-76',1286,21),('738.451.908-29',18905,22),('987.288.834-69',17533,25),('898.532.296-94',9719,11),('620.531.607-13',13584,10),('169.415.202-43',1871,29),('757.885.355-97',18150,28),('252.581.376-21',2497,3),('177.937.460-78',7178,8),('523.895.611-54',9878,26),('883.680.201-23',16761,3),('936.678.268-71',11017,9),('871.912.703-73',1754,9),('957.749.478-56',6914,9),('725.636.354-80',8605,13),('898.316.244-33',14363,12),('894.748.325-28',2764,3),('647.106.954-60',1482,6),('628.716.937-98',14107,8),('332.677.483-83',19146,15),('186.870.928-82',17050,12),('216.248.879-71',4384,16),('287.929.269-44',4894,19),('278.335.932-42',17220,13),('824.107.287-13',11797,7),('535.354.954-30',9195,22),('311.762.241-12',13871,2),('209.759.133-88',13580,21),('505.728.766-53',16950,13),('879.471.988-23',17427,14),('772.329.947-39',3462,8),('321.123.241-10',2592,22),('407.342.963-78',11435,21),('786.935.637-47',14240,9),('461.791.351-55',142,2),('770.920.161-42',1247,24),('639.870.185-59',6430,10),('815.943.237-83',19550,22),('141.774.255-61',17866,13),('379.995.400-37',9503,29),('261.103.178-64',19167,13),('495.461.913-57',12265,29),('498.848.750-79',14549,16),('578.770.731-84',1462,5),('408.987.269-72',5647,28),('191.970.336-40',6313,15),('761.137.848-34',10654,23),('810.512.154-21',14928,1),('256.371.788-38',7085,2),('216.401.188-57',1531,23),('956.318.620-43',6327,22),('986.516.478-33',3866,25),('105.665.555-60',7118,4),('259.228.430-72',1601,8),('133.627.971-58',10142,14),('327.988.845-70',14985,23),('363.167.322-63',17236,7),('189.986.406-38',16888,18),('661.194.373-45',7824,1),('805.728.877-53',514,10),('887.826.412-21',15977,24),('122.975.174-32',9409,25),('456.550.370-55',19922,18),('388.243.133-66',19785,17),('208.788.890-61',11893,22),('881.332.662-49',6344,16),('912.349.944-52',6858,15),('534.904.583-32',9559,11),('825.175.334-25',19805,15),('339.191.298-46',13325,8),('569.993.915-78',4339,15)]"
   ]
  },
  {
   "cell_type": "code",
   "execution_count": 10,
   "id": "65b7777c",
   "metadata": {},
   "outputs": [],
   "source": [
    "def lista_inadiplentes(clientes_devedores):\n",
    "    lista = []\n",
    "    for cliente in clientes_devedores:\n",
    "        cpf, valor, dias = cliente\n",
    "        if valor > 1000 and dias > 20:\n",
    "            lista.append(cpf)\n",
    "    return lista"
   ]
  },
  {
   "cell_type": "code",
   "execution_count": 11,
   "id": "565c717f",
   "metadata": {},
   "outputs": [
    {
     "name": "stdout",
     "output_type": "stream",
     "text": [
      "['462.286.561-65', '297.681.579-21', '810.442.219-10', '908.507.760-43', '204.169.467-27', '786.547.940-70', '540.685.100-32', '379.729.796-80', '980.173.363-94', '833.285.374-56', '588.404.964-15', '670.346.230-99', '771.352.915-13', '430.314.324-46', '406.133.151-17', '310.985.894-64', '964.317.132-30', '781.995.738-18', '921.558.128-63', '941.386.982-65', '684.995.531-65', '285.864.892-85', '143.188.958-61', '165.554.107-13', '718.225.984-87', '397.994.286-79', '967.160.575-69', '171.104.286-74', '152.817.649-24', '645.308.846-62', '201.476.809-95', '486.290.887-24', '432.376.642-62', '207.274.437-91', '346.871.172-72', '817.170.984-26', '591.397.550-29', '615.629.238-82', '240.427.458-70', '700.720.266-23', '261.974.594-90', '680.569.318-52', '556.156.341-36', '852.796.660-25', '536.714.951-95', '520.645.562-80', '913.525.896-32', '760.248.897-67', '805.469.913-50', '847.150.802-96', '539.300.108-41', '549.151.467-76', '738.451.908-29', '987.288.834-69', '169.415.202-43', '757.885.355-97', '523.895.611-54', '535.354.954-30', '209.759.133-88', '321.123.241-10', '407.342.963-78', '770.920.161-42', '815.943.237-83', '379.995.400-37', '495.461.913-57', '408.987.269-72', '761.137.848-34', '216.401.188-57', '956.318.620-43', '986.516.478-33', '327.988.845-70', '887.826.412-21', '122.975.174-32', '208.788.890-61']\n"
     ]
    }
   ],
   "source": [
    "print(lista_inadiplentes(clientes_devedores))"
   ]
  },
  {
   "cell_type": "code",
   "execution_count": 14,
   "id": "b3a3c7fd",
   "metadata": {},
   "outputs": [
    {
     "name": "stdout",
     "output_type": "stream",
     "text": [
      "200\n",
      "74\n"
     ]
    }
   ],
   "source": [
    "print(len(clientes_devedores))\n",
    "print(len(lista_inadiplentes(clientes_devedores)))"
   ]
  },
  {
   "cell_type": "markdown",
   "id": "f7672583",
   "metadata": {},
   "source": [
    "# Como retornar mais de um objeto\n",
    "- É possivel retornar 2 coisas? 2 listas, 2 strings, 2 números...\n",
    "    - Sim, basta retornar como um tupla com 2 itens (vamos fazer um exemplo)"
   ]
  },
  {
   "cell_type": "code",
   "execution_count": 15,
   "id": "a5847266",
   "metadata": {},
   "outputs": [],
   "source": [
    "def operacoes_basicas(num1, num2):\n",
    "    soma = num1 + num2\n",
    "    dif = num1 - num2\n",
    "    mult = num1 * num2\n",
    "    div = num1 / num2\n",
    "    return(soma, dif, mult, div)"
   ]
  },
  {
   "cell_type": "markdown",
   "id": "39c90ab4",
   "metadata": {},
   "source": [
    "# Exercicios\n",
    "## 1. Cálculo do Percentual e da Lisata de Vendedores\n",
    "- Queremos criar uma function que consiga identificar os vendedores que bateram uma meta, mas além disso, consigo já me dar como resposta o cálculo do % da lista de vendedores que bateu a meta(para eu não precisar calcular manualmente depois)\n",
    "- Essa function deve receber 2 informações como parâmetro: a meta e um dicionario com so vendedores e suas vendas. e me dar 2 resposta: uma lista com o nome dos vendedores que bateram a meta e o % de vendedores que bateu a meta."
   ]
  },
  {
   "cell_type": "code",
   "execution_count": 17,
   "id": "0e405eff",
   "metadata": {},
   "outputs": [],
   "source": [
    "meta = 10000\n",
    "vendas = {\n",
    "    'João': 15000,\n",
    "    'Julia': 27000,\n",
    "    'Marcus': 9900,\n",
    "    'Maria': 3750,\n",
    "    'Ana': 10300,\n",
    "    'Alon': 7870,\n",
    "}"
   ]
  },
  {
   "cell_type": "code",
   "execution_count": 30,
   "id": "78372ad9",
   "metadata": {},
   "outputs": [],
   "source": [
    "def list_and_perc(vendas, meta):\n",
    "    lista_vendedores = []\n",
    "    tot = 0\n",
    "    for vendedor, venda in vendas.items():\n",
    "        if venda >= meta:\n",
    "            lista_vendedores.append(vendedor)\n",
    "            tot += 1\n",
    "    perc = (len(lista_vendedores)*100) / len(vendas)\n",
    "    return (lista_vendedores, perc)\n",
    "        "
   ]
  },
  {
   "cell_type": "code",
   "execution_count": 31,
   "id": "939a71da",
   "metadata": {},
   "outputs": [
    {
     "name": "stdout",
     "output_type": "stream",
     "text": [
      "['João', 'Julia', 'Ana']\n",
      "50.0\n"
     ]
    }
   ],
   "source": [
    "lista, perc = list_and_perc(vendas, meta)\n",
    "print(lista)\n",
    "print(perc)"
   ]
  },
  {
   "cell_type": "markdown",
   "id": "d52a19d0",
   "metadata": {},
   "source": [
    "## Aplicação\n",
    "- Data Science e inteligência Atificila usam muito isso.\n",
    "    1. Quando criamos um modelo de previsão, precisamos treinar esse modelo e testar para ver se ele esta sendo um bo modelo ou não\n",
    "    2. Temos então que pegar os nossos dados e dividir em 2 pedaçoes, uma lista de treino e uma lista de teste.\n",
    "    3. Vamos então pensar no exemplo de um modelo que tenta identificar qual o valor justo de um imóvel de acordo com o tamanho do imóvel. Então duas listas:\n",
    "        - Lista 1: Preços Reais dos imóveis\n",
    "        - Lista 2: Tamanho do imóvel\n",
    "    4. Vamos criar então uma função que receba 2 listas como entrada e que divida cada uma dessas listas em 2, um pedaço de treino um pedaço de teste. O percentual que a lista vai ser dividia é definida por um fator(que também vai ser uma parâmetro de função)"
   ]
  },
  {
   "cell_type": "code",
   "execution_count": 33,
   "id": "6d372cc8",
   "metadata": {},
   "outputs": [
    {
     "name": "stdout",
     "output_type": "stream",
     "text": [
      "[2.17, 1.54, 1.45, 1.94, 2.37, 2.3, 1.79, 1.8, 2.25]\n",
      "[1.37]\n"
     ]
    }
   ],
   "source": [
    "precos_imoveis = [2.17, 1.54, 1.45, 1.94, 2.37, 2.3, 1.79, 1.8, 2.25, 1.37]\n",
    "tamanho_imoveis = [207, 148, 130, 203, 257, 228, 160, 194, 232, 147]\n",
    "# vamos definir qual o fator que vamos dividir as listas(ou seja, quanto % da lista vai ficar para teste. o resto\n",
    "# vamos usar 0.1)\n",
    "fator = 0.1\n",
    "# isso significa que a lista de teste tem quantos itens?\n",
    "i = int((1 - fator) * len(precos_imoveis))\n",
    "# Agora vamos entender qual conta temos que fazer para dividir a lista em 2 listas. uma com 90% dos valores e outra com 10%\n",
    "precos_treino = precos_imoveis[:i]\n",
    "precos_teste = precos_imoveis[i:]\n",
    "print(precos_treino)\n",
    "print(precos_teste)"
   ]
  },
  {
   "cell_type": "code",
   "execution_count": 34,
   "id": "1625fc48",
   "metadata": {},
   "outputs": [],
   "source": [
    "precos_imoveis = [2.17,1.54,1.45,1.94,2.37,2.3,1.79,1.8,2.25,1.37,2.4,1.72,2,1.69,1.63,2.01,2.25,1.61,1.02,1.19,1.86,2.15,2.03,1.61,1.52,1.56,1.69,1.47,1.09,2.47,1.62,2.15,1.81,2.49,2.08,1.02,1.68,1.53,1.2,1.29,1.88,1.92,2.14,1.95,2.48,2.44,1.41,1.98,1.89,1.69,1.95,1.42,1.57,2.32,1.23,1.43,1.35,1.49,2.39,2.37,1.3,2.25,1.5,1.35,2.06,1.05,1.7,2.29,2.44,2.09,1.81,2.04,2.45,1.42,2.09,2.19,2.09,1,2.23,1.39,2,1.29,1.55,1.67,2.06,1.89,2.07,2.39,1.93,1.51,1.73,1.66,1.18,1.13,1.69,2.48,1.26,1.75, 1.51, 1.73]\n",
    "tamanho_imoveis = [207,148,130,203,257,228,160,194,232,147,222,165,184,175,147,217,214,171,86,111,180,211,210,168,156,154,179,163,99,246,162,205,195,263,198,121,149,140,122,119,197,210,218,202,258,256,135,203,173,152,197,145,154,252,141,141,151,133,232,229,134,215,155,138,186,120,152,213,256,219,200,210,238,140,224,233,222,120,233,151,185,111,149,186,194,194,222,223,185,157,154,164,129,128,169,240,136,191, 157, 154]"
   ]
  },
  {
   "cell_type": "code",
   "execution_count": 36,
   "id": "2275cf66",
   "metadata": {},
   "outputs": [
    {
     "name": "stdout",
     "output_type": "stream",
     "text": [
      "90 100\n",
      "[1.73, 1.66, 1.18, 1.13, 1.69, 2.48, 1.26, 1.75, 1.51, 1.73]\n"
     ]
    }
   ],
   "source": [
    "def separar_listas(lista_valores, lista_atributos, fator=0.1):\n",
    "    qtde_valores = len(precos_imoveis)\n",
    "    if qtde_valores == len(tamanho_imoveis):\n",
    "        i = int(qtde_valores - qtde_valores * fator)\n",
    "        print(i, qtde_valores)\n",
    "        lista_valores_treino = lista_valores[:i]\n",
    "        lista_valores_teste = lista_valores[i:]\n",
    "        lista_atributos_treino = lista_atributos[:i]\n",
    "        lista_atributos_teste = lista_atributos[i:]\n",
    "        return lista_valores_treino, lista_atributos_treino, lista_valores_teste, lista_atributos_teste\n",
    "    else:\n",
    "        print('Lista Valores e Lista Atributos de Tamanho diferentes, favor corrigir')\n",
    "        return\n",
    "    \n",
    "y_treino, x_treino, x_teste, y_teste = separar_listas(precos_imoveis, tamanho_imoveis)\n",
    "print(x_teste)"
   ]
  },
  {
   "cell_type": "markdown",
   "id": "261e7c0e",
   "metadata": {},
   "source": [
    "# Docstring e Annotations\n",
    "## Estrutura\n",
    "- São ferramentar \"apenas\" para organização"
   ]
  },
  {
   "cell_type": "markdown",
   "id": "67d50467",
   "metadata": {},
   "source": [
    "Quando criamos uma função, normalmente não seremos as únicas pessoas a usatem essa função e também pode ser que a precisemos usar essa mesma função semanas, meses ou até anos depois de sua criação.\n",
    "<br><br>\n",
    "Por isso é importante usarmos Docstring e Annotations\n",
    "- Docstring -> diz o que a função faz, quais valores ela tem como argumento e o que significa cada valor\n",
    "- Annotation -> diz o que devem ser os argumentos e o que a função retorna\n"
   ]
  },
  {
   "cell_type": "markdown",
   "id": "5ed4c57e",
   "metadata": {},
   "source": [
    "Em muitas empresas, o time de tecnologia vai ter um padrão que você deve seguir para isso, mas caso não tenha, vamos te mostrr um padrão bom para ser utilizado.\n",
    "## Docstring:\n",
    "```\n",
    "def minha_funcao(arg1, arg2, ...):\n",
    "    '''O que faz a função\n",
    "    Parameter:\n",
    "        arg1 (int): o que é o argumento 1\n",
    "        arg2 (str): o que é o argumento 2\n",
    "        ...\n",
    "    Returns:\n",
    "        texto (str): o que a função retorna como resposta\n",
    "    '''\n",
    "    ... código da função\n",
    "```"
   ]
  },
  {
   "cell_type": "code",
   "execution_count": 37,
   "id": "8b58c638",
   "metadata": {},
   "outputs": [],
   "source": [
    "def minha_soma(num1, num2, num3):\n",
    "    '''Faz a soma de 3 números inteiros e devolve como resposta um inteiro\n",
    "    \n",
    "    Parameter:\n",
    "        num1 (int): primeiro número a ser somado\n",
    "        num2 (int): segundo número a ser somado\n",
    "        num3 (int): terceiro número a ser somado\n",
    "    \n",
    "    Returns:\n",
    "        soma (int): o valor da soma dos 3 números dados como argumento    \n",
    "    '''\n",
    "    return num1 + num2 + num3"
   ]
  },
  {
   "cell_type": "markdown",
   "id": "22cea690",
   "metadata": {},
   "source": [
    "## Annotation: \n",
    "```\n",
    "def minha_funcao(arg1: isso) -> o que a função retorna:\n",
    "    ...\n",
    "    return ...\n",
    "```"
   ]
  },
  {
   "cell_type": "code",
   "execution_count": 38,
   "id": "6b755b39",
   "metadata": {},
   "outputs": [],
   "source": [
    "def minha_soma(num1: int, num2: int, num3: int) -> int:\n",
    "    return num1 + num2 + num3"
   ]
  },
  {
   "cell_type": "code",
   "execution_count": null,
   "id": "671f8a4e",
   "metadata": {},
   "outputs": [],
   "source": []
  }
 ],
 "metadata": {
  "kernelspec": {
   "display_name": "Python 3 (ipykernel)",
   "language": "python",
   "name": "python3"
  },
  "language_info": {
   "codemirror_mode": {
    "name": "ipython",
    "version": 3
   },
   "file_extension": ".py",
   "mimetype": "text/x-python",
   "name": "python",
   "nbconvert_exporter": "python",
   "pygments_lexer": "ipython3",
   "version": "3.9.7"
  }
 },
 "nbformat": 4,
 "nbformat_minor": 5
}
