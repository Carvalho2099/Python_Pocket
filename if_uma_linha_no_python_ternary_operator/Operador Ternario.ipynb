{
 "cells": [
  {
   "cell_type": "markdown",
   "id": "40e4b47f",
   "metadata": {},
   "source": [
    "# Operador ternario"
   ]
  },
  {
   "cell_type": "markdown",
   "id": "b8997755",
   "metadata": {},
   "source": [
    "Exemplo: Calcular o bônus de um vendedor da nosssa loja de acordo com a regra\n",
    "- se as vendas bateram a meta de 500 unidades vendidas, então o vendedor ganha 50 reais de bônus\n",
    "- caso o contrario ele não ganha bônus"
   ]
  },
  {
   "cell_type": "markdown",
   "id": "de27faed",
   "metadata": {},
   "source": [
    "## if tradicional"
   ]
  },
  {
   "cell_type": "code",
   "execution_count": 6,
   "id": "6e87eca8",
   "metadata": {},
   "outputs": [
    {
     "name": "stdout",
     "output_type": "stream",
     "text": [
      "0\n"
     ]
    }
   ],
   "source": [
    "vendas = 499\n",
    "if vendas >= 500:\n",
    "    bonus = 50\n",
    "else: \n",
    "    bonus = 0\n",
    "print(bonus)"
   ]
  },
  {
   "cell_type": "markdown",
   "id": "b6529d9e",
   "metadata": {},
   "source": [
    "## if ternario"
   ]
  },
  {
   "cell_type": "code",
   "execution_count": 10,
   "id": "ec2e92f5",
   "metadata": {},
   "outputs": [
    {
     "name": "stdout",
     "output_type": "stream",
     "text": [
      "0\n"
     ]
    }
   ],
   "source": [
    "bonus = 50 if vendas >= 500 else 0\n",
    "print(bonus)\n",
    "# variavel = valor_verdadeiro if condição else valor_falso"
   ]
  },
  {
   "cell_type": "markdown",
   "id": "6eaa124f",
   "metadata": {},
   "source": [
    "## Outro estilo ternario (casos de \"ou\")\n",
    "- nesse caso eu quero criar uma função que diga se o vendedor deve ganhar o bônus\n",
    "- caso a resposta seja não (caso ele não tenha batido a meta), então a função deve me dizer o quanto faltou"
   ]
  },
  {
   "cell_type": "markdown",
   "id": "fca80de9",
   "metadata": {},
   "source": [
    "## if tradicional"
   ]
  },
  {
   "cell_type": "code",
   "execution_count": 13,
   "id": "d301e5bd",
   "metadata": {},
   "outputs": [
    {
     "name": "stdout",
     "output_type": "stream",
     "text": [
      "Faltou 450 unidades\n",
      "True\n"
     ]
    }
   ],
   "source": [
    "def ganhou_bonus(vendas):\n",
    "    if vendas >= 500:\n",
    "        return True\n",
    "    return f\"Faltou {500 - vendas} unidades\"\n",
    "print(ganhou_bonus(50))\n",
    "print(ganhou_bonus(500))\n",
    "        "
   ]
  },
  {
   "cell_type": "markdown",
   "id": "668636fb",
   "metadata": {},
   "source": [
    "## if ternario"
   ]
  },
  {
   "cell_type": "code",
   "execution_count": 18,
   "id": "6d7b273c",
   "metadata": {},
   "outputs": [
    {
     "name": "stdout",
     "output_type": "stream",
     "text": [
      "Faltou 450 unidades\n",
      "50\n"
     ]
    }
   ],
   "source": [
    "def ganhou_bonus(vendas):\n",
    "    return 50 if vendas >= 500 else f\"Faltou {500 - vendas} unidades\"\n",
    "print(ganhou_bonus(50))\n",
    "print(ganhou_bonus(500))"
   ]
  },
  {
   "cell_type": "code",
   "execution_count": null,
   "id": "99fb55f9",
   "metadata": {},
   "outputs": [],
   "source": []
  }
 ],
 "metadata": {
  "kernelspec": {
   "display_name": "Python 3 (ipykernel)",
   "language": "python",
   "name": "python3"
  },
  "language_info": {
   "codemirror_mode": {
    "name": "ipython",
    "version": 3
   },
   "file_extension": ".py",
   "mimetype": "text/x-python",
   "name": "python",
   "nbconvert_exporter": "python",
   "pygments_lexer": "ipython3",
   "version": "3.9.7"
  }
 },
 "nbformat": 4,
 "nbformat_minor": 5
}
