{
 "cells": [
  {
   "cell_type": "markdown",
   "id": "fac726fa",
   "metadata": {},
   "source": [
    "# Integração Python com E-mail\n",
    "## 2 formas de integrar\n",
    "- Gmail\n",
    "- Outlook"
   ]
  },
  {
   "cell_type": "markdown",
   "id": "5388f0f8",
   "metadata": {},
   "source": [
    "## Método Gmail\n"
   ]
  },
  {
   "cell_type": "code",
   "execution_count": 1,
   "id": "8225640c",
   "metadata": {},
   "outputs": [],
   "source": [
    "import yagmail"
   ]
  },
  {
   "cell_type": "markdown",
   "id": "9b3094c2",
   "metadata": {},
   "source": [
    "# Integração Python com Gmail - Usando Yagmail\n",
    "## 2 métodos principais\n",
    "- ygmail.cmtp"
   ]
  },
  {
   "cell_type": "markdown",
   "id": "ad72bea0",
   "metadata": {},
   "source": [
    "```\n",
    "usuario yagmail.SMPT(user='email', password='senha')\n",
    "```"
   ]
  },
  {
   "cell_type": "markdown",
   "id": "9b955e0e",
   "metadata": {},
   "source": [
    "- .send"
   ]
  },
  {
   "cell_type": "markdown",
   "id": "d8d4c226",
   "metadata": {},
   "source": [
    "```\n",
    "usuario.send(to='destinatario', subject='assunto', contents='conteudo do email')\n",
    "```"
   ]
  },
  {
   "cell_type": "markdown",
   "id": "36560b57",
   "metadata": {},
   "source": [
    "## Enviando E-mail"
   ]
  },
  {
   "cell_type": "code",
   "execution_count": null,
   "id": "0eecd331",
   "metadata": {},
   "outputs": [],
   "source": [
    "usuario yagmail.SMPT(user='email', password='senha')\n",
    "usuario.send(to='destinatario', subject='assunto', contents='conteudo do email')"
   ]
  },
  {
   "cell_type": "markdown",
   "id": "d4bc6a3a",
   "metadata": {},
   "source": [
    "## Enviando E-mail com anexos"
   ]
  },
  {
   "cell_type": "code",
   "execution_count": null,
   "id": "b86f7cbd",
   "metadata": {},
   "outputs": [],
   "source": [
    "usuario.send(to='destinatario', subject='assunto', contents='conteudo do email', attachments='caminho do arquivo com extensão')"
   ]
  },
  {
   "cell_type": "markdown",
   "id": "98ca0a19",
   "metadata": {},
   "source": [
    "## Cópias, mais de um destinatario"
   ]
  },
  {
   "cell_type": "code",
   "execution_count": null,
   "id": "ac8de38e",
   "metadata": {},
   "outputs": [],
   "source": [
    "usuario.send(to=['destinatario', 'outro destinatario'], cc='destinatario em copia',\\\n",
    "             bcc='destinatario em copia oculta', subject='assunto', contents='conteudo do email')"
   ]
  },
  {
   "cell_type": "markdown",
   "id": "1e707f2a",
   "metadata": {},
   "source": [
    "## Personalizando texto do e-mail\n",
    "- com python normal"
   ]
  },
  {
   "cell_type": "code",
   "execution_count": null,
   "id": "a3ef1f35",
   "metadata": {},
   "outputs": [],
   "source": []
  },
  {
   "cell_type": "markdown",
   "id": "0b39c152",
   "metadata": {},
   "source": [
    "- com html"
   ]
  },
  {
   "cell_type": "code",
   "execution_count": null,
   "id": "7783b3ac",
   "metadata": {},
   "outputs": [],
   "source": []
  }
 ],
 "metadata": {
  "kernelspec": {
   "display_name": "Python 3 (ipykernel)",
   "language": "python",
   "name": "python3"
  },
  "language_info": {
   "codemirror_mode": {
    "name": "ipython",
    "version": 3
   },
   "file_extension": ".py",
   "mimetype": "text/x-python",
   "name": "python",
   "nbconvert_exporter": "python",
   "pygments_lexer": "ipython3",
   "version": "3.9.7"
  }
 },
 "nbformat": 4,
 "nbformat_minor": 5
}
