{
 "cells": [
  {
   "cell_type": "markdown",
   "id": "e72da5d6",
   "metadata": {},
   "source": [
    "# JSON\n",
    "\n",
    "- JavaScript Object Notation\n",
    "- Um simples formato de texto, um padrão\n",
    "- No python é essencialmente um dicionário\n",
    "\n",
    "ex. Um usuário do Facebook em formato JSON\n",
    "{\"ID254\": {\"nome\": \"Bartolomeu\", \"idade\": 54, \"Amigos\": [\"ID255\", \"ID256\", \"ID257\"], \"foto_perfil\":\"bartolomeu.png\"}}\n",
    "\n",
    "\n",
    "# API\n",
    "\n",
    "Application Programming Interface"
   ]
  },
  {
   "cell_type": "markdown",
   "id": "8860e6fd",
   "metadata": {},
   "source": [
    "# JSON EM PYTHON"
   ]
  },
  {
   "cell_type": "code",
   "execution_count": 1,
   "id": "b4fe41c7",
   "metadata": {},
   "outputs": [
    {
     "name": "stdout",
     "output_type": "stream",
     "text": [
      "<Response [200]>\n"
     ]
    }
   ],
   "source": [
    "import requests\n",
    "\n",
    "requisicao = requests.get(\"https://economia.awesomeapi.com.br/last/USD-BRL,EUR-BRL,BTC-BRL\")\n",
    "print(requisicao)"
   ]
  },
  {
   "cell_type": "code",
   "execution_count": 4,
   "id": "71c9804a",
   "metadata": {},
   "outputs": [
    {
     "name": "stdout",
     "output_type": "stream",
     "text": [
      "{'USDBRL': {'code': 'USD', 'codein': 'BRL', 'name': 'Dólar Americano/Real Brasileiro', 'high': '5.7024', 'low': '5.6693', 'varBid': '0.0105', 'pctChange': '0.18', 'bid': '5.6933', 'ask': '5.6945', 'timestamp': '1641560712', 'create_date': '2022-01-07 10:05:12'}, 'EURBRL': {'code': 'EUR', 'codein': 'BRL', 'name': 'Euro/Real Brasileiro', 'high': '6.4443', 'low': '6.408', 'varBid': '0.0165', 'pctChange': '0.26', 'bid': '6.4317', 'ask': '6.4354', 'timestamp': '1641560713', 'create_date': '2022-01-07 10:05:13'}, 'BTCBRL': {'code': 'BTC', 'codein': 'BRL', 'name': 'Bitcoin/Real Brasileiro', 'high': '250.191', 'low': '236.005', 'varBid': '-3561', 'pctChange': '-1.44', 'bid': '244.293', 'ask': '244.439', 'timestamp': '1641560715', 'create_date': '2022-01-07 10:05:15'}}\n"
     ]
    }
   ],
   "source": [
    "print(requisicao.json())"
   ]
  },
  {
   "cell_type": "code",
   "execution_count": 5,
   "id": "1cb259eb",
   "metadata": {},
   "outputs": [],
   "source": [
    "dict_requisicao = requisicao.json()"
   ]
  },
  {
   "cell_type": "code",
   "execution_count": 6,
   "id": "101c6b41",
   "metadata": {},
   "outputs": [
    {
     "name": "stdout",
     "output_type": "stream",
     "text": [
      "{'code': 'USD', 'codein': 'BRL', 'name': 'Dólar Americano/Real Brasileiro', 'high': '5.7024', 'low': '5.6693', 'varBid': '0.0105', 'pctChange': '0.18', 'bid': '5.6933', 'ask': '5.6945', 'timestamp': '1641560712', 'create_date': '2022-01-07 10:05:12'}\n"
     ]
    }
   ],
   "source": [
    "print(dict_requisicao['USDBRL'])"
   ]
  },
  {
   "cell_type": "code",
   "execution_count": 7,
   "id": "abf33f81",
   "metadata": {},
   "outputs": [
    {
     "name": "stdout",
     "output_type": "stream",
     "text": [
      "5.6933\n"
     ]
    }
   ],
   "source": [
    "print(dict_requisicao['USDBRL']['bid'])"
   ]
  },
  {
   "cell_type": "code",
   "execution_count": null,
   "id": "f21a4b76",
   "metadata": {},
   "outputs": [],
   "source": []
  }
 ],
 "metadata": {
  "kernelspec": {
   "display_name": "Python 3 (ipykernel)",
   "language": "python",
   "name": "python3"
  },
  "language_info": {
   "codemirror_mode": {
    "name": "ipython",
    "version": 3
   },
   "file_extension": ".py",
   "mimetype": "text/x-python",
   "name": "python",
   "nbconvert_exporter": "python",
   "pygments_lexer": "ipython3",
   "version": "3.9.7"
  }
 },
 "nbformat": 4,
 "nbformat_minor": 5
}
