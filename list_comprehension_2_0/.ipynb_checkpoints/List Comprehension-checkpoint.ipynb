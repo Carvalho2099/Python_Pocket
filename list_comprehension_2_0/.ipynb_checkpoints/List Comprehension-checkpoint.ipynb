{
 "cells": [
  {
   "cell_type": "markdown",
   "id": "3af40439",
   "metadata": {},
   "source": [
    "# List Comprehension - O que é e qual a importância?\n",
    "## Descrição\n",
    "- List Comprehension é uma forma de iterar pelos elementos das listas de maneira \"mais direta\", com mais \"cara de python\".\n",
    "- Em resumo: é como se fizesse um for em uma linha de codigo"
   ]
  },
  {
   "cell_type": "markdown",
   "id": "0b0af964",
   "metadata": {},
   "source": [
    "## Observação Importante:\n",
    "- Você não precisa de List comprehension para programar, tudo que vamos mostrar aqui da para fazer do jeito que aprendemos.\n",
    "- Você Não vai sair de uma hora para outra fazendo tudo List Comprehension ao invés de for, porque é realmente mais confuso.\n",
    "- O objetivo é:\n",
    "    1. Saber ler e entender o que esta acontecendo quando ver List Comprehension\n",
    "    2. A médida do tempo voce vai se acostumando com isso, vendo mais, usando mais e vai fazer naturalmente quando precisar."
   ]
  },
  {
   "cell_type": "markdown",
   "id": "e3081d09",
   "metadata": {},
   "source": [
    "## Estrutura:\n",
    "```\n",
    "lista = [expressão for item in iterable]\n",
    "```"
   ]
  },
  {
   "cell_type": "code",
   "execution_count": 2,
   "id": "b5783368",
   "metadata": {},
   "outputs": [],
   "source": [
    "preco_produtos = [100, 150, 300, 5500]\n",
    "produtos = ['vinho', 'cafeteira', 'microondas', 'iphone']\n",
    "# digamos que o imposto sobre os produtos é de 30%, ou seja, 0.3. como eu faria para criar uma lista com os valores\n",
    "# de imposto de cada produto"
   ]
  },
  {
   "cell_type": "markdown",
   "id": "7c696133",
   "metadata": {},
   "source": [
    "- usando for"
   ]
  },
  {
   "cell_type": "code",
   "execution_count": 8,
   "id": "230afee9",
   "metadata": {},
   "outputs": [
    {
     "name": "stdout",
     "output_type": "stream",
     "text": [
      "[100, 150, 300, 5500]\n",
      "[30.0, 45.0, 90.0, 1650.0]\n"
     ]
    }
   ],
   "source": [
    "impostos1 = []\n",
    "for preco in preco_produtos:\n",
    "    impostos1.append(preco * 0.3)\n",
    "print(preco_produtos)\n",
    "print(impostos1)"
   ]
  },
  {
   "cell_type": "markdown",
   "id": "2ccbf5ce",
   "metadata": {},
   "source": [
    "- usando List Comprehension"
   ]
  },
  {
   "cell_type": "code",
   "execution_count": 9,
   "id": "e0818e61",
   "metadata": {},
   "outputs": [
    {
     "name": "stdout",
     "output_type": "stream",
     "text": [
      "[30.0, 45.0, 90.0, 1650.0]\n"
     ]
    }
   ],
   "source": [
    "imposto2 = [preco * 0.3 for preco in preco_produtos]\n",
    "print(imposto2)"
   ]
  },
  {
   "cell_type": "markdown",
   "id": "595d6115",
   "metadata": {},
   "source": [
    "## Observação\n",
    "- Normalmente isso é usado quando queremos fazaer uma única ação com os itens de ua lista. Não é obrigatorio, mas é comum encontrar principalmente com programadores mais experientes/preocupados com a melhor forma de fazear a coisa.\n",
    "- Cuidado: se sua lista for muito grande, o List Comprehension pode acabar sendo dificil de compilar. Nesses casos  podemos usar funções for tradicionais com breaks para interromper ou até libs como panda que trabalha bem com muitos dados"
   ]
  },
  {
   "cell_type": "markdown",
   "id": "255af1e1",
   "metadata": {},
   "source": [
    "# Um exemplo prático de LIst Comprehension\n",
    "## O que fariamos se quisermos ordenar 2 listas \"relacionadas\""
   ]
  },
  {
   "cell_type": "code",
   "execution_count": 11,
   "id": "7ba87b27",
   "metadata": {},
   "outputs": [
    {
     "name": "stdout",
     "output_type": "stream",
     "text": [
      "[(1500, 'vinho'), (150, 'cafeteira'), (2100, 'microondas'), (1950, 'iphone')]\n"
     ]
    }
   ],
   "source": [
    "vendas_produtos = [1500, 150, 2100, 1950]\n",
    "produtos = ['vinho', 'cafeteira', 'microondas', 'iphone']\n",
    "lista_aux = list(zip(vendas_produtos, produtos))\n",
    "print(lista_aux)"
   ]
  },
  {
   "cell_type": "code",
   "execution_count": 12,
   "id": "123aaf5d",
   "metadata": {},
   "outputs": [
    {
     "name": "stdout",
     "output_type": "stream",
     "text": [
      "[(2100, 'microondas'), (1950, 'iphone'), (1500, 'vinho'), (150, 'cafeteira')]\n"
     ]
    }
   ],
   "source": [
    "lista_aux.sort(reverse=True)\n",
    "print(lista_aux)"
   ]
  },
  {
   "cell_type": "code",
   "execution_count": 13,
   "id": "2b424692",
   "metadata": {},
   "outputs": [
    {
     "name": "stdout",
     "output_type": "stream",
     "text": [
      "['microondas', 'iphone', 'vinho', 'cafeteira']\n"
     ]
    }
   ],
   "source": [
    "produtos = [produto for vendas, produto in lista_aux]\n",
    "print(produtos)"
   ]
  },
  {
   "cell_type": "code",
   "execution_count": 14,
   "id": "ff080cec",
   "metadata": {},
   "outputs": [
    {
     "name": "stdout",
     "output_type": "stream",
     "text": [
      "[2100, 1950, 1500, 150]\n"
     ]
    }
   ],
   "source": [
    "vendas_produtos = [vendas for vendas, produto in lista_aux]\n",
    "print(vendas_produtos)"
   ]
  },
  {
   "cell_type": "code",
   "execution_count": null,
   "id": "921b17f6",
   "metadata": {},
   "outputs": [],
   "source": []
  }
 ],
 "metadata": {
  "kernelspec": {
   "display_name": "Python 3 (ipykernel)",
   "language": "python",
   "name": "python3"
  },
  "language_info": {
   "codemirror_mode": {
    "name": "ipython",
    "version": 3
   },
   "file_extension": ".py",
   "mimetype": "text/x-python",
   "name": "python",
   "nbconvert_exporter": "python",
   "pygments_lexer": "ipython3",
   "version": "3.9.7"
  }
 },
 "nbformat": 4,
 "nbformat_minor": 5
}
