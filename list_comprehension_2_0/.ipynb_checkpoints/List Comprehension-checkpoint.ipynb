{
 "cells": [
  {
   "cell_type": "markdown",
   "id": "f80bb0ee",
   "metadata": {},
   "source": [
    "# List Comprehension - O que é e qual a importância?\n",
    "## Descrição\n",
    "- List Comprehension é uma forma de iterar pelos elementos das listas de maneira \"mais direta\", com mais \"cara de python\".\n",
    "- Em resumo: é como se fizesse um for em uma linha de codigo"
   ]
  },
  {
   "cell_type": "markdown",
   "id": "4e09138d",
   "metadata": {},
   "source": [
    "## Observação Importante:\n",
    "- Você não precisa de List comprehension para programar, tudo que vamos mostrar aqui da para fazer do jeito que aprendemos.\n",
    "- Você Não vai sair de uma hora para outra fazendo tudo List Comprehension ao invés de for, porque é realmente mais confuso.\n",
    "- O objetivo é:\n",
    "    1. Saber ler e entender o que esta acontecendo quando ver List Comprehension\n",
    "    2. A médida do tempo voce vai se acostumando com isso, vendo mais, usando mais e vai fazer naturalmente quando precisar."
   ]
  },
  {
   "cell_type": "markdown",
   "id": "6f1eff29",
   "metadata": {},
   "source": [
    "## Estrutura:\n",
    "```\n",
    "lista = [expressão for item in iterable]\n",
    "```"
   ]
  },
  {
   "cell_type": "code",
   "execution_count": 2,
   "id": "12dbc09d",
   "metadata": {},
   "outputs": [],
   "source": [
    "preco_produtos = [100, 150, 300, 5500]\n",
    "produtos = ['vinho', 'cafeteira', 'microondas', 'iphone']\n",
    "# digamos que o imposto sobre os produtos é de 30%, ou seja, 0.3. como eu faria para criar uma lista com os valores\n",
    "# de imposto de cada produto"
   ]
  },
  {
   "cell_type": "markdown",
   "id": "7ab8ceb2",
   "metadata": {},
   "source": [
    "- usando for"
   ]
  },
  {
   "cell_type": "code",
   "execution_count": 8,
   "id": "f53ede23",
   "metadata": {},
   "outputs": [
    {
     "name": "stdout",
     "output_type": "stream",
     "text": [
      "[100, 150, 300, 5500]\n",
      "[30.0, 45.0, 90.0, 1650.0]\n"
     ]
    }
   ],
   "source": [
    "impostos1 = []\n",
    "for preco in preco_produtos:\n",
    "    impostos1.append(preco * 0.3)\n",
    "print(preco_produtos)\n",
    "print(impostos1)"
   ]
  },
  {
   "cell_type": "markdown",
   "id": "e655c432",
   "metadata": {},
   "source": [
    "- usando List Comprehension"
   ]
  },
  {
   "cell_type": "code",
   "execution_count": 9,
   "id": "0c0b6837",
   "metadata": {},
   "outputs": [
    {
     "name": "stdout",
     "output_type": "stream",
     "text": [
      "[30.0, 45.0, 90.0, 1650.0]\n"
     ]
    }
   ],
   "source": [
    "imposto2 = [preco * 0.3 for preco in preco_produtos]\n",
    "print(imposto2)"
   ]
  },
  {
   "cell_type": "markdown",
   "id": "f8873244",
   "metadata": {},
   "source": [
    "## Observação\n",
    "- Normalmente isso é usado quando queremos fazaer uma única ação com os itens de ua lista. Não é obrigatorio, mas é comum encontrar principalmente com programadores mais experientes/preocupados com a melhor forma de fazear a coisa.\n",
    "- Cuidado: se sua lista for muito grande, o List Comprehension pode acabar sendo dificil de compilar. Nesses casos  podemos usar funções for tradicionais com breaks para interromper ou até libs como panda que trabalha bem com muitos dados"
   ]
  },
  {
   "cell_type": "markdown",
   "id": "174824f4",
   "metadata": {},
   "source": [
    "# Um exemplo prático de LIst Comprehension\n",
    "## O que fariamos se quisermos ordenar 2 listas \"relacionadas\""
   ]
  },
  {
   "cell_type": "code",
   "execution_count": 11,
   "id": "0ec06aae",
   "metadata": {},
   "outputs": [
    {
     "name": "stdout",
     "output_type": "stream",
     "text": [
      "[(1500, 'vinho'), (150, 'cafeteira'), (2100, 'microondas'), (1950, 'iphone')]\n"
     ]
    }
   ],
   "source": [
    "vendas_produtos = [1500, 150, 2100, 1950]\n",
    "produtos = ['vinho', 'cafeteira', 'microondas', 'iphone']\n",
    "lista_aux = list(zip(vendas_produtos, produtos))\n",
    "print(lista_aux)"
   ]
  },
  {
   "cell_type": "code",
   "execution_count": 12,
   "id": "5541847a",
   "metadata": {},
   "outputs": [
    {
     "name": "stdout",
     "output_type": "stream",
     "text": [
      "[(2100, 'microondas'), (1950, 'iphone'), (1500, 'vinho'), (150, 'cafeteira')]\n"
     ]
    }
   ],
   "source": [
    "lista_aux.sort(reverse=True)\n",
    "print(lista_aux)"
   ]
  },
  {
   "cell_type": "code",
   "execution_count": 13,
   "id": "90b46a28",
   "metadata": {},
   "outputs": [
    {
     "name": "stdout",
     "output_type": "stream",
     "text": [
      "['microondas', 'iphone', 'vinho', 'cafeteira']\n"
     ]
    }
   ],
   "source": [
    "produtos = [produto for vendas, produto in lista_aux]\n",
    "print(produtos)"
   ]
  },
  {
   "cell_type": "code",
   "execution_count": 14,
   "id": "0053eb0d",
   "metadata": {},
   "outputs": [
    {
     "name": "stdout",
     "output_type": "stream",
     "text": [
      "[2100, 1950, 1500, 150]\n"
     ]
    }
   ],
   "source": [
    "vendas_produtos = [vendas for vendas, produto in lista_aux]\n",
    "print(vendas_produtos)"
   ]
  },
  {
   "cell_type": "markdown",
   "id": "69d3e2d2",
   "metadata": {},
   "source": [
    "# Exercícios\n",
    "1. Tirando informações de listas e dicionários"
   ]
  },
  {
   "cell_type": "markdown",
   "id": "17f109c0",
   "metadata": {},
   "source": [
    "Digamos que voce esta analisando as vendas de produtos de uma empresa de varejo.<br>\n",
    "Essa lista tem: (produto, vendas 2019, vendas 2020) para cada produto.<br>\n",
    "Crie uma lista com as vendas de 2019"
   ]
  },
  {
   "cell_type": "code",
   "execution_count": 15,
   "id": "1dca138b",
   "metadata": {},
   "outputs": [],
   "source": [
    "vendas_produtos = [('iphone', 558147, 951642), ('galaxy', 712350, 244295), ('ipad', 573823, 26964), ('tv', 405252, 787604), ('máquina de café', 718654, 867660), ('kindle', 531580, 78830), ('geladeira', 973139, 710331), ('adega', 892292, 646016), ('notebook dell', 422760, 694913), ('notebook hp', 154753, 539704), ('notebook asus', 887061, 324831), ('microsoft surface', 438508, 667179), ('webcam', 237467, 295633), ('caixa de som', 489705, 725316), ('microfone', 328311, 644622), ('câmera canon', 591120, 994303)]\n"
   ]
  },
  {
   "cell_type": "code",
   "execution_count": 16,
   "id": "8b5c25b6",
   "metadata": {},
   "outputs": [
    {
     "name": "stdout",
     "output_type": "stream",
     "text": [
      "[558147, 712350, 573823, 405252, 718654, 531580, 973139, 892292, 422760, 154753, 887061, 438508, 237467, 489705, 328311, 591120]\n"
     ]
    }
   ],
   "source": [
    "vendas_2019 = [vendas2019 for produto, vendas2019, vendas2020 in vendas_produtos]\n",
    "print(vendas_2019)"
   ]
  },
  {
   "cell_type": "markdown",
   "id": "4711b8c9",
   "metadata": {},
   "source": [
    "- Agora qual a maior venda de 2019?"
   ]
  },
  {
   "cell_type": "code",
   "execution_count": 17,
   "id": "f1b1c45e",
   "metadata": {},
   "outputs": [
    {
     "name": "stdout",
     "output_type": "stream",
     "text": [
      "973139\n"
     ]
    }
   ],
   "source": [
    "print(max(vendas_2019))"
   ]
  },
  {
   "cell_type": "markdown",
   "id": "6cfc4e66",
   "metadata": {},
   "source": [
    "- E se eu quise descobri o produto que mais vendeu em 2019? temos 2 formas de fazer, refazendo o list comprehension ou consutando a lista original"
   ]
  },
  {
   "cell_type": "code",
   "execution_count": 18,
   "id": "86d08093",
   "metadata": {},
   "outputs": [
    {
     "name": "stdout",
     "output_type": "stream",
     "text": [
      "(973139, 'geladeira')\n"
     ]
    }
   ],
   "source": [
    "mais_vendido2019 = [(vendas2019, produto) for produto, vendas2019, vendas2020 in vendas_produtos]\n",
    "print(max(mais_vendido2019))"
   ]
  },
  {
   "cell_type": "code",
   "execution_count": null,
   "id": "e1d940c1",
   "metadata": {},
   "outputs": [],
   "source": []
  }
 ],
 "metadata": {
  "kernelspec": {
   "display_name": "Python 3 (ipykernel)",
   "language": "python",
   "name": "python3"
  },
  "language_info": {
   "codemirror_mode": {
    "name": "ipython",
    "version": 3
   },
   "file_extension": ".py",
   "mimetype": "text/x-python",
   "name": "python",
   "nbconvert_exporter": "python",
   "pygments_lexer": "ipython3",
   "version": "3.9.7"
  }
 },
 "nbformat": 4,
 "nbformat_minor": 5
}
