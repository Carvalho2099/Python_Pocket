{
 "cells": [
  {
   "cell_type": "markdown",
   "id": "1a158fc6",
   "metadata": {},
   "source": [
    "# List Comprehension - O que é e qual a importância?\n",
    "## Descrição\n",
    "- List Comprehension é uma forma de iterar pelos elementos das listas de maneira \"mais direta\", com mais \"cara de python\".\n",
    "- Em resumo: é como se fizesse um for em uma linha de codigo"
   ]
  },
  {
   "cell_type": "markdown",
   "id": "67fffef9",
   "metadata": {},
   "source": [
    "## Observação Importante:\n",
    "- Você não precisa de List comprehension para programar, tudo que vamos mostrar aqui da para fazer do jeito que aprendemos.\n",
    "- Você Não vai sair de uma hora para outra fazendo tudo List Comprehension ao invés de for, porque é realmente mais confuso.\n",
    "- O objetivo é:\n",
    "    1. Saber ler e entender o que esta acontecendo quando ver List Comprehension\n",
    "    2. A médida do tempo voce vai se acostumando com isso, vendo mais, usando mais e vai fazer naturalmente quando precisar."
   ]
  },
  {
   "cell_type": "markdown",
   "id": "1ac3f7a5",
   "metadata": {},
   "source": [
    "## Estrutura:\n",
    "```\n",
    "lista = [expressão for item in iterable]\n",
    "```"
   ]
  },
  {
   "cell_type": "code",
   "execution_count": 2,
   "id": "f9e95fb3",
   "metadata": {},
   "outputs": [],
   "source": [
    "preco_produtos = [100, 150, 300, 5500]\n",
    "produtos = ['vinho', 'cafeteira', 'microondas', 'iphone']\n",
    "# digamos que o imposto sobre os produtos é de 30%, ou seja, 0.3. como eu faria para criar uma lista com os valores\n",
    "# de imposto de cada produto"
   ]
  },
  {
   "cell_type": "markdown",
   "id": "9eaef46f",
   "metadata": {},
   "source": [
    "- usando for"
   ]
  },
  {
   "cell_type": "code",
   "execution_count": 8,
   "id": "1540e017",
   "metadata": {},
   "outputs": [
    {
     "name": "stdout",
     "output_type": "stream",
     "text": [
      "[100, 150, 300, 5500]\n",
      "[30.0, 45.0, 90.0, 1650.0]\n"
     ]
    }
   ],
   "source": [
    "impostos1 = []\n",
    "for preco in preco_produtos:\n",
    "    impostos1.append(preco * 0.3)\n",
    "print(preco_produtos)\n",
    "print(impostos1)"
   ]
  },
  {
   "cell_type": "markdown",
   "id": "9890a872",
   "metadata": {},
   "source": [
    "- usando List Comprehension"
   ]
  },
  {
   "cell_type": "code",
   "execution_count": 9,
   "id": "37a30c3f",
   "metadata": {},
   "outputs": [
    {
     "name": "stdout",
     "output_type": "stream",
     "text": [
      "[30.0, 45.0, 90.0, 1650.0]\n"
     ]
    }
   ],
   "source": [
    "imposto2 = [preco * 0.3 for preco in preco_produtos]\n",
    "print(imposto2)"
   ]
  },
  {
   "cell_type": "markdown",
   "id": "3561b777",
   "metadata": {},
   "source": [
    "## Observação\n",
    "- Normalmente isso é usado quando queremos fazaer uma única ação com os itens de ua lista. Não é obrigatorio, mas é comum encontrar principalmente com programadores mais experientes/preocupados com a melhor forma de fazear a coisa.\n",
    "- Cuidado: se sua lista for muito grande, o List Comprehension pode acabar sendo dificil de compilar. Nesses casos  podemos usar funções for tradicionais com breaks para interromper ou até libs como panda que trabalha bem com muitos dados"
   ]
  },
  {
   "cell_type": "code",
   "execution_count": null,
   "id": "4225da46",
   "metadata": {},
   "outputs": [],
   "source": []
  }
 ],
 "metadata": {
  "kernelspec": {
   "display_name": "Python 3 (ipykernel)",
   "language": "python",
   "name": "python3"
  },
  "language_info": {
   "codemirror_mode": {
    "name": "ipython",
    "version": 3
   },
   "file_extension": ".py",
   "mimetype": "text/x-python",
   "name": "python",
   "nbconvert_exporter": "python",
   "pygments_lexer": "ipython3",
   "version": "3.9.7"
  }
 },
 "nbformat": 4,
 "nbformat_minor": 5
}
