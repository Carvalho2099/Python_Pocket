{
 "cells": [
  {
   "cell_type": "markdown",
   "id": "1e2cea35",
   "metadata": {},
   "source": [
    "# Introdução a Orientaçao a Objeto\n",
    "## Regras Gerais:\n",
    "- Tudo em python é um objeto\n",
    "    - string é objeto\n",
    "    - lista é objeto\n",
    "    - dicionários são objetos"
   ]
  },
  {
   "cell_type": "markdown",
   "id": "97aceea4",
   "metadata": {},
   "source": [
    "## Comparação Clássica\n",
    "- Pense no controle remoto de uma televisão.\n",
    "    - O controle é um objeto\n",
    "    - Cada botão dele é um comando, um método.\n",
    "    - Cada método faz uma ação especifica\n",
    "        - Por trás de cada método (dentro do controle) podem acontecer milhares de coisas quando você aperta um botão, mas no fundo você esta cagando para isso, só que que o botão faça o que você mandou quando clicou no botão."
   ]
  },
  {
   "cell_type": "markdown",
   "id": "67d7f202",
   "metadata": {},
   "source": [
    "## Em termos práticos no Python\n",
    "- isso significa que todos eles tem métodos especificos, ou seja, já existe programado no Python várias coisas que você consegue fazer com ele\n",
    "    - Exemplo: strings\n",
    "        - Quando no python criaram a string, eles programaram lá em qualquer lugar que texto[i] vai te dar o caracter na posição i do texto.\n",
    "        - Também criaram o metodo texto.upper() que torna toda string em maiusculoa.\n",
    "        - também criaram o método texto.casefold() que coloca tudo em letre minuscula.\n",
    "    - Em termos práticos, você já deve ter reparado que fazemos muit coisas do tipo variavel.metodo()\n",
    "        - 'produto {}: {} unidades vendidas'.format(produto, quantidade)\n",
    "        - lista.append('aldhalshd')\n",
    "        - texto.count()"
   ]
  },
  {
   "cell_type": "markdown",
   "id": "c3836e6b",
   "metadata": {},
   "source": [
    "## E para onde vamos com isso agora? qual a grande vantagem?\n",
    "- A vantagem é que agora vamos aprender a importar módulos novos.\n",
    "- Então tem muitas coisas que já estão prontas no Python que a gente não precisamos programar do zero. Que vamos simplesmente usar.\n",
    "- Quando importamos algo, na pratica o que fazemos é importar um ou mais objetos que tem varios metodos ja prontos."
   ]
  },
  {
   "cell_type": "markdown",
   "id": "26725085",
   "metadata": {},
   "source": [
    "# O que são módulos e qual a importância deles?\n",
    "## Importância\n",
    "- Já tem muita coisa pronta, então você nem precisa criar do zero\n",
    "- Se você souber usar Módulos e como usar um módulo, você vai conseguir fazer praticamente tudo em Python\n",
    "## Estrutura Básica\n",
    "```\n",
    "import módulo\n",
    "ou \n",
    "import módulo as nome\n",
    "```\n",
    "- Exemplo: como pode fazer nosso código abrir um site especifico na internet"
   ]
  },
  {
   "cell_type": "code",
   "execution_count": 1,
   "id": "aad1118b",
   "metadata": {},
   "outputs": [
    {
     "data": {
      "text/plain": [
       "True"
      ]
     },
     "execution_count": 1,
     "metadata": {},
     "output_type": "execute_result"
    }
   ],
   "source": [
    "import webbrowser as wb\n",
    "wb.open(\"https://www.google.com.br/\")"
   ]
  },
  {
   "cell_type": "markdown",
   "id": "75a811e5",
   "metadata": {},
   "source": [
    "## Variações\n",
    "```\n",
    "# importar o modulo sem precusar usar o nome dele\n",
    "from modulo import *\n",
    "#importar apenas algumas partes do módulo\n",
    "from modulo inport funcao1, funcao2, funcao3 \n",
    "```"
   ]
  },
  {
   "cell_type": "code",
   "execution_count": 2,
   "id": "60c3d744",
   "metadata": {},
   "outputs": [
    {
     "data": {
      "text/plain": [
       "True"
      ]
     },
     "execution_count": 2,
     "metadata": {},
     "output_type": "execute_result"
    }
   ],
   "source": [
    "from webbrowser import open\n",
    "open(\"https://www.google.com.br/\")"
   ]
  },
  {
   "cell_type": "markdown",
   "id": "1404d7b9",
   "metadata": {},
   "source": [
    "# Começando a ler um modulo\n",
    "## Vamos testar com mo modulo WebBrowser:\n",
    "- passo 1: Descobrir qual modulos precisamos usar e qual o metodo do modulo faz o que queremos.\n",
    "- passo 2: Se precisarmos de mais alguma coisa do modulo, buscamos por soluções ja escolhendo o módulo"
   ]
  },
  {
   "cell_type": "code",
   "execution_count": null,
   "id": "45a51c48",
   "metadata": {},
   "outputs": [],
   "source": [
    "import webbrowseras as wb\n",
    "wb.open('https://www.google.com.br/')"
   ]
  },
  {
   "cell_type": "markdown",
   "id": "25460407",
   "metadata": {},
   "source": [
    "# Modulo time\n",
    "## Estrutura:\n",
    "- Um dos modulos mais usados no Python. Tudo que diz respeito a data a marcar quanto tempo leva alguma ação, ou o tempo mesmo, o modulo time vai nos ajudar"
   ]
  },
  {
   "cell_type": "code",
   "execution_count": 3,
   "id": "3424a3ff",
   "metadata": {},
   "outputs": [],
   "source": [
    "import time"
   ]
  },
  {
   "cell_type": "markdown",
   "id": "f5602000",
   "metadata": {},
   "source": [
    "- Marco Zero (chamado de EPOCH) = 1 de janeiro de 1970 às 00:00:00\n",
    "- time() retorna quantos segundos se passaram desde a EPOCH"
   ]
  },
  {
   "cell_type": "code",
   "execution_count": 4,
   "id": "a27c9e20",
   "metadata": {},
   "outputs": [
    {
     "name": "stdout",
     "output_type": "stream",
     "text": [
      "1642977872.1492448\n"
     ]
    }
   ],
   "source": [
    "segundo_hoje = time.time()\n",
    "print(segundo_hoje)"
   ]
  },
  {
   "cell_type": "markdown",
   "id": "ec7b41f5",
   "metadata": {},
   "source": [
    "- ctime retorna a data em string o texto no formato UTC (um formato padrão de datas)"
   ]
  },
  {
   "cell_type": "code",
   "execution_count": 5,
   "id": "ba49384f",
   "metadata": {},
   "outputs": [
    {
     "name": "stdout",
     "output_type": "stream",
     "text": [
      "Sun Jan 23 18:45:25 2022\n"
     ]
    }
   ],
   "source": [
    "data_hoje = time.ctime()\n",
    "print(data_hoje)"
   ]
  },
  {
   "cell_type": "markdown",
   "id": "653894db",
   "metadata": {},
   "source": [
    "- Isso já pode ser muito útil para medir o tempo que uma ação leva, caso seja do interesse:"
   ]
  },
  {
   "cell_type": "code",
   "execution_count": 7,
   "id": "bc3b250d",
   "metadata": {},
   "outputs": [
    {
     "name": "stdout",
     "output_type": "stream",
     "text": [
      "O programa levou 2.9786758422851562 segundos para rodar.\n"
     ]
    }
   ],
   "source": [
    "tempo_inicial = time.time()\n",
    "for i in range(100000000):\n",
    "    pass\n",
    "tempo_final = time.time()\n",
    "duracao = tempo_final - tempo_inicial\n",
    "print(f'O programa levou {duracao} segundos para rodar.')"
   ]
  },
  {
   "cell_type": "markdown",
   "id": "89cfd887",
   "metadata": {},
   "source": [
    "- Fazer o codigo esperar alguns segundos (muito util quando temos que esperar um programa ou uma página carregar)"
   ]
  },
  {
   "cell_type": "code",
   "execution_count": 8,
   "id": "c8e16bd1",
   "metadata": {},
   "outputs": [
    {
     "name": "stdout",
     "output_type": "stream",
     "text": [
      "Começando\n",
      "Rodou 5 segundos após\n"
     ]
    }
   ],
   "source": [
    "print('Começando')\n",
    "time.sleep(5)\n",
    "print('Rodou 5 segundos após')"
   ]
  },
  {
   "cell_type": "markdown",
   "id": "331fdf59",
   "metadata": {},
   "source": [
    "- Pegar informações de dias, horas, segundo, minuto, tudo detalhado:\n",
    "- gmtime()\n",
    "- gmtime().parametro"
   ]
  },
  {
   "cell_type": "code",
   "execution_count": 9,
   "id": "ca890c33",
   "metadata": {},
   "outputs": [
    {
     "name": "stdout",
     "output_type": "stream",
     "text": [
      "time.struct_time(tm_year=2022, tm_mon=1, tm_mday=23, tm_hour=22, tm_min=55, tm_sec=5, tm_wday=6, tm_yday=23, tm_isdst=0)\n"
     ]
    }
   ],
   "source": [
    "data_atual = time.gmtime()\n",
    "print(data_atual)"
   ]
  },
  {
   "cell_type": "markdown",
   "id": "3ed44004",
   "metadata": {},
   "source": [
    "- É um objeto diferente, mas podemos pegar os parametros de ano, mes, dia etc:"
   ]
  },
  {
   "cell_type": "code",
   "execution_count": 10,
   "id": "529e20ca",
   "metadata": {},
   "outputs": [
    {
     "name": "stdout",
     "output_type": "stream",
     "text": [
      "Hoje é dia 23/1/2022, dia semana: 6\n"
     ]
    }
   ],
   "source": [
    "ano = data_atual.tm_year\n",
    "mes = data_atual.tm_mon\n",
    "dia = data_atual.tm_mday\n",
    "hora = data_atual.tm_hour\n",
    "dia_da_semana = data_atual.tm_wday\n",
    "print(f'Hoje é dia {dia}/{mes}/{ano}, dia semana: {dia_da_semana}')"
   ]
  },
  {
   "cell_type": "markdown",
   "id": "9847d2a0",
   "metadata": {},
   "source": [
    "# Usando módulos para ajudar a resolver desafios\n",
    "## Objetivo\n",
    "- Muitas vezes algum modulo vai ajudar a gente a resolver uum desafio que talvez até conseguissemos resolver de outra forma."
   ]
  },
  {
   "cell_type": "markdown",
   "id": "4a9aa7a6",
   "metadata": {},
   "source": [
    "## Exemplo\n",
    "- Digamos que você está analisando todas as vendas dos produtos de tecnologia de um e-commerce e que saber quais foram os 5 produtos que mais venderam(e suas respectivas quantidades de vendas) - ou seja, queremos descobrir um top 3 produtos de forma simples."
   ]
  },
  {
   "cell_type": "code",
   "execution_count": 11,
   "id": "a9ef448e",
   "metadata": {},
   "outputs": [],
   "source": [
    "vendas_tecnologia = {'notebook asus': 2450, 'iphone': 15000, 'samsung galaxy': 12000, 'tv samsung': 10000, 'ps5': 14300, 'tablet': 1720, 'notebook dell': 17000, 'ipad': 1000, 'tv philco': 2500, 'notebook hp': 1000}"
   ]
  },
  {
   "cell_type": "code",
   "execution_count": 13,
   "id": "63e4e515",
   "metadata": {},
   "outputs": [
    {
     "name": "stdout",
     "output_type": "stream",
     "text": [
      "[('notebook dell', 17000), ('iphone', 15000), ('ps5', 14300)]\n"
     ]
    }
   ],
   "source": [
    "from collections import Counter\n",
    "aux = Counter(vendas_tecnologia)\n",
    "print(aux.most_common(3))"
   ]
  },
  {
   "cell_type": "markdown",
   "id": "1aa6d3c0",
   "metadata": {},
   "source": [
    "# Exibindo Gráficos no Python\n",
    "## Importância\n",
    "- Para exploração e visualização de daos, nada melhor do que usar gráficos para isso. Apesar do Python ser programação, gráficos facilitam muito qualquer projeto que trabalhe com dados"
   ]
  },
  {
   "cell_type": "markdown",
   "id": "58d88cf2",
   "metadata": {},
   "source": [
    "## Estrutura\n",
    "- Usaremos o modulo Matplotlib.pyplot que é o modulo mais usado em Python. Existem outros, como seaborn e o Plotly."
   ]
  },
  {
   "cell_type": "code",
   "execution_count": 14,
   "id": "67f08e53",
   "metadata": {},
   "outputs": [
    {
     "data": {
      "image/png": "[encoded data removed]",
      "text/plain": [
       "<Figure size 432x288 with 1 Axes>"
      ]
     },
     "metadata": {
      "needs_background": "light"
     },
     "output_type": "display_data"
    }
   ],
   "source": [
    "vendas_meses = [1500, 1727, 1350, 999, 1050, 1027, 1022, 1500, 2000, 1433, 2100, 2762]\n",
    "meses = ['jan', 'fev', 'mar', 'abr', 'mai', 'jun', 'jul', 'ago', 'set', 'out', 'nov', 'dez']\n",
    "\n",
    "\n",
    "# plotar o gráfico da forma mais simples\n",
    "import matplotlib.pyplot as plt\n",
    "\n",
    "plt.plot(vendas_meses)\n",
    "plt.show()"
   ]
  },
  {
   "cell_type": "markdown",
   "id": "39929782",
   "metadata": {},
   "source": [
    "- Adicionar um Label no eixo X ou exo Y"
   ]
  },
  {
   "cell_type": "code",
   "execution_count": 16,
   "id": "760fdeb0",
   "metadata": {},
   "outputs": [
    {
     "data": {
      "image/png": "[encoded data removed]",
      "text/plain": [
       "<Figure size 432x288 with 1 Axes>"
      ]
     },
     "metadata": {
      "needs_background": "light"
     },
     "output_type": "display_data"
    }
   ],
   "source": [
    "plt.plot(vendas_meses)\n",
    "plt.ylabel('Vendas')\n",
    "plt.xlabel('Meses')\n",
    "plt.show()"
   ]
  },
  {
   "cell_type": "markdown",
   "id": "72d4d518",
   "metadata": {},
   "source": [
    "- Mudar os nomes dos meses"
   ]
  },
  {
   "cell_type": "code",
   "execution_count": 17,
   "id": "35faf22f",
   "metadata": {},
   "outputs": [
    {
     "data": {
      "image/png": "[encoded data removed]",
      "text/plain": [
       "<Figure size 432x288 with 1 Axes>"
      ]
     },
     "metadata": {
      "needs_background": "light"
     },
     "output_type": "display_data"
    }
   ],
   "source": [
    "plt.plot(meses, vendas_meses)\n",
    "plt.ylabel('Vendas')\n",
    "plt.xlabel('Meses')\n",
    "plt.show()"
   ]
  },
  {
   "cell_type": "markdown",
   "id": "0c6c8403",
   "metadata": {},
   "source": [
    "- Ajeitando o Eixo"
   ]
  },
  {
   "cell_type": "code",
   "execution_count": 20,
   "id": "ff511276",
   "metadata": {},
   "outputs": [
    {
     "data": {
      "image/png": "[encoded data removed]",
      "text/plain": [
       "<Figure size 432x288 with 1 Axes>"
      ]
     },
     "metadata": {
      "needs_background": "light"
     },
     "output_type": "display_data"
    }
   ],
   "source": [
    "plt.plot(meses, vendas_meses)\n",
    "plt.ylabel('Vendas')\n",
    "plt.xlabel('Meses')\n",
    "plt.axis([0, 12, 0, max(vendas_meses)+ 500])\n",
    "plt.show()"
   ]
  },
  {
   "cell_type": "code",
   "execution_count": null,
   "id": "52b1f3b8",
   "metadata": {},
   "outputs": [],
   "source": []
  }
 ],
 "metadata": {
  "kernelspec": {
   "display_name": "Python 3 (ipykernel)",
   "language": "python",
   "name": "python3"
  },
  "language_info": {
   "codemirror_mode": {
    "name": "ipython",
    "version": 3
   },
   "file_extension": ".py",
   "mimetype": "text/x-python",
   "name": "python",
   "nbconvert_exporter": "python",
   "pygments_lexer": "ipython3",
   "version": "3.9.7"
  }
 },
 "nbformat": 4,
 "nbformat_minor": 5
}
