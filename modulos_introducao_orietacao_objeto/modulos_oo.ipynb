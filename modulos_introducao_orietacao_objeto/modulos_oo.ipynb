{
 "cells": [
  {
   "cell_type": "markdown",
   "id": "52131f0d",
   "metadata": {},
   "source": [
    "# Introdução a Orientaçao a Objeto\n",
    "## Regras Gerais:\n",
    "- Tudo em python é um objeto\n",
    "    - string é objeto\n",
    "    - lista é objeto\n",
    "    - dicionários são objetos"
   ]
  },
  {
   "cell_type": "markdown",
   "id": "0920a403",
   "metadata": {},
   "source": [
    "## Comparação Clássica\n",
    "- Pense no controle remoto de uma televisão.\n",
    "    - O controle é um objeto\n",
    "    - Cada botão dele é um comando, um método.\n",
    "    - Cada método faz uma ação especifica\n",
    "        - Por trás de cada método (dentro do controle) podem acontecer milhares de coisas quando você aperta um botão, mas no fundo você esta cagando para isso, só que que o botão faça o que você mandou quando clicou no botão."
   ]
  },
  {
   "cell_type": "markdown",
   "id": "c7d5f6f9",
   "metadata": {},
   "source": [
    "## Em termos práticos no Python\n",
    "- isso significa que todos eles tem métodos especificos, ou seja, já existe programado no Python várias coisas que você consegue fazer com ele\n",
    "    - Exemplo: strings\n",
    "        - Quando no python criaram a string, eles programaram lá em qualquer lugar que texto[i] vai te dar o caracter na posição i do texto.\n",
    "        - Também criaram o metodo texto.upper() que torna toda string em maiusculoa.\n",
    "        - também criaram o método texto.casefold() que coloca tudo em letre minuscula.\n",
    "    - Em termos práticos, você já deve ter reparado que fazemos muit coisas do tipo variavel.metodo()\n",
    "        - 'produto {}: {} unidades vendidas'.format(produto, quantidade)\n",
    "        - lista.append('aldhalshd')\n",
    "        - texto.count()"
   ]
  },
  {
   "cell_type": "markdown",
   "id": "bab97902",
   "metadata": {},
   "source": [
    "## E para onde vamos com isso agora? qual a grande vantagem?\n",
    "- A vantagem é que agora vamos aprender a importar módulos novos.\n",
    "- Então tem muitas coisas que já estão prontas no Python que a gente não precisamos programar do zero. Que vamos simplesmente usar.\n",
    "- Quando importamos algo, na pratica o que fazemos é importar um ou mais objetos que tem varios metodos ja prontos."
   ]
  },
  {
   "cell_type": "markdown",
   "id": "85982f5f",
   "metadata": {},
   "source": [
    "# O que são módulos e qual a importância deles?\n",
    "## Importância\n",
    "- Já tem muita coisa pronta, então você nem precisa criar do zero\n",
    "- Se você souber usar Módulos e como usar um módulo, você vai conseguir fazer praticamente tudo em Python\n",
    "## Estrutura Básica\n",
    "```\n",
    "import módulo\n",
    "ou \n",
    "import módulo as nome\n",
    "```\n",
    "- Exemplo: como pode fazer nosso código abrir um site especifico na internet"
   ]
  },
  {
   "cell_type": "code",
   "execution_count": 1,
   "id": "faf358b0",
   "metadata": {},
   "outputs": [
    {
     "data": {
      "text/plain": [
       "True"
      ]
     },
     "execution_count": 1,
     "metadata": {},
     "output_type": "execute_result"
    }
   ],
   "source": [
    "import webbrowser as wb\n",
    "wb.open(\"https://www.google.com.br/\")"
   ]
  },
  {
   "cell_type": "markdown",
   "id": "c89e8d43",
   "metadata": {},
   "source": [
    "## Variações\n",
    "```\n",
    "# importar o modulo sem precusar usar o nome dele\n",
    "from modulo import *\n",
    "#importar apenas algumas partes do módulo\n",
    "from modulo inport funcao1, funcao2, funcao3 \n",
    "```"
   ]
  },
  {
   "cell_type": "code",
   "execution_count": 2,
   "id": "5deb3a74",
   "metadata": {},
   "outputs": [
    {
     "data": {
      "text/plain": [
       "True"
      ]
     },
     "execution_count": 2,
     "metadata": {},
     "output_type": "execute_result"
    }
   ],
   "source": [
    "from webbrowser import open\n",
    "open(\"https://www.google.com.br/\")"
   ]
  },
  {
   "cell_type": "markdown",
   "id": "691d6ff7",
   "metadata": {},
   "source": [
    "# Começando a ler um modulo\n",
    "## Vamos testar com mo modulo WebBrowser:\n",
    "- passo 1: Descobrir qual modulos precisamos usar e qual o metodo do modulo faz o que queremos.\n",
    "- passo 2: Se precisarmos de mais alguma coisa do modulo, buscamos por soluções ja escolhendo o módulo"
   ]
  },
  {
   "cell_type": "code",
   "execution_count": null,
   "id": "87475348",
   "metadata": {},
   "outputs": [],
   "source": [
    "import webbrowseras as wb\n",
    "wb.open('https://www.google.com.br/')"
   ]
  },
  {
   "cell_type": "markdown",
   "id": "0a3eeb9d",
   "metadata": {},
   "source": [
    "# Modulo time\n",
    "## Estrutura:\n",
    "- Um dos modulos mais usados no Python. Tudo que diz respeito a data a marcar quanto tempo leva alguma ação, ou o tempo mesmo, o modulo time vai nos ajudar"
   ]
  },
  {
   "cell_type": "code",
   "execution_count": 3,
   "id": "7a884068",
   "metadata": {},
   "outputs": [],
   "source": [
    "import time"
   ]
  },
  {
   "cell_type": "markdown",
   "id": "ecd39d37",
   "metadata": {},
   "source": [
    "- Marco Zero (chamado de EPOCH) = 1 de janeiro de 1970 às 00:00:00\n",
    "- time() retorna quantos segundos se passaram desde a EPOCH"
   ]
  },
  {
   "cell_type": "code",
   "execution_count": 4,
   "id": "7f505b37",
   "metadata": {},
   "outputs": [
    {
     "name": "stdout",
     "output_type": "stream",
     "text": [
      "1642977872.1492448\n"
     ]
    }
   ],
   "source": [
    "segundo_hoje = time.time()\n",
    "print(segundo_hoje)"
   ]
  },
  {
   "cell_type": "markdown",
   "id": "54c43613",
   "metadata": {},
   "source": [
    "- ctime retorna a data em string o texto no formato UTC (um formato padrão de datas)"
   ]
  },
  {
   "cell_type": "code",
   "execution_count": 5,
   "id": "3a12625f",
   "metadata": {},
   "outputs": [
    {
     "name": "stdout",
     "output_type": "stream",
     "text": [
      "Sun Jan 23 18:45:25 2022\n"
     ]
    }
   ],
   "source": [
    "data_hoje = time.ctime()\n",
    "print(data_hoje)"
   ]
  },
  {
   "cell_type": "markdown",
   "id": "c33d045f",
   "metadata": {},
   "source": [
    "- Isso já pode ser muito útil para medir o tempo que uma ação leva, caso seja do interesse:"
   ]
  },
  {
   "cell_type": "code",
   "execution_count": 7,
   "id": "f7a8e9d1",
   "metadata": {},
   "outputs": [
    {
     "name": "stdout",
     "output_type": "stream",
     "text": [
      "O programa levou 2.9786758422851562 segundos para rodar.\n"
     ]
    }
   ],
   "source": [
    "tempo_inicial = time.time()\n",
    "for i in range(100000000):\n",
    "    pass\n",
    "tempo_final = time.time()\n",
    "duracao = tempo_final - tempo_inicial\n",
    "print(f'O programa levou {duracao} segundos para rodar.')"
   ]
  },
  {
   "cell_type": "markdown",
   "id": "57bbbb72",
   "metadata": {},
   "source": [
    "- Fazer o codigo esperar alguns segundos (muito util quando temos que esperar um programa ou uma página carregar)"
   ]
  },
  {
   "cell_type": "code",
   "execution_count": 8,
   "id": "922e99bb",
   "metadata": {},
   "outputs": [
    {
     "name": "stdout",
     "output_type": "stream",
     "text": [
      "Começando\n",
      "Rodou 5 segundos após\n"
     ]
    }
   ],
   "source": [
    "print('Começando')\n",
    "time.sleep(5)\n",
    "print('Rodou 5 segundos após')"
   ]
  },
  {
   "cell_type": "markdown",
   "id": "d20c85b3",
   "metadata": {},
   "source": [
    "- Pegar informações de dias, horas, segundo, minuto, tudo detalhado:\n",
    "- gmtime()\n",
    "- gmtime().parametro"
   ]
  },
  {
   "cell_type": "code",
   "execution_count": 9,
   "id": "c50af5ef",
   "metadata": {},
   "outputs": [
    {
     "name": "stdout",
     "output_type": "stream",
     "text": [
      "time.struct_time(tm_year=2022, tm_mon=1, tm_mday=23, tm_hour=22, tm_min=55, tm_sec=5, tm_wday=6, tm_yday=23, tm_isdst=0)\n"
     ]
    }
   ],
   "source": [
    "data_atual = time.gmtime()\n",
    "print(data_atual)"
   ]
  },
  {
   "cell_type": "markdown",
   "id": "72d0f0ac",
   "metadata": {},
   "source": [
    "- É um objeto diferente, mas podemos pegar os parametros de ano, mes, dia etc:"
   ]
  },
  {
   "cell_type": "code",
   "execution_count": 10,
   "id": "7f2e722a",
   "metadata": {},
   "outputs": [
    {
     "name": "stdout",
     "output_type": "stream",
     "text": [
      "Hoje é dia 23/1/2022, dia semana: 6\n"
     ]
    }
   ],
   "source": [
    "ano = data_atual.tm_year\n",
    "mes = data_atual.tm_mon\n",
    "dia = data_atual.tm_mday\n",
    "hora = data_atual.tm_hour\n",
    "dia_da_semana = data_atual.tm_wday\n",
    "print(f'Hoje é dia {dia}/{mes}/{ano}, dia semana: {dia_da_semana}')"
   ]
  },
  {
   "cell_type": "code",
   "execution_count": null,
   "id": "652e1e56",
   "metadata": {},
   "outputs": [],
   "source": []
  }
 ],
 "metadata": {
  "kernelspec": {
   "display_name": "Python 3 (ipykernel)",
   "language": "python",
   "name": "python3"
  },
  "language_info": {
   "codemirror_mode": {
    "name": "ipython",
    "version": 3
   },
   "file_extension": ".py",
   "mimetype": "text/x-python",
   "name": "python",
   "nbconvert_exporter": "python",
   "pygments_lexer": "ipython3",
   "version": "3.9.7"
  }
 },
 "nbformat": 4,
 "nbformat_minor": 5
}
