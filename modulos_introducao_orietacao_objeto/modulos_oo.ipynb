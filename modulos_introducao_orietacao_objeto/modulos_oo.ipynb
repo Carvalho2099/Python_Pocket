{
 "cells": [
  {
   "cell_type": "markdown",
   "id": "02371cff",
   "metadata": {},
   "source": [
    "# Introdução a Orientaçao a Objeto\n",
    "## Regras Gerais:\n",
    "- Tudo em python é um objeto\n",
    "    - string é objeto\n",
    "    - lista é objeto\n",
    "    - dicionários são objetos"
   ]
  },
  {
   "cell_type": "markdown",
   "id": "c02e1ffb",
   "metadata": {},
   "source": [
    "## Comparação Clássica\n",
    "- Pense no controle remoto de uma televisão.\n",
    "    - O controle é um objeto\n",
    "    - Cada botão dele é um comando, um método.\n",
    "    - Cada método faz uma ação especifica\n",
    "        - Por trás de cada método (dentro do controle) podem acontecer milhares de coisas quando você aperta um botão, mas no fundo você esta cagando para isso, só que que o botão faça o que você mandou quando clicou no botão."
   ]
  },
  {
   "cell_type": "markdown",
   "id": "7182f6b9",
   "metadata": {},
   "source": [
    "## Em termos práticos no Python\n",
    "- isso significa que todos eles tem métodos especificos, ou seja, já existe programado no Python várias coisas que você consegue fazer com ele\n",
    "    - Exemplo: strings\n",
    "        - Quando no python criaram a string, eles programaram lá em qualquer lugar que texto[i] vai te dar o caracter na posição i do texto.\n",
    "        - Também criaram o metodo texto.upper() que torna toda string em maiusculoa.\n",
    "        - também criaram o método texto.casefold() que coloca tudo em letre minuscula.\n",
    "    - Em termos práticos, você já deve ter reparado que fazemos muit coisas do tipo variavel.metodo()\n",
    "        - 'produto {}: {} unidades vendidas'.format(produto, quantidade)\n",
    "        - lista.append('aldhalshd')\n",
    "        - texto.count()"
   ]
  },
  {
   "cell_type": "markdown",
   "id": "b8489e25",
   "metadata": {},
   "source": [
    "## E para onde vamos com isso agora? qual a grande vantagem?\n",
    "- A vantagem é que agora vamos aprender a importar módulos novos.\n",
    "- Então tem muitas coisas que já estão prontas no Python que a gente não precisamos programar do zero. Que vamos simplesmente usar.\n",
    "- Quando importamos algo, na pratica o que fazemos é importar um ou mais objetos que tem varios metodos ja prontos."
   ]
  },
  {
   "cell_type": "markdown",
   "id": "11fffa09",
   "metadata": {},
   "source": [
    "# O que são módulos e qual a importância deles?\n",
    "## Importância\n",
    "- Já tem muita coisa pronta, então você nem precisa criar do zero\n",
    "- Se você souber usar Módulos e como usar um módulo, você vai conseguir fazer praticamente tudo em Python\n",
    "## Estrutura Básica\n",
    "```\n",
    "import módulo\n",
    "ou \n",
    "import módulo as nome\n",
    "```\n",
    "- Exemplo: como pode fazer nosso código abrir um site especifico na internet"
   ]
  },
  {
   "cell_type": "code",
   "execution_count": 1,
   "id": "738326ed",
   "metadata": {},
   "outputs": [
    {
     "data": {
      "text/plain": [
       "True"
      ]
     },
     "execution_count": 1,
     "metadata": {},
     "output_type": "execute_result"
    }
   ],
   "source": [
    "import webbrowser as wb\n",
    "wb.open(\"https://www.google.com.br/\")"
   ]
  },
  {
   "cell_type": "markdown",
   "id": "f59d28c2",
   "metadata": {},
   "source": [
    "## Variações\n",
    "```\n",
    "# importar o modulo sem precusar usar o nome dele\n",
    "from modulo import *\n",
    "#importar apenas algumas partes do módulo\n",
    "from modulo inport funcao1, funcao2, funcao3 \n",
    "```"
   ]
  },
  {
   "cell_type": "code",
   "execution_count": 2,
   "id": "1d8a65c2",
   "metadata": {},
   "outputs": [
    {
     "data": {
      "text/plain": [
       "True"
      ]
     },
     "execution_count": 2,
     "metadata": {},
     "output_type": "execute_result"
    }
   ],
   "source": [
    "from webbrowser import open\n",
    "open(\"https://www.google.com.br/\")"
   ]
  },
  {
   "cell_type": "code",
   "execution_count": null,
   "id": "3634e304",
   "metadata": {},
   "outputs": [],
   "source": []
  }
 ],
 "metadata": {
  "kernelspec": {
   "display_name": "Python 3 (ipykernel)",
   "language": "python",
   "name": "python3"
  },
  "language_info": {
   "codemirror_mode": {
    "name": "ipython",
    "version": 3
   },
   "file_extension": ".py",
   "mimetype": "text/x-python",
   "name": "python",
   "nbconvert_exporter": "python",
   "pygments_lexer": "ipython3",
   "version": "3.9.7"
  }
 },
 "nbformat": 4,
 "nbformat_minor": 5
}
